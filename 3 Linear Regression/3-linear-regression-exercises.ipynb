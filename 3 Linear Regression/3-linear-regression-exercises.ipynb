{
 "cells": [
  {
   "cell_type": "markdown",
   "metadata": {},
   "source": [
    "# 3.7 Exercises <a name=\"exercises\"></a>\n",
    "\n",
    "The following notebook contains exercises 9, 10, 13 for the 'Linear Regression' chapter of ISLR book."
   ]
  },
  {
   "cell_type": "markdown",
   "metadata": {},
   "source": [
    "## Question 9\n",
    "This question involves the use of multiple linear regression on the `Auto` data set."
   ]
  },
  {
   "cell_type": "code",
   "execution_count": 2,
   "metadata": {},
   "outputs": [],
   "source": [
    "library(MASS)\n",
    "library(ISLR)\n",
    "\n",
    "# load the Auto dataset\n",
    "attach(Auto)"
   ]
  },
  {
   "cell_type": "code",
   "execution_count": 3,
   "metadata": {
    "toc-hr-collapsed": false
   },
   "outputs": [
    {
     "data": {
      "text/html": [
       "\n",
       "<table width=\"100%\" summary=\"page for Auto {ISLR}\"><tr><td>Auto {ISLR}</td><td style=\"text-align: right;\">R Documentation</td></tr></table>\n",
       "\n",
       "<h2>\n",
       "Auto Data Set\n",
       "</h2>\n",
       "\n",
       "<h3>Description</h3>\n",
       "\n",
       "<p>Gas mileage, horsepower, and other information for 392 vehicles.</p>\n",
       "\n",
       "\n",
       "<h3>Usage</h3>\n",
       "\n",
       "<pre>Auto</pre>\n",
       "\n",
       "\n",
       "<h3>Format</h3>\n",
       "\n",
       "<p>A data frame with 392 observations on the following 9 variables.\n",
       "</p>\n",
       "\n",
       "<dl>\n",
       "<dt><code>mpg</code></dt><dd><p>miles per gallon</p>\n",
       "</dd>\n",
       "<dt><code>cylinders</code></dt><dd><p>Number of cylinders between 4 and 8</p>\n",
       "</dd>\n",
       "<dt><code>displacement</code></dt><dd><p>Engine displacement (cu. inches)</p>\n",
       "</dd>\n",
       "<dt><code>horsepower</code></dt><dd><p>Engine horsepower</p>\n",
       "</dd>\n",
       "<dt><code>weight</code></dt><dd><p>Vehicle weight (lbs.)</p>\n",
       "</dd>\n",
       "<dt><code>acceleration</code></dt><dd><p>Time to accelerate from 0 to 60 mph (sec.)</p>\n",
       "</dd>\n",
       "<dt><code>year</code></dt><dd><p>Model year (modulo 100)</p>\n",
       "</dd>\n",
       "<dt><code>origin</code></dt><dd><p>Origin of car (1. American, 2. European, 3. Japanese)</p>\n",
       "</dd>\n",
       "<dt><code>name</code></dt><dd><p>Vehicle name</p>\n",
       "</dd></dl>\n",
       "\n",
       "<p>The orginal data contained 408 observations but 16 observations with\n",
       "missing values were removed.</p>\n",
       "\n",
       "\n",
       "<h3>Source</h3>\n",
       "\n",
       "<p>This dataset was taken from the StatLib library which is maintained at Carnegie Mellon University. The dataset was used in the 1983 American Statistical Association Exposition.\n",
       "</p>\n",
       "\n",
       "\n",
       "<h3>References</h3>\n",
       "\n",
       "<p>James, G., Witten, D., Hastie, T., and Tibshirani, R. (2013)\n",
       "<em>An Introduction to Statistical Learning with applications in R</em>,\n",
       "<a href=\"www.StatLearning.com\">www.StatLearning.com</a>,\n",
       "Springer-Verlag, New York\n",
       "</p>\n",
       "\n",
       "\n",
       "<h3>Examples</h3>\n",
       "\n",
       "<pre>\n",
       "pairs(Auto)\n",
       "attach(Auto)\n",
       "hist(mpg)\n",
       "</pre>\n",
       "\n",
       "<hr /><div style=\"text-align: center;\">[Package <em>ISLR</em> version 1.2 ]</div>"
      ],
      "text/latex": [
       "\\inputencoding{utf8}\n",
       "\\HeaderA{Auto}{Auto Data Set}{Auto}\n",
       "\\keyword{datasets}{Auto}\n",
       "%\n",
       "\\begin{Description}\\relax\n",
       "Gas mileage, horsepower, and other information for 392 vehicles.\n",
       "\\end{Description}\n",
       "%\n",
       "\\begin{Usage}\n",
       "\\begin{verbatim}\n",
       "Auto\n",
       "\\end{verbatim}\n",
       "\\end{Usage}\n",
       "%\n",
       "\\begin{Format}\n",
       "A data frame with 392 observations on the following 9 variables.\n",
       "\\begin{description}\n",
       "\n",
       "\\item[\\code{mpg}] miles per gallon\n",
       "\\item[\\code{cylinders}] Number of cylinders between 4 and 8\n",
       "\\item[\\code{displacement}] Engine displacement (cu. inches)\n",
       "\\item[\\code{horsepower}] Engine horsepower\n",
       "\\item[\\code{weight}] Vehicle weight (lbs.)\n",
       "\\item[\\code{acceleration}] Time to accelerate from 0 to 60 mph (sec.)\n",
       "\\item[\\code{year}] Model year (modulo 100)\n",
       "\\item[\\code{origin}] Origin of car (1. American, 2. European, 3. Japanese)\n",
       "\\item[\\code{name}] Vehicle name\n",
       "\\end{description}\n",
       "\n",
       "\n",
       "The orginal data contained 408 observations but 16 observations with\n",
       "missing values were removed.\n",
       "\\end{Format}\n",
       "%\n",
       "\\begin{Source}\\relax\n",
       "This dataset was taken from the StatLib library which is maintained at Carnegie Mellon University. The dataset was used in the 1983 American Statistical Association Exposition.\n",
       "\\end{Source}\n",
       "%\n",
       "\\begin{References}\\relax\n",
       "James, G., Witten, D., Hastie, T., and Tibshirani, R. (2013)\n",
       "\\emph{An Introduction to Statistical Learning with applications in R},\n",
       "\\url{www.StatLearning.com},\n",
       "Springer-Verlag, New York\n",
       "\\end{References}\n",
       "%\n",
       "\\begin{Examples}\n",
       "\\begin{ExampleCode}\n",
       "pairs(Auto)\n",
       "attach(Auto)\n",
       "hist(mpg)\n",
       "\\end{ExampleCode}\n",
       "\\end{Examples}"
      ],
      "text/plain": [
       "Auto                   package:ISLR                    R Documentation\n",
       "\n",
       "_\bA_\bu_\bt_\bo _\bD_\ba_\bt_\ba _\bS_\be_\bt\n",
       "\n",
       "_\bD_\be_\bs_\bc_\br_\bi_\bp_\bt_\bi_\bo_\bn:\n",
       "\n",
       "     Gas mileage, horsepower, and other information for 392 vehicles.\n",
       "\n",
       "_\bU_\bs_\ba_\bg_\be:\n",
       "\n",
       "     Auto\n",
       "     \n",
       "_\bF_\bo_\br_\bm_\ba_\bt:\n",
       "\n",
       "     A data frame with 392 observations on the following 9 variables.\n",
       "\n",
       "     'mpg' miles per gallon\n",
       "\n",
       "     'cylinders' Number of cylinders between 4 and 8\n",
       "\n",
       "     'displacement' Engine displacement (cu. inches)\n",
       "\n",
       "     'horsepower' Engine horsepower\n",
       "\n",
       "     'weight' Vehicle weight (lbs.)\n",
       "\n",
       "     'acceleration' Time to accelerate from 0 to 60 mph (sec.)\n",
       "\n",
       "     'year' Model year (modulo 100)\n",
       "\n",
       "     'origin' Origin of car (1. American, 2. European, 3. Japanese)\n",
       "\n",
       "     'name' Vehicle name\n",
       "\n",
       "     The orginal data contained 408 observations but 16 observations\n",
       "     with missing values were removed.\n",
       "\n",
       "_\bS_\bo_\bu_\br_\bc_\be:\n",
       "\n",
       "     This dataset was taken from the StatLib library which is\n",
       "     maintained at Carnegie Mellon University. The dataset was used in\n",
       "     the 1983 American Statistical Association Exposition.\n",
       "\n",
       "_\bR_\be_\bf_\be_\br_\be_\bn_\bc_\be_\bs:\n",
       "\n",
       "     James, G., Witten, D., Hastie, T., and Tibshirani, R. (2013) _An\n",
       "     Introduction to Statistical Learning with applications in R_,\n",
       "     <URL: www.StatLearning.com>, Springer-Verlag, New York\n",
       "\n",
       "_\bE_\bx_\ba_\bm_\bp_\bl_\be_\bs:\n",
       "\n",
       "     pairs(Auto)\n",
       "     attach(Auto)\n",
       "     hist(mpg)\n",
       "     "
      ]
     },
     "metadata": {},
     "output_type": "display_data"
    }
   ],
   "source": [
    "# let's explore more our dataset\n",
    "?Auto"
   ]
  },
  {
   "cell_type": "code",
   "execution_count": 23,
   "metadata": {},
   "outputs": [
    {
     "data": {
      "text/html": [
       "<table>\n",
       "<thead><tr><th scope=col>mpg</th><th scope=col>cylinders</th><th scope=col>displacement</th><th scope=col>horsepower</th><th scope=col>weight</th><th scope=col>acceleration</th><th scope=col>year</th><th scope=col>origin</th><th scope=col>name</th></tr></thead>\n",
       "<tbody>\n",
       "\t<tr><td>18                       </td><td>8                        </td><td>307                      </td><td>130                      </td><td>3504                     </td><td>12.0                     </td><td>70                       </td><td>1                        </td><td>chevrolet chevelle malibu</td></tr>\n",
       "\t<tr><td>15                       </td><td>8                        </td><td>350                      </td><td>165                      </td><td>3693                     </td><td>11.5                     </td><td>70                       </td><td>1                        </td><td>buick skylark 320        </td></tr>\n",
       "\t<tr><td>18                       </td><td>8                        </td><td>318                      </td><td>150                      </td><td>3436                     </td><td>11.0                     </td><td>70                       </td><td>1                        </td><td>plymouth satellite       </td></tr>\n",
       "\t<tr><td>16                       </td><td>8                        </td><td>304                      </td><td>150                      </td><td>3433                     </td><td>12.0                     </td><td>70                       </td><td>1                        </td><td>amc rebel sst            </td></tr>\n",
       "\t<tr><td>17                       </td><td>8                        </td><td>302                      </td><td>140                      </td><td>3449                     </td><td>10.5                     </td><td>70                       </td><td>1                        </td><td>ford torino              </td></tr>\n",
       "\t<tr><td>15                       </td><td>8                        </td><td>429                      </td><td>198                      </td><td>4341                     </td><td>10.0                     </td><td>70                       </td><td>1                        </td><td>ford galaxie 500         </td></tr>\n",
       "</tbody>\n",
       "</table>\n"
      ],
      "text/latex": [
       "\\begin{tabular}{r|lllllllll}\n",
       " mpg & cylinders & displacement & horsepower & weight & acceleration & year & origin & name\\\\\n",
       "\\hline\n",
       "\t 18                        & 8                         & 307                       & 130                       & 3504                      & 12.0                      & 70                        & 1                         & chevrolet chevelle malibu\\\\\n",
       "\t 15                        & 8                         & 350                       & 165                       & 3693                      & 11.5                      & 70                        & 1                         & buick skylark 320        \\\\\n",
       "\t 18                        & 8                         & 318                       & 150                       & 3436                      & 11.0                      & 70                        & 1                         & plymouth satellite       \\\\\n",
       "\t 16                        & 8                         & 304                       & 150                       & 3433                      & 12.0                      & 70                        & 1                         & amc rebel sst            \\\\\n",
       "\t 17                        & 8                         & 302                       & 140                       & 3449                      & 10.5                      & 70                        & 1                         & ford torino              \\\\\n",
       "\t 15                        & 8                         & 429                       & 198                       & 4341                      & 10.0                      & 70                        & 1                         & ford galaxie 500         \\\\\n",
       "\\end{tabular}\n"
      ],
      "text/markdown": [
       "\n",
       "| mpg | cylinders | displacement | horsepower | weight | acceleration | year | origin | name |\n",
       "|---|---|---|---|---|---|---|---|---|\n",
       "| 18                        | 8                         | 307                       | 130                       | 3504                      | 12.0                      | 70                        | 1                         | chevrolet chevelle malibu |\n",
       "| 15                        | 8                         | 350                       | 165                       | 3693                      | 11.5                      | 70                        | 1                         | buick skylark 320         |\n",
       "| 18                        | 8                         | 318                       | 150                       | 3436                      | 11.0                      | 70                        | 1                         | plymouth satellite        |\n",
       "| 16                        | 8                         | 304                       | 150                       | 3433                      | 12.0                      | 70                        | 1                         | amc rebel sst             |\n",
       "| 17                        | 8                         | 302                       | 140                       | 3449                      | 10.5                      | 70                        | 1                         | ford torino               |\n",
       "| 15                        | 8                         | 429                       | 198                       | 4341                      | 10.0                      | 70                        | 1                         | ford galaxie 500          |\n",
       "\n"
      ],
      "text/plain": [
       "  mpg cylinders displacement horsepower weight acceleration year origin\n",
       "1 18  8         307          130        3504   12.0         70   1     \n",
       "2 15  8         350          165        3693   11.5         70   1     \n",
       "3 18  8         318          150        3436   11.0         70   1     \n",
       "4 16  8         304          150        3433   12.0         70   1     \n",
       "5 17  8         302          140        3449   10.5         70   1     \n",
       "6 15  8         429          198        4341   10.0         70   1     \n",
       "  name                     \n",
       "1 chevrolet chevelle malibu\n",
       "2 buick skylark 320        \n",
       "3 plymouth satellite       \n",
       "4 amc rebel sst            \n",
       "5 ford torino              \n",
       "6 ford galaxie 500         "
      ]
     },
     "metadata": {},
     "output_type": "display_data"
    }
   ],
   "source": [
    "# check dataframe\n",
    "head(Auto)"
   ]
  },
  {
   "cell_type": "markdown",
   "metadata": {},
   "source": [
    "Let's look at the dataset distributions as well. This will give us a better feel for the features."
   ]
  },
  {
   "cell_type": "code",
   "execution_count": 47,
   "metadata": {},
   "outputs": [
    {
     "data": {
      "image/png": "[encoded data removed]",
      "text/plain": [
       "Plot with title \"`year` distribution\""
      ]
     },
     "metadata": {},
     "output_type": "display_data"
    }
   ],
   "source": [
    "par(mfrow=c(3,3))\n",
    "hist(Auto$mpg, main=\"`mpg` distribution\")\n",
    "hist(Auto$acceleration, main=\"`acceleration` distribution\")\n",
    "hist(Auto$cylinders, main=\"`cylinders` distribution\")\n",
    "hist(Auto$displacement, main=\"`displacement` distribution\")\n",
    "hist(Auto$horsepower, main=\"`horsepower` distribution\")\n",
    "hist(Auto$origin, main=\"`origin` distribution\")\n",
    "hist(Auto$weight, main=\"`weight` distribution\")\n",
    "hist(Auto$year, main=\"`year` distribution\")"
   ]
  },
  {
   "cell_type": "markdown",
   "metadata": {},
   "source": [
    "### Step (a)"
   ]
  },
  {
   "cell_type": "markdown",
   "metadata": {},
   "source": [
    "> Produce a scatterplot matrix which includes all of the variables in the data set."
   ]
  },
  {
   "cell_type": "code",
   "execution_count": 5,
   "metadata": {},
   "outputs": [
    {
     "data": {
      "image/png": "[encoded data removed]",
      "text/plain": [
       "plot without title"
      ]
     },
     "metadata": {},
     "output_type": "display_data"
    }
   ],
   "source": [
    "plot(Auto)"
   ]
  },
  {
   "cell_type": "markdown",
   "metadata": {},
   "source": [
    "### Step (b)\n",
    "\n",
    "> Compute the matrix of correlations between the variables using the function `cor()`. You will need to exclude the name variable, `cor()` which is qualitative."
   ]
  },
  {
   "cell_type": "code",
   "execution_count": 6,
   "metadata": {},
   "outputs": [
    {
     "data": {
      "text/html": [
       "<table>\n",
       "<thead><tr><th></th><th scope=col>mpg</th><th scope=col>cylinders</th><th scope=col>displacement</th><th scope=col>horsepower</th><th scope=col>weight</th><th scope=col>acceleration</th><th scope=col>year</th><th scope=col>origin</th></tr></thead>\n",
       "<tbody>\n",
       "\t<tr><th scope=row>mpg</th><td> 1.0000000</td><td>-0.7776175</td><td>-0.8051269</td><td>-0.7784268</td><td>-0.8322442</td><td> 0.4233285</td><td> 0.5805410</td><td> 0.5652088</td></tr>\n",
       "\t<tr><th scope=row>cylinders</th><td>-0.7776175</td><td> 1.0000000</td><td> 0.9508233</td><td> 0.8429834</td><td> 0.8975273</td><td>-0.5046834</td><td>-0.3456474</td><td>-0.5689316</td></tr>\n",
       "\t<tr><th scope=row>displacement</th><td>-0.8051269</td><td> 0.9508233</td><td> 1.0000000</td><td> 0.8972570</td><td> 0.9329944</td><td>-0.5438005</td><td>-0.3698552</td><td>-0.6145351</td></tr>\n",
       "\t<tr><th scope=row>horsepower</th><td>-0.7784268</td><td> 0.8429834</td><td> 0.8972570</td><td> 1.0000000</td><td> 0.8645377</td><td>-0.6891955</td><td>-0.4163615</td><td>-0.4551715</td></tr>\n",
       "\t<tr><th scope=row>weight</th><td>-0.8322442</td><td> 0.8975273</td><td> 0.9329944</td><td> 0.8645377</td><td> 1.0000000</td><td>-0.4168392</td><td>-0.3091199</td><td>-0.5850054</td></tr>\n",
       "\t<tr><th scope=row>acceleration</th><td> 0.4233285</td><td>-0.5046834</td><td>-0.5438005</td><td>-0.6891955</td><td>-0.4168392</td><td> 1.0000000</td><td> 0.2903161</td><td> 0.2127458</td></tr>\n",
       "\t<tr><th scope=row>year</th><td> 0.5805410</td><td>-0.3456474</td><td>-0.3698552</td><td>-0.4163615</td><td>-0.3091199</td><td> 0.2903161</td><td> 1.0000000</td><td> 0.1815277</td></tr>\n",
       "\t<tr><th scope=row>origin</th><td> 0.5652088</td><td>-0.5689316</td><td>-0.6145351</td><td>-0.4551715</td><td>-0.5850054</td><td> 0.2127458</td><td> 0.1815277</td><td> 1.0000000</td></tr>\n",
       "</tbody>\n",
       "</table>\n"
      ],
      "text/latex": [
       "\\begin{tabular}{r|llllllll}\n",
       "  & mpg & cylinders & displacement & horsepower & weight & acceleration & year & origin\\\\\n",
       "\\hline\n",
       "\tmpg &  1.0000000 & -0.7776175 & -0.8051269 & -0.7784268 & -0.8322442 &  0.4233285 &  0.5805410 &  0.5652088\\\\\n",
       "\tcylinders & -0.7776175 &  1.0000000 &  0.9508233 &  0.8429834 &  0.8975273 & -0.5046834 & -0.3456474 & -0.5689316\\\\\n",
       "\tdisplacement & -0.8051269 &  0.9508233 &  1.0000000 &  0.8972570 &  0.9329944 & -0.5438005 & -0.3698552 & -0.6145351\\\\\n",
       "\thorsepower & -0.7784268 &  0.8429834 &  0.8972570 &  1.0000000 &  0.8645377 & -0.6891955 & -0.4163615 & -0.4551715\\\\\n",
       "\tweight & -0.8322442 &  0.8975273 &  0.9329944 &  0.8645377 &  1.0000000 & -0.4168392 & -0.3091199 & -0.5850054\\\\\n",
       "\tacceleration &  0.4233285 & -0.5046834 & -0.5438005 & -0.6891955 & -0.4168392 &  1.0000000 &  0.2903161 &  0.2127458\\\\\n",
       "\tyear &  0.5805410 & -0.3456474 & -0.3698552 & -0.4163615 & -0.3091199 &  0.2903161 &  1.0000000 &  0.1815277\\\\\n",
       "\torigin &  0.5652088 & -0.5689316 & -0.6145351 & -0.4551715 & -0.5850054 &  0.2127458 &  0.1815277 &  1.0000000\\\\\n",
       "\\end{tabular}\n"
      ],
      "text/markdown": [
       "\n",
       "| <!--/--> | mpg | cylinders | displacement | horsepower | weight | acceleration | year | origin |\n",
       "|---|---|---|---|---|---|---|---|---|\n",
       "| mpg |  1.0000000 | -0.7776175 | -0.8051269 | -0.7784268 | -0.8322442 |  0.4233285 |  0.5805410 |  0.5652088 |\n",
       "| cylinders | -0.7776175 |  1.0000000 |  0.9508233 |  0.8429834 |  0.8975273 | -0.5046834 | -0.3456474 | -0.5689316 |\n",
       "| displacement | -0.8051269 |  0.9508233 |  1.0000000 |  0.8972570 |  0.9329944 | -0.5438005 | -0.3698552 | -0.6145351 |\n",
       "| horsepower | -0.7784268 |  0.8429834 |  0.8972570 |  1.0000000 |  0.8645377 | -0.6891955 | -0.4163615 | -0.4551715 |\n",
       "| weight | -0.8322442 |  0.8975273 |  0.9329944 |  0.8645377 |  1.0000000 | -0.4168392 | -0.3091199 | -0.5850054 |\n",
       "| acceleration |  0.4233285 | -0.5046834 | -0.5438005 | -0.6891955 | -0.4168392 |  1.0000000 |  0.2903161 |  0.2127458 |\n",
       "| year |  0.5805410 | -0.3456474 | -0.3698552 | -0.4163615 | -0.3091199 |  0.2903161 |  1.0000000 |  0.1815277 |\n",
       "| origin |  0.5652088 | -0.5689316 | -0.6145351 | -0.4551715 | -0.5850054 |  0.2127458 |  0.1815277 |  1.0000000 |\n",
       "\n"
      ],
      "text/plain": [
       "             mpg        cylinders  displacement horsepower weight    \n",
       "mpg           1.0000000 -0.7776175 -0.8051269   -0.7784268 -0.8322442\n",
       "cylinders    -0.7776175  1.0000000  0.9508233    0.8429834  0.8975273\n",
       "displacement -0.8051269  0.9508233  1.0000000    0.8972570  0.9329944\n",
       "horsepower   -0.7784268  0.8429834  0.8972570    1.0000000  0.8645377\n",
       "weight       -0.8322442  0.8975273  0.9329944    0.8645377  1.0000000\n",
       "acceleration  0.4233285 -0.5046834 -0.5438005   -0.6891955 -0.4168392\n",
       "year          0.5805410 -0.3456474 -0.3698552   -0.4163615 -0.3091199\n",
       "origin        0.5652088 -0.5689316 -0.6145351   -0.4551715 -0.5850054\n",
       "             acceleration year       origin    \n",
       "mpg           0.4233285    0.5805410  0.5652088\n",
       "cylinders    -0.5046834   -0.3456474 -0.5689316\n",
       "displacement -0.5438005   -0.3698552 -0.6145351\n",
       "horsepower   -0.6891955   -0.4163615 -0.4551715\n",
       "weight       -0.4168392   -0.3091199 -0.5850054\n",
       "acceleration  1.0000000    0.2903161  0.2127458\n",
       "year          0.2903161    1.0000000  0.1815277\n",
       "origin        0.2127458    0.1815277  1.0000000"
      ]
     },
     "metadata": {},
     "output_type": "display_data"
    }
   ],
   "source": [
    "cor(Auto[, names(Auto) != 'name'])"
   ]
  },
  {
   "cell_type": "markdown",
   "metadata": {
    "toc-hr-collapsed": false
   },
   "source": [
    "### Step (c)\n",
    "\n",
    "> Use the `lm()` function to perform a multiple linear regression with `mpg` as the response and all other variables except name as the predictors. Use the `summary()` function to print the results. Comment on the output. For instance: "
   ]
  },
  {
   "cell_type": "code",
   "execution_count": 7,
   "metadata": {},
   "outputs": [
    {
     "data": {
      "text/plain": [
       "\n",
       "Call:\n",
       "lm(formula = mpg ~ . - name, data = Auto)\n",
       "\n",
       "Residuals:\n",
       "    Min      1Q  Median      3Q     Max \n",
       "-9.5903 -2.1565 -0.1169  1.8690 13.0604 \n",
       "\n",
       "Coefficients:\n",
       "               Estimate Std. Error t value Pr(>|t|)    \n",
       "(Intercept)  -17.218435   4.644294  -3.707  0.00024 ***\n",
       "cylinders     -0.493376   0.323282  -1.526  0.12780    \n",
       "displacement   0.019896   0.007515   2.647  0.00844 ** \n",
       "horsepower    -0.016951   0.013787  -1.230  0.21963    \n",
       "weight        -0.006474   0.000652  -9.929  < 2e-16 ***\n",
       "acceleration   0.080576   0.098845   0.815  0.41548    \n",
       "year           0.750773   0.050973  14.729  < 2e-16 ***\n",
       "origin         1.426141   0.278136   5.127 4.67e-07 ***\n",
       "---\n",
       "Signif. codes:  0 '***' 0.001 '**' 0.01 '*' 0.05 '.' 0.1 ' ' 1\n",
       "\n",
       "Residual standard error: 3.328 on 384 degrees of freedom\n",
       "Multiple R-squared:  0.8215,\tAdjusted R-squared:  0.8182 \n",
       "F-statistic: 252.4 on 7 and 384 DF,  p-value: < 2.2e-16\n"
      ]
     },
     "metadata": {},
     "output_type": "display_data"
    }
   ],
   "source": [
    "lm.fit = lm(mpg~.-name, data=Auto)\n",
    "summary(lm.fit)"
   ]
  },
  {
   "cell_type": "markdown",
   "metadata": {},
   "source": [
    "#### Step (c) (i)\n",
    "\n",
    "> Is there a relationship between the predictors and the response?"
   ]
  },
  {
   "cell_type": "markdown",
   "metadata": {},
   "source": [
    "This question can be answered by testing the hypothesis that $H_0 : \\beta_{cylinders} = \\beta_{displacement} = ... = \\beta_{origin}$.\n",
    "\n",
    "The above F-statistic helps us to determine whether or not we should reject the $H_0$ or not. In our case the p-value of F-statistic is very low, which means that there is a relationship between the predictors and response."
   ]
  },
  {
   "cell_type": "markdown",
   "metadata": {},
   "source": [
    "_________"
   ]
  },
  {
   "cell_type": "markdown",
   "metadata": {},
   "source": [
    "#### Step (c) (ii)\n",
    "\n",
    "> Which predictors appear to have a statistically significant relationship to the response?"
   ]
  },
  {
   "cell_type": "markdown",
   "metadata": {},
   "source": [
    "To answer this question we simply look at p-values of each of the predictors. We can observe that with significance level of 5% all of the predictors have statisticall significant relationship except:\n",
    "* cylinders\n",
    "* horsepower\n",
    "* acceleration"
   ]
  },
  {
   "cell_type": "markdown",
   "metadata": {},
   "source": [
    "_____"
   ]
  },
  {
   "cell_type": "markdown",
   "metadata": {},
   "source": [
    "#### Step (c) (iii)\n",
    "\n",
    "> What does the coefficient for the year variable suggest?"
   ]
  },
  {
   "cell_type": "markdown",
   "metadata": {},
   "source": [
    "The statistical significance of the year predictor in our linear model indicates that there is a positive relationship between the year of the model of the car and its mileage."
   ]
  },
  {
   "cell_type": "markdown",
   "metadata": {},
   "source": [
    "---"
   ]
  },
  {
   "cell_type": "markdown",
   "metadata": {},
   "source": [
    "### Step (d)\n",
    "\n",
    "> Use the `plot()` function to produce diagnostic plots of the linear regression fit. Comment on any problems you see with the fit. Do the residual plots suggest any unusually large outliers? Does the leverage plot identify any observations with unusually high leverage?"
   ]
  },
  {
   "cell_type": "code",
   "execution_count": 8,
   "metadata": {},
   "outputs": [
    {
     "data": {
      "image/png": "[encoded data removed]",
      "text/plain": [
       "Plot with title \"\""
      ]
     },
     "metadata": {},
     "output_type": "display_data"
    }
   ],
   "source": [
    "par(mfrow=c(2,2))\n",
    "plot(lm.fit)"
   ]
  },
  {
   "cell_type": "markdown",
   "metadata": {},
   "source": [
    "On the basis of residual plots we can observe some non-linearity. Question, __would need more explanation__\n",
    "\n",
    "The leverage plot does show us that there are values with unusually high values."
   ]
  },
  {
   "cell_type": "markdown",
   "metadata": {
    "toc-hr-collapsed": false
   },
   "source": [
    "### Step (e)\n",
    "\n",
    "> Use the * and : symbols to fit linear regression models with interaction effects. Do any interactions appear to be statistically significant?"
   ]
  },
  {
   "cell_type": "code",
   "execution_count": 9,
   "metadata": {},
   "outputs": [
    {
     "data": {
      "text/plain": [
       "\n",
       "Call:\n",
       "lm(formula = mpg ~ . - name + displacement:weight, data = Auto)\n",
       "\n",
       "Residuals:\n",
       "    Min      1Q  Median      3Q     Max \n",
       "-9.9027 -1.8092 -0.0946  1.5549 12.1687 \n",
       "\n",
       "Coefficients:\n",
       "                      Estimate Std. Error t value Pr(>|t|)    \n",
       "(Intercept)         -5.389e+00  4.301e+00  -1.253   0.2109    \n",
       "cylinders            1.175e-01  2.943e-01   0.399   0.6899    \n",
       "displacement        -6.837e-02  1.104e-02  -6.193 1.52e-09 ***\n",
       "horsepower          -3.280e-02  1.238e-02  -2.649   0.0084 ** \n",
       "weight              -1.064e-02  7.136e-04 -14.915  < 2e-16 ***\n",
       "acceleration         6.724e-02  8.805e-02   0.764   0.4455    \n",
       "year                 7.852e-01  4.553e-02  17.246  < 2e-16 ***\n",
       "origin               5.610e-01  2.622e-01   2.139   0.0331 *  \n",
       "displacement:weight  2.269e-05  2.257e-06  10.054  < 2e-16 ***\n",
       "---\n",
       "Signif. codes:  0 '***' 0.001 '**' 0.01 '*' 0.05 '.' 0.1 ' ' 1\n",
       "\n",
       "Residual standard error: 2.964 on 383 degrees of freedom\n",
       "Multiple R-squared:  0.8588,\tAdjusted R-squared:  0.8558 \n",
       "F-statistic: 291.1 on 8 and 383 DF,  p-value: < 2.2e-16\n"
      ]
     },
     "metadata": {},
     "output_type": "display_data"
    }
   ],
   "source": [
    "lm.fit_inter = lm(mpg~.-name+displacement:weight, data=Auto)\n",
    "summary(lm.fit_inter)"
   ]
  },
  {
   "cell_type": "code",
   "execution_count": 10,
   "metadata": {},
   "outputs": [
    {
     "data": {
      "text/plain": [
       "\n",
       "Call:\n",
       "lm(formula = mpg ~ . - name + displacement:weight + displacement:cylinders, \n",
       "    data = Auto)\n",
       "\n",
       "Residuals:\n",
       "     Min       1Q   Median       3Q      Max \n",
       "-10.0609  -1.7589  -0.0494   1.5790  12.1496 \n",
       "\n",
       "Coefficients:\n",
       "                         Estimate Std. Error t value Pr(>|t|)    \n",
       "(Intercept)            -4.795e+00  4.515e+00  -1.062  0.28883    \n",
       "cylinders              -1.091e-01  5.965e-01  -0.183  0.85502    \n",
       "displacement           -7.186e-02  1.363e-02  -5.273 2.25e-07 ***\n",
       "horsepower             -3.457e-02  1.304e-02  -2.651  0.00836 ** \n",
       "weight                 -1.030e-02  1.064e-03  -9.680  < 2e-16 ***\n",
       "acceleration            6.618e-02  8.817e-02   0.751  0.45334    \n",
       "year                    7.840e-01  4.566e-02  17.171  < 2e-16 ***\n",
       "origin                  5.475e-01  2.643e-01   2.071  0.03901 *  \n",
       "displacement:weight     2.141e-05  3.712e-06   5.768 1.66e-08 ***\n",
       "cylinders:displacement  1.186e-03  2.715e-03   0.437  0.66251    \n",
       "---\n",
       "Signif. codes:  0 '***' 0.001 '**' 0.01 '*' 0.05 '.' 0.1 ' ' 1\n",
       "\n",
       "Residual standard error: 2.967 on 382 degrees of freedom\n",
       "Multiple R-squared:  0.8588,\tAdjusted R-squared:  0.8555 \n",
       "F-statistic: 258.2 on 9 and 382 DF,  p-value: < 2.2e-16\n"
      ]
     },
     "metadata": {},
     "output_type": "display_data"
    }
   ],
   "source": [
    "lm.fit_inter = lm(mpg ~ .-name + displacement:weight + displacement:cylinders, data=Auto)\n",
    "summary(lm.fit_inter)"
   ]
  },
  {
   "cell_type": "code",
   "execution_count": 11,
   "metadata": {},
   "outputs": [
    {
     "data": {
      "text/plain": [
       "\n",
       "Call:\n",
       "lm(formula = mpg ~ . - name + displacement:weight + displacement:cylinders + \n",
       "    year:horsepower, data = Auto)\n",
       "\n",
       "Residuals:\n",
       "    Min      1Q  Median      3Q     Max \n",
       "-9.0899 -1.4545 -0.1088  1.3885 11.2116 \n",
       "\n",
       "Coefficients:\n",
       "                         Estimate Std. Error t value Pr(>|t|)    \n",
       "(Intercept)            -6.904e+01  1.002e+01  -6.892 2.28e-11 ***\n",
       "cylinders               4.861e-01  5.678e-01   0.856   0.3924    \n",
       "displacement           -6.408e-02  1.287e-02  -4.977 9.79e-07 ***\n",
       "horsepower              6.040e-01  9.099e-02   6.638 1.10e-10 ***\n",
       "weight                 -9.063e-03  1.016e-03  -8.916  < 2e-16 ***\n",
       "acceleration           -1.457e-02  8.377e-02  -0.174   0.8621    \n",
       "year                    1.609e+00  1.242e-01  12.957  < 2e-16 ***\n",
       "origin                  5.200e-01  2.488e-01   2.090   0.0373 *  \n",
       "displacement:weight     1.898e-05  3.511e-06   5.407 1.14e-07 ***\n",
       "cylinders:displacement -1.632e-04  2.562e-03  -0.064   0.9492    \n",
       "horsepower:year        -8.765e-03  1.238e-03  -7.083 6.87e-12 ***\n",
       "---\n",
       "Signif. codes:  0 '***' 0.001 '**' 0.01 '*' 0.05 '.' 0.1 ' ' 1\n",
       "\n",
       "Residual standard error: 2.793 on 381 degrees of freedom\n",
       "Multiple R-squared:  0.8753,\tAdjusted R-squared:  0.872 \n",
       "F-statistic: 267.3 on 10 and 381 DF,  p-value: < 2.2e-16\n"
      ]
     },
     "metadata": {},
     "output_type": "display_data"
    }
   ],
   "source": [
    "lm.fit_inter = lm(mpg ~ .-name + displacement:weight + displacement:cylinders + year:horsepower, data=Auto)\n",
    "summary(lm.fit_inter)"
   ]
  },
  {
   "cell_type": "markdown",
   "metadata": {},
   "source": [
    "### Step (f)\n",
    "\n",
    "> Try a few different transformations of the variables, such as $log(X)$, $\\sqrt(X)$, $X^2$ . Comment on your findings."
   ]
  },
  {
   "cell_type": "code",
   "execution_count": 12,
   "metadata": {},
   "outputs": [],
   "source": [
    "#tbd"
   ]
  },
  {
   "cell_type": "markdown",
   "metadata": {},
   "source": [
    "## Question 10\n",
    "\n",
    "This question should be answered using the `Carseats` data set.\n",
    "\n",
    "* (a) Fit a multiple regression model to predict Sales using Price, Urban , and US .\n",
    "* (b) Provide an interpretation of each coefficient in the model. Be careful—some of the variables in the model are qualitative!\n",
    "* (c) Write out the model in equation form, being careful to handle the qualitative variables properly.\n",
    "* (d) For which of the predictors can you reject the null hypothesis $H_0: \\beta_j = 0$?\n",
    "* (e) On the basis of your response to the previous question, fit a smaller model that only uses the predictors for which there is evidence of association with the outcome.\n",
    "* (f) How well do the models in (a) and (e) fit the data?\n",
    "* (g) Using the model from (e), obtain 95% confidence intervals for the coefficient(s).\n",
    "* (h) Is there evidence of outliers or high leverage observations in the model from (e)?"
   ]
  },
  {
   "cell_type": "code",
   "execution_count": 13,
   "metadata": {},
   "outputs": [],
   "source": [
    "attach(Carseats)"
   ]
  },
  {
   "cell_type": "code",
   "execution_count": 14,
   "metadata": {},
   "outputs": [
    {
     "data": {
      "text/html": [
       "\n",
       "<table width=\"100%\" summary=\"page for Carseats {ISLR}\"><tr><td>Carseats {ISLR}</td><td style=\"text-align: right;\">R Documentation</td></tr></table>\n",
       "\n",
       "<h2>Sales of Child Car Seats\n",
       "\n",
       "</h2>\n",
       "\n",
       "<h3>Description</h3>\n",
       "\n",
       "<p>A simulated data set containing sales of child car seats at\n",
       "400 different stores.\n",
       "\n",
       "</p>\n",
       "\n",
       "\n",
       "<h3>Usage</h3>\n",
       "\n",
       "<pre>Carseats</pre>\n",
       "\n",
       "\n",
       "<h3>Format</h3>\n",
       "\n",
       "<p>A data frame with 400 observations on the following 11 variables.\n",
       "</p>\n",
       "\n",
       "<dl>\n",
       "<dt><code>Sales</code></dt><dd><p>Unit sales (in thousands) at each location</p>\n",
       "</dd>\n",
       "<dt><code>CompPrice</code></dt><dd><p>Price charged by competitor at each location</p>\n",
       "</dd>\n",
       "<dt><code>Income</code></dt><dd><p>Community income level (in thousands of dollars)</p>\n",
       "</dd>\n",
       "<dt><code>Advertising</code></dt><dd><p>Local advertising budget for company at\n",
       "each location (in thousands of dollars)</p>\n",
       "</dd>\n",
       "<dt><code>Population</code></dt><dd><p>Population size in region (in thousands)</p>\n",
       "</dd>\n",
       "<dt><code>Price</code></dt><dd><p>Price company charges for car seats at each site</p>\n",
       "</dd>\n",
       "<dt><code>ShelveLoc</code></dt><dd><p>A factor with levels <code>Bad</code>, <code>Good</code>\n",
       "and <code>Medium</code> indicating the quality of the shelving location\n",
       "for the car seats at each site</p>\n",
       "</dd>\n",
       "<dt><code>Age</code></dt><dd><p>Average age of the local population</p>\n",
       "</dd>\n",
       "<dt><code>Education</code></dt><dd><p>Education level at each location</p>\n",
       "</dd>\n",
       "<dt><code>Urban</code></dt><dd><p>A factor with levels <code>No</code> and <code>Yes</code> to\n",
       "indicate whether the store is in an urban or rural location</p>\n",
       "</dd>\n",
       "<dt><code>US</code></dt><dd><p>A factor with levels <code>No</code> and <code>Yes</code> to\n",
       "indicate whether the store is in the US or not</p>\n",
       "</dd>\n",
       "</dl>\n",
       "\n",
       "\n",
       "\n",
       "<h3>Source</h3>\n",
       "\n",
       "<p>Simulated data\n",
       "\n",
       "</p>\n",
       "\n",
       "\n",
       "<h3>References</h3>\n",
       "\n",
       "<p>James, G., Witten, D., Hastie, T., and Tibshirani, R. (2013)\n",
       "<em>An Introduction to Statistical Learning with applications in R</em>,\n",
       "<a href=\"www.StatLearning.com\">www.StatLearning.com</a>,\n",
       "Springer-Verlag, New York\n",
       "</p>\n",
       "\n",
       "\n",
       "<h3>Examples</h3>\n",
       "\n",
       "<pre>\n",
       "summary(Carseats)\n",
       "lm.fit=lm(Sales~Advertising+Price,data=Carseats)\n",
       "</pre>\n",
       "\n",
       "<hr /><div style=\"text-align: center;\">[Package <em>ISLR</em> version 1.2 ]</div>"
      ],
      "text/latex": [
       "\\inputencoding{utf8}\n",
       "\\HeaderA{Carseats}{Sales of Child Car Seats}{Carseats}\n",
       "\\keyword{datasets}{Carseats}\n",
       "%\n",
       "\\begin{Description}\\relax\n",
       "A simulated data set containing sales of child car seats at\n",
       "400 different stores.\n",
       "\n",
       "\\end{Description}\n",
       "%\n",
       "\\begin{Usage}\n",
       "\\begin{verbatim}\n",
       "Carseats\n",
       "\\end{verbatim}\n",
       "\\end{Usage}\n",
       "%\n",
       "\\begin{Format}\n",
       "A data frame with 400 observations on the following 11 variables.\n",
       "\\begin{description}\n",
       "\n",
       "\\item[\\code{Sales}] Unit sales (in thousands) at each location\n",
       "\\item[\\code{CompPrice}] Price charged by competitor at each location\n",
       "\\item[\\code{Income}] Community income level (in thousands of dollars)\n",
       "\\item[\\code{Advertising}] Local advertising budget for company at\n",
       "each location (in thousands of dollars)\n",
       "\\item[\\code{Population}] Population size in region (in thousands)\n",
       "\\item[\\code{Price}] Price company charges for car seats at each site\n",
       "\\item[\\code{ShelveLoc}] A factor with levels \\code{Bad}, \\code{Good}\n",
       "and \\code{Medium} indicating the quality of the shelving location\n",
       "for the car seats at each site\n",
       "\\item[\\code{Age}] Average age of the local population\n",
       "\\item[\\code{Education}] Education level at each location\n",
       "\\item[\\code{Urban}] A factor with levels \\code{No} and \\code{Yes} to\n",
       "indicate whether the store is in an urban or rural location\n",
       "\\item[\\code{US}] A factor with levels \\code{No} and \\code{Yes} to\n",
       "indicate whether the store is in the US or not\n",
       "\n",
       "\\end{description}\n",
       "\n",
       "\\end{Format}\n",
       "%\n",
       "\\begin{Source}\\relax\n",
       "Simulated data\n",
       "\n",
       "\\end{Source}\n",
       "%\n",
       "\\begin{References}\\relax\n",
       "James, G., Witten, D., Hastie, T., and Tibshirani, R. (2013)\n",
       "\\emph{An Introduction to Statistical Learning with applications in R},\n",
       "\\url{www.StatLearning.com},\n",
       "Springer-Verlag, New York\n",
       "\\end{References}\n",
       "%\n",
       "\\begin{Examples}\n",
       "\\begin{ExampleCode}\n",
       "summary(Carseats)\n",
       "lm.fit=lm(Sales~Advertising+Price,data=Carseats)\n",
       "\\end{ExampleCode}\n",
       "\\end{Examples}"
      ],
      "text/plain": [
       "Carseats                 package:ISLR                  R Documentation\n",
       "\n",
       "_\bS_\ba_\bl_\be_\bs _\bo_\bf _\bC_\bh_\bi_\bl_\bd _\bC_\ba_\br _\bS_\be_\ba_\bt_\bs\n",
       "\n",
       "_\bD_\be_\bs_\bc_\br_\bi_\bp_\bt_\bi_\bo_\bn:\n",
       "\n",
       "     A simulated data set containing sales of child car seats at 400\n",
       "     different stores.\n",
       "\n",
       "_\bU_\bs_\ba_\bg_\be:\n",
       "\n",
       "     Carseats\n",
       "     \n",
       "_\bF_\bo_\br_\bm_\ba_\bt:\n",
       "\n",
       "     A data frame with 400 observations on the following 11 variables.\n",
       "\n",
       "     'Sales' Unit sales (in thousands) at each location\n",
       "\n",
       "     'CompPrice' Price charged by competitor at each location\n",
       "\n",
       "     'Income' Community income level (in thousands of dollars)\n",
       "\n",
       "     'Advertising' Local advertising budget for company at each\n",
       "          location (in thousands of dollars)\n",
       "\n",
       "     'Population' Population size in region (in thousands)\n",
       "\n",
       "     'Price' Price company charges for car seats at each site\n",
       "\n",
       "     'ShelveLoc' A factor with levels 'Bad', 'Good' and 'Medium'\n",
       "          indicating the quality of the shelving location for the car\n",
       "          seats at each site\n",
       "\n",
       "     'Age' Average age of the local population\n",
       "\n",
       "     'Education' Education level at each location\n",
       "\n",
       "     'Urban' A factor with levels 'No' and 'Yes' to indicate whether\n",
       "          the store is in an urban or rural location\n",
       "\n",
       "     'US' A factor with levels 'No' and 'Yes' to indicate whether the\n",
       "          store is in the US or not\n",
       "\n",
       "_\bS_\bo_\bu_\br_\bc_\be:\n",
       "\n",
       "     Simulated data\n",
       "\n",
       "_\bR_\be_\bf_\be_\br_\be_\bn_\bc_\be_\bs:\n",
       "\n",
       "     James, G., Witten, D., Hastie, T., and Tibshirani, R. (2013) _An\n",
       "     Introduction to Statistical Learning with applications in R_,\n",
       "     <URL: www.StatLearning.com>, Springer-Verlag, New York\n",
       "\n",
       "_\bE_\bx_\ba_\bm_\bp_\bl_\be_\bs:\n",
       "\n",
       "     summary(Carseats)\n",
       "     lm.fit=lm(Sales~Advertising+Price,data=Carseats)\n",
       "     "
      ]
     },
     "metadata": {},
     "output_type": "display_data"
    }
   ],
   "source": [
    "?Carseats"
   ]
  },
  {
   "cell_type": "markdown",
   "metadata": {},
   "source": [
    "**(a) Solution**"
   ]
  },
  {
   "cell_type": "code",
   "execution_count": 15,
   "metadata": {},
   "outputs": [
    {
     "data": {
      "text/plain": [
       "\n",
       "Call:\n",
       "lm(formula = Sales ~ Price + Urban + US, data = Carseats)\n",
       "\n",
       "Residuals:\n",
       "    Min      1Q  Median      3Q     Max \n",
       "-6.9206 -1.6220 -0.0564  1.5786  7.0581 \n",
       "\n",
       "Coefficients:\n",
       "             Estimate Std. Error t value Pr(>|t|)    \n",
       "(Intercept) 13.043469   0.651012  20.036  < 2e-16 ***\n",
       "Price       -0.054459   0.005242 -10.389  < 2e-16 ***\n",
       "UrbanYes    -0.021916   0.271650  -0.081    0.936    \n",
       "USYes        1.200573   0.259042   4.635 4.86e-06 ***\n",
       "---\n",
       "Signif. codes:  0 '***' 0.001 '**' 0.01 '*' 0.05 '.' 0.1 ' ' 1\n",
       "\n",
       "Residual standard error: 2.472 on 396 degrees of freedom\n",
       "Multiple R-squared:  0.2393,\tAdjusted R-squared:  0.2335 \n",
       "F-statistic: 41.52 on 3 and 396 DF,  p-value: < 2.2e-16\n"
      ]
     },
     "metadata": {},
     "output_type": "display_data"
    }
   ],
   "source": [
    "lm.csfit = lm(Sales~Price+Urban+US, data=Carseats)\n",
    "summary(lm.csfit)"
   ]
  },
  {
   "cell_type": "markdown",
   "metadata": {},
   "source": [
    "**(b) Solution**"
   ]
  },
  {
   "cell_type": "markdown",
   "metadata": {},
   "source": [
    "The model has two qualitative variables - `Urban` indicating whether the store is in urban area or not and `US` indicating whether the store is located in US or not. The multiregression model shows that price has a significant impact on sales as well as the location of the store in US. Location of the store in urban area vs villages doesn't seem to have significant impact."
   ]
  },
  {
   "cell_type": "markdown",
   "metadata": {},
   "source": [
    "**(c) Solution**"
   ]
  },
  {
   "cell_type": "markdown",
   "metadata": {},
   "source": [
    "The model in the equation form is as following\n",
    "\n",
    "$ sales = \\beta_0 + \\beta_1 * Price + \\beta_2 * UrbanYes + \\beta_3 * USYes $"
   ]
  },
  {
   "cell_type": "markdown",
   "metadata": {},
   "source": [
    "**(d) Solution**"
   ]
  },
  {
   "cell_type": "markdown",
   "metadata": {},
   "source": [
    "We can reject the null hypothesis that $H_0:\\beta_j=0 $ for predictors `Price`, `USYes`"
   ]
  },
  {
   "cell_type": "markdown",
   "metadata": {},
   "source": [
    "**(e) Solution**"
   ]
  },
  {
   "cell_type": "code",
   "execution_count": 16,
   "metadata": {},
   "outputs": [
    {
     "data": {
      "text/plain": [
       "\n",
       "Call:\n",
       "lm(formula = Sales ~ Price + US, data = Carseats)\n",
       "\n",
       "Residuals:\n",
       "    Min      1Q  Median      3Q     Max \n",
       "-6.9269 -1.6286 -0.0574  1.5766  7.0515 \n",
       "\n",
       "Coefficients:\n",
       "            Estimate Std. Error t value Pr(>|t|)    \n",
       "(Intercept) 13.03079    0.63098  20.652  < 2e-16 ***\n",
       "Price       -0.05448    0.00523 -10.416  < 2e-16 ***\n",
       "USYes        1.19964    0.25846   4.641 4.71e-06 ***\n",
       "---\n",
       "Signif. codes:  0 '***' 0.001 '**' 0.01 '*' 0.05 '.' 0.1 ' ' 1\n",
       "\n",
       "Residual standard error: 2.469 on 397 degrees of freedom\n",
       "Multiple R-squared:  0.2393,\tAdjusted R-squared:  0.2354 \n",
       "F-statistic: 62.43 on 2 and 397 DF,  p-value: < 2.2e-16\n"
      ]
     },
     "metadata": {},
     "output_type": "display_data"
    }
   ],
   "source": [
    "lm.smfit = lm(Sales~Price+US, data=Carseats)\n",
    "summary(lm.smfit)"
   ]
  },
  {
   "cell_type": "markdown",
   "metadata": {},
   "source": [
    "**(f) Solution**"
   ]
  },
  {
   "cell_type": "markdown",
   "metadata": {},
   "source": [
    "Both of the models (model (a) and model (e)) fit the data in a similar manner, because R squared for both models is almost identical and they both explain around 24% variability in the sales."
   ]
  },
  {
   "cell_type": "markdown",
   "metadata": {},
   "source": [
    "**(g) Solution**"
   ]
  },
  {
   "cell_type": "markdown",
   "metadata": {},
   "source": [
    "To obtain confidence intervals for our predictors we need to use the following formula\n",
    "\n",
    "$ CI = \\beta_j \\substack{+\\\\-} SE $\n",
    "\n",
    "In this case our CI respectively will be\n",
    "\n",
    "* Price $ [-0.0626, -0.04925] $\n",
    "* USYes $ [0.94118, 1.4581] $"
   ]
  },
  {
   "cell_type": "markdown",
   "metadata": {},
   "source": [
    "**(h) Solution**"
   ]
  },
  {
   "cell_type": "code",
   "execution_count": 17,
   "metadata": {},
   "outputs": [
    {
     "data": {
      "image/png": "[encoded data removed]",
      "text/plain": [
       "Plot with title \"\""
      ]
     },
     "metadata": {},
     "output_type": "display_data"
    }
   ],
   "source": [
    "par(mfrow=c(2,2))\n",
    "plot(lm.smfit)"
   ]
  },
  {
   "cell_type": "markdown",
   "metadata": {},
   "source": [
    "We can observe some outliers and high leverage observations in the model from (e)"
   ]
  },
  {
   "cell_type": "markdown",
   "metadata": {},
   "source": [
    "## Question 13"
   ]
  },
  {
   "cell_type": "markdown",
   "metadata": {},
   "source": [
    "In this exercise we will create some simulated data and will fit simple linear regression models to it. We will use set.seed(1) prior to starting part (a) to ensure consistent results. Steps are below"
   ]
  },
  {
   "cell_type": "code",
   "execution_count": 48,
   "metadata": {},
   "outputs": [],
   "source": [
    "set.seed(111)"
   ]
  },
  {
   "cell_type": "markdown",
   "metadata": {},
   "source": [
    "### Step (a)\n",
    "\n",
    "> Using the `rnorm()` function, create a vector, `x` , containing 100 observations drawn from a `N(0,1)` distribution. This represents a feature, `X`."
   ]
  },
  {
   "cell_type": "code",
   "execution_count": 49,
   "metadata": {},
   "outputs": [],
   "source": [
    "x <- rnorm(n = 100, mean = 0, sd = 1)"
   ]
  },
  {
   "cell_type": "markdown",
   "metadata": {},
   "source": [
    "### Step (b)\n",
    "\n",
    "> Using the `rnorm()` function, create a vector, `eps`, containing 100 observations drawn from a `N(0,0.25)` distribution i.e. a normal distribution with mean zero and variance 0.25."
   ]
  },
  {
   "cell_type": "code",
   "execution_count": 50,
   "metadata": {},
   "outputs": [],
   "source": [
    "eps <- rnorm(n = 100, mean = 0, sd = 0.5)"
   ]
  },
  {
   "cell_type": "markdown",
   "metadata": {},
   "source": [
    "### Step (c)\n",
    "\n",
    "> Using x and eps , generate a vector y according to the model $Y=-1+0.5X+\\epsilon$. What is the length of the vector $y$ ? What are the values of $\\beta_0$ and $\\beta_1$ in this linear model?"
   ]
  },
  {
   "cell_type": "code",
   "execution_count": 51,
   "metadata": {},
   "outputs": [
    {
     "data": {
      "text/html": [
       "100"
      ],
      "text/latex": [
       "100"
      ],
      "text/markdown": [
       "100"
      ],
      "text/plain": [
       "[1] 100"
      ]
     },
     "metadata": {},
     "output_type": "display_data"
    }
   ],
   "source": [
    "y = -1 + 0.5 * x + eps\n",
    "length(y)"
   ]
  },
  {
   "cell_type": "markdown",
   "metadata": {},
   "source": [
    "The length of vector `y` is 100 and coefficients are $\\beta_0=-1$ and $\\beta_1=0.5$  "
   ]
  },
  {
   "cell_type": "markdown",
   "metadata": {},
   "source": [
    "### Step (d)\n",
    "\n",
    "> Create a scatterplot displaying the relationship between `x` and `y` . Comment on what you observe."
   ]
  },
  {
   "cell_type": "code",
   "execution_count": 52,
   "metadata": {},
   "outputs": [
    {
     "data": {
      "image/png": "[encoded data removed]",
      "text/plain": [
       "plot without title"
      ]
     },
     "metadata": {},
     "output_type": "display_data"
    }
   ],
   "source": [
    "plot(x, y)"
   ]
  },
  {
   "cell_type": "markdown",
   "metadata": {},
   "source": [
    "From the plot we can observe a somewhat linear relationship."
   ]
  },
  {
   "cell_type": "markdown",
   "metadata": {},
   "source": [
    "### Step (e)\n",
    "\n",
    "> Fit a least squares linear model to predict `y` using `x`. Comment on the model obtained. How do $\\hat{\\beta_0}$ and $\\hat{\\beta_1}$\n",
    "compare to ${\\beta_0}$ and ${\\beta_1}$?"
   ]
  },
  {
   "cell_type": "code",
   "execution_count": 53,
   "metadata": {},
   "outputs": [
    {
     "data": {
      "text/plain": [
       "\n",
       "Call:\n",
       "lm(formula = y ~ x)\n",
       "\n",
       "Residuals:\n",
       "     Min       1Q   Median       3Q      Max \n",
       "-1.65602 -0.32895  0.03217  0.31847  1.22099 \n",
       "\n",
       "Coefficients:\n",
       "            Estimate Std. Error t value Pr(>|t|)    \n",
       "(Intercept) -1.00878    0.05114 -19.726  < 2e-16 ***\n",
       "x            0.47305    0.04799   9.857 2.48e-16 ***\n",
       "---\n",
       "Signif. codes:  0 '***' 0.001 '**' 0.01 '*' 0.05 '.' 0.1 ' ' 1\n",
       "\n",
       "Residual standard error: 0.5114 on 98 degrees of freedom\n",
       "Multiple R-squared:  0.4978,\tAdjusted R-squared:  0.4927 \n",
       "F-statistic: 97.16 on 1 and 98 DF,  p-value: 2.476e-16\n"
      ]
     },
     "metadata": {},
     "output_type": "display_data"
    }
   ],
   "source": [
    "lm.fit <- lm(y~x)\n",
    "summary(lm.fit)"
   ]
  },
  {
   "cell_type": "markdown",
   "metadata": {},
   "source": [
    "### Step (f)\n",
    "\n",
    "> Display the least squares line on the scatterplot obtained in (d). Draw the population regression line on the plot, in a different color. Use the `legend()` command to create an appropriate legend."
   ]
  },
  {
   "cell_type": "code",
   "execution_count": 60,
   "metadata": {},
   "outputs": [
    {
     "data": {
      "image/png": "[encoded data removed]",
      "text/plain": [
       "plot without title"
      ]
     },
     "metadata": {},
     "output_type": "display_data"
    }
   ],
   "source": [
    "plot(x, y)\n",
    "abline(-1, 0.5, lwd=2)\n",
    "abline(lm.fit, col=\"red\", lwd=2)\n",
    "legend(\"topleft\", c(\"true\", \"estimated\"), lwd=c(2,2), col=c(\"black\", \"red\"))"
   ]
  },
  {
   "cell_type": "markdown",
   "metadata": {},
   "source": [
    "Our model is no better than random guessing, since the R-squared is 0.5."
   ]
  },
  {
   "cell_type": "markdown",
   "metadata": {},
   "source": [
    "### Step (g)\n",
    "\n",
    "> Now fit a polynomial regression model that predicts $y$ using $x$ and $x^2$ . Is there evidence that the quadratic term improves the model fit? Explain your answer."
   ]
  },
  {
   "cell_type": "code",
   "execution_count": 61,
   "metadata": {},
   "outputs": [
    {
     "data": {
      "text/plain": [
       "\n",
       "Call:\n",
       "lm(formula = y ~ x + I(x^2))\n",
       "\n",
       "Residuals:\n",
       "     Min       1Q   Median       3Q      Max \n",
       "-1.59949 -0.30325 -0.00213  0.34513  1.24385 \n",
       "\n",
       "Coefficients:\n",
       "            Estimate Std. Error t value Pr(>|t|)    \n",
       "(Intercept) -1.06540    0.06155 -17.308   <2e-16 ***\n",
       "x            0.47809    0.04770  10.023   <2e-16 ***\n",
       "I(x^2)       0.04992    0.03076   1.623    0.108    \n",
       "---\n",
       "Signif. codes:  0 '***' 0.001 '**' 0.01 '*' 0.05 '.' 0.1 ' ' 1\n",
       "\n",
       "Residual standard error: 0.5071 on 97 degrees of freedom\n",
       "Multiple R-squared:  0.5111,\tAdjusted R-squared:  0.501 \n",
       "F-statistic: 50.71 on 2 and 97 DF,  p-value: 8.441e-16\n"
      ]
     },
     "metadata": {},
     "output_type": "display_data"
    }
   ],
   "source": [
    "lm.fit2 <- lm(y~x+I(x^2))\n",
    "summary(lm.fit2)"
   ]
  },
  {
   "cell_type": "markdown",
   "metadata": {},
   "source": [
    "#### Step (h)\n",
    "\n",
    "> Repeat (a)–(f) after modifying the data generation process in such a way that there is less noise in the data. The model (3.39) should remain the same. You can do this by decreasing the variance of the normal distribution used to generate the error term? in (b). Describe your results."
   ]
  },
  {
   "cell_type": "code",
   "execution_count": null,
   "metadata": {},
   "outputs": [],
   "source": []
  },
  {
   "cell_type": "markdown",
   "metadata": {},
   "source": [
    "---"
   ]
  },
  {
   "cell_type": "markdown",
   "metadata": {},
   "source": [
    "# Additional General Notes"
   ]
  },
  {
   "cell_type": "markdown",
   "metadata": {},
   "source": [
    "We can demean the quadratic term to decrease the multicollinearity. Poly function in R actually removes the multicollinearity since it uses PCA to almost get rid of multicollinearity.\n",
    "\n",
    "One sample Kolmogorov - Smirnov Test `ks.test(residuals(ml), \"pnorm\")`. This is to test the normality of residuals assumption.\n",
    "\n",
    "Anova (Type II tests), Check also Type III test\n",
    "\n",
    "Compare model with and without interactions\n",
    "anova(m2, m3)"
   ]
  },
  {
   "cell_type": "code",
   "execution_count": null,
   "metadata": {},
   "outputs": [],
   "source": []
  }
 ],
 "metadata": {
  "kernelspec": {
   "display_name": "R",
   "language": "R",
   "name": "ir"
  },
  "language_info": {
   "codemirror_mode": "r",
   "file_extension": ".r",
   "mimetype": "text/x-r-source",
   "name": "R",
   "pygments_lexer": "r",
   "version": "3.5.2"
  },
  "toc-showcode": false,
  "toc-showtags": false
 },
 "nbformat": 4,
 "nbformat_minor": 2
}
