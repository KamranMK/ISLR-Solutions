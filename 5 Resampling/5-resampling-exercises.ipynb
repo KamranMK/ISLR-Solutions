{
 "cells": [
  {
   "cell_type": "markdown",
   "metadata": {},
   "source": [
    "# 5.4 Exercises"
   ]
  },
  {
   "cell_type": "markdown",
   "metadata": {},
   "source": [
    "## Question 6\n",
    "\n",
    "We continue to consider the use of a logistic regression model to predict the probability of `default` using `income` and `balance` on the `Default` data set. In particular, we will now compute estimates for the standard errors of the `income` and `balance` logistic regression coefficients in two different ways: (1) using the bootstrap, and (2) using the standard formula for computing the standard errors in the `glm()` function. Do not forget to set a random seed before beginning your analysis."
   ]
  },
  {
   "cell_type": "code",
   "execution_count": 1,
   "metadata": {},
   "outputs": [
    {
     "data": {
      "text/plain": [
       " default    student       balance           income     \n",
       " No :9667   No :7056   Min.   :   0.0   Min.   :  772  \n",
       " Yes: 333   Yes:2944   1st Qu.: 481.7   1st Qu.:21340  \n",
       "                       Median : 823.6   Median :34553  \n",
       "                       Mean   : 835.4   Mean   :33517  \n",
       "                       3rd Qu.:1166.3   3rd Qu.:43808  \n",
       "                       Max.   :2654.3   Max.   :73554  "
      ]
     },
     "metadata": {},
     "output_type": "display_data"
    }
   ],
   "source": [
    "library(ISLR)\n",
    "library(boot)\n",
    "summary(Default)"
   ]
  },
  {
   "cell_type": "markdown",
   "metadata": {},
   "source": [
    "### Step (a)\n",
    "\n",
    "> Using the `summary()` and `glm()` functions, determine the estimated standard errors for the coefficients associated with `income` and `balance` in a multiple logistic regression model that uses both predictors."
   ]
  },
  {
   "cell_type": "code",
   "execution_count": 2,
   "metadata": {},
   "outputs": [
    {
     "data": {
      "text/plain": [
       "\n",
       "Call:\n",
       "glm(formula = default ~ balance + income, family = binomial, \n",
       "    data = Default)\n",
       "\n",
       "Deviance Residuals: \n",
       "    Min       1Q   Median       3Q      Max  \n",
       "-2.4725  -0.1444  -0.0574  -0.0211   3.7245  \n",
       "\n",
       "Coefficients:\n",
       "              Estimate Std. Error z value Pr(>|z|)    \n",
       "(Intercept) -1.154e+01  4.348e-01 -26.545  < 2e-16 ***\n",
       "balance      5.647e-03  2.274e-04  24.836  < 2e-16 ***\n",
       "income       2.081e-05  4.985e-06   4.174 2.99e-05 ***\n",
       "---\n",
       "Signif. codes:  0 '***' 0.001 '**' 0.01 '*' 0.05 '.' 0.1 ' ' 1\n",
       "\n",
       "(Dispersion parameter for binomial family taken to be 1)\n",
       "\n",
       "    Null deviance: 2920.6  on 9999  degrees of freedom\n",
       "Residual deviance: 1579.0  on 9997  degrees of freedom\n",
       "AIC: 1585\n",
       "\n",
       "Number of Fisher Scoring iterations: 8\n"
      ]
     },
     "metadata": {},
     "output_type": "display_data"
    }
   ],
   "source": [
    "set.seed(1)\n",
    "glm.fit <- glm(default~balance+income, data = Default, family = binomial)\n",
    "summary(glm.fit)"
   ]
  },
  {
   "cell_type": "markdown",
   "metadata": {},
   "source": [
    "### Step (b)\n",
    "\n",
    "> Write a function, `boot.fn()`, that takes as input the `Default` data set as well as an index of the observations, and that outputs the coefficient estimates for `income` and `balance` in the multiple logistic regression model."
   ]
  },
  {
   "cell_type": "code",
   "execution_count": 3,
   "metadata": {},
   "outputs": [],
   "source": [
    "boot.fn <- function(data, index) {\n",
    "    return(coef(glm(default~balance+income, data=data, subset=index, family=binomial)))\n",
    "}"
   ]
  },
  {
   "cell_type": "markdown",
   "metadata": {},
   "source": [
    "### Step (c)\n",
    "\n",
    "> Use the `boot()` function together with your `boot.fn()` function to estimate the standard errors of the logistic regression coefficients for income and balance "
   ]
  },
  {
   "cell_type": "code",
   "execution_count": 4,
   "metadata": {},
   "outputs": [
    {
     "data": {
      "text/plain": [
       "\n",
       "ORDINARY NONPARAMETRIC BOOTSTRAP\n",
       "\n",
       "\n",
       "Call:\n",
       "boot(data = Default, statistic = boot.fn, R = 50)\n",
       "\n",
       "\n",
       "Bootstrap Statistics :\n",
       "         original        bias     std. error\n",
       "t1* -1.154047e+01  1.181200e-01 4.202402e-01\n",
       "t2*  5.647103e-03 -6.974834e-05 2.282819e-04\n",
       "t3*  2.080898e-05 -5.466926e-08 4.542214e-06"
      ]
     },
     "metadata": {},
     "output_type": "display_data"
    }
   ],
   "source": [
    "result <- boot(Default, boot.fn, 50)\n",
    "result"
   ]
  },
  {
   "cell_type": "markdown",
   "metadata": {},
   "source": [
    "### Step (d)\n",
    "\n",
    "> Comment on the estimated standard errors obtained using the `glm()` function and using your bootstrap function."
   ]
  },
  {
   "cell_type": "markdown",
   "metadata": {},
   "source": [
    "We can observe that bootstraped standard errors are slightly lower than our original models standard errors for estimates. This has to do with the fact that the logistic regression model makes certain assumptions regarding the underlying population (it's mean & variance) while bootstrapping allows us to use our sample and sample from that treating our data as population. The model for logistic regression alone includes variance of the unexplained error.\n",
    "\n",
    "**QUESTION**: WHY bootstrapping is better than the model itself."
   ]
  },
  {
   "cell_type": "markdown",
   "metadata": {},
   "source": [
    "### Additional\n",
    "\n",
    "We can also find out standard deviation and covariance"
   ]
  },
  {
   "cell_type": "code",
   "execution_count": 5,
   "metadata": {},
   "outputs": [
    {
     "name": "stdout",
     "output_type": "stream",
     "text": [
      "[1] 0.42024020 0.00022828 0.00000454\n"
     ]
    },
    {
     "data": {
      "text/html": [
       "'-----'"
      ],
      "text/latex": [
       "'-----'"
      ],
      "text/markdown": [
       "'-----'"
      ],
      "text/plain": [
       "[1] \"-----\""
      ]
     },
     "metadata": {},
     "output_type": "display_data"
    },
    {
     "name": "stdout",
     "output_type": "stream",
     "text": [
      "(Intercept)     balance      income \n",
      " 0.43475636  0.00022737  0.00000499 \n"
     ]
    }
   ],
   "source": [
    "print(round(apply(result$t,2,sd),8))\n",
    "paste(\"-----\")\n",
    "print(round(sqrt(diag(summary(glm.fit)$cov.unscaled)),8))"
   ]
  },
  {
   "cell_type": "markdown",
   "metadata": {},
   "source": [
    "## Question 7\n",
    "\n",
    "In Sections 5.3.2 and 5.3.3, we saw that the `cv.glm()` function can be used in order to compute the LOOCV test error estimate. Alternatively, one could compute those quantities using just the `glm()` and `predict.glm()` functions, and a for loop. You will now take this approach in order to compute the LOOCV error for a simple logistic regression model on the `Weekly` data set. Recall that in the context of classification problems, the LOOCV error is given in (5.4)."
   ]
  },
  {
   "cell_type": "markdown",
   "metadata": {},
   "source": [
    "### Step (a)\n",
    "\n",
    "> Fit a logistic regression model that predicts `Direction` using `Lag1` and `Lag2`"
   ]
  },
  {
   "cell_type": "code",
   "execution_count": 6,
   "metadata": {},
   "outputs": [
    {
     "data": {
      "text/plain": [
       "\n",
       "Call:\n",
       "glm(formula = Direction ~ Lag1 + Lag2, family = binomial, data = Weekly)\n",
       "\n",
       "Deviance Residuals: \n",
       "   Min      1Q  Median      3Q     Max  \n",
       "-1.623  -1.261   1.001   1.083   1.506  \n",
       "\n",
       "Coefficients:\n",
       "            Estimate Std. Error z value Pr(>|z|)    \n",
       "(Intercept)  0.22122    0.06147   3.599 0.000319 ***\n",
       "Lag1        -0.03872    0.02622  -1.477 0.139672    \n",
       "Lag2         0.06025    0.02655   2.270 0.023232 *  \n",
       "---\n",
       "Signif. codes:  0 '***' 0.001 '**' 0.01 '*' 0.05 '.' 0.1 ' ' 1\n",
       "\n",
       "(Dispersion parameter for binomial family taken to be 1)\n",
       "\n",
       "    Null deviance: 1496.2  on 1088  degrees of freedom\n",
       "Residual deviance: 1488.2  on 1086  degrees of freedom\n",
       "AIC: 1494.2\n",
       "\n",
       "Number of Fisher Scoring iterations: 4\n"
      ]
     },
     "metadata": {},
     "output_type": "display_data"
    }
   ],
   "source": [
    "glm.fit <- glm(Direction~Lag1+Lag2, data=Weekly, family=binomial)\n",
    "summary(glm.fit)"
   ]
  },
  {
   "cell_type": "markdown",
   "metadata": {},
   "source": [
    "### Step (b)\n",
    "\n",
    "> Fit a logistic regression model that predicts `Direction` using `Lag1` and `Lag2` using all but the first observation."
   ]
  },
  {
   "cell_type": "code",
   "execution_count": 7,
   "metadata": {},
   "outputs": [
    {
     "data": {
      "text/plain": [
       "\n",
       "Call:\n",
       "glm(formula = Direction ~ Lag1 + Lag2, family = binomial, data = subdata)\n",
       "\n",
       "Deviance Residuals: \n",
       "    Min       1Q   Median       3Q      Max  \n",
       "-1.6258  -1.2617   0.9999   1.0819   1.5071  \n",
       "\n",
       "Coefficients:\n",
       "            Estimate Std. Error z value Pr(>|z|)    \n",
       "(Intercept)  0.22324    0.06150   3.630 0.000283 ***\n",
       "Lag1        -0.03843    0.02622  -1.466 0.142683    \n",
       "Lag2         0.06085    0.02656   2.291 0.021971 *  \n",
       "---\n",
       "Signif. codes:  0 '***' 0.001 '**' 0.01 '*' 0.05 '.' 0.1 ' ' 1\n",
       "\n",
       "(Dispersion parameter for binomial family taken to be 1)\n",
       "\n",
       "    Null deviance: 1494.6  on 1087  degrees of freedom\n",
       "Residual deviance: 1486.5  on 1085  degrees of freedom\n",
       "AIC: 1492.5\n",
       "\n",
       "Number of Fisher Scoring iterations: 4\n"
      ]
     },
     "metadata": {},
     "output_type": "display_data"
    }
   ],
   "source": [
    "subdata = Weekly[-1,]\n",
    "glm.fit1 = glm(Direction~Lag1+Lag2, data=subdata, family=binomial)\n",
    "summary(glm.fit1)"
   ]
  },
  {
   "cell_type": "markdown",
   "metadata": {},
   "source": [
    "### Step (c)\n",
    "\n",
    "> Use the model from (b) to predict the direction of the first observation. You can do this by predicting that the first observation will go up if `P(Direction=\"Up\"|Lag1,Lag2)` > 0.5. Was this observation correctly classified?"
   ]
  },
  {
   "cell_type": "code",
   "execution_count": 8,
   "metadata": {},
   "outputs": [
    {
     "data": {
      "text/html": [
       "'Prediction is Up'"
      ],
      "text/latex": [
       "'Prediction is Up'"
      ],
      "text/markdown": [
       "'Prediction is Up'"
      ],
      "text/plain": [
       "[1] \"Prediction is Up\""
      ]
     },
     "metadata": {},
     "output_type": "display_data"
    },
    {
     "data": {
      "text/html": [
       "'True value is Down'"
      ],
      "text/latex": [
       "'True value is Down'"
      ],
      "text/markdown": [
       "'True value is Down'"
      ],
      "text/plain": [
       "[1] \"True value is Down\""
      ]
     },
     "metadata": {},
     "output_type": "display_data"
    }
   ],
   "source": [
    "predn = predict(glm.fit, Weekly[1, ], type=\"response\")\n",
    "predv = ifelse(predn > 0.5, \"Up\", \"Down\")\n",
    "paste(\"Prediction is\", predv)\n",
    "paste(\"True value is\", Weekly[1, ncol(Weekly)])"
   ]
  },
  {
   "cell_type": "markdown",
   "metadata": {},
   "source": [
    "No the model did not classify correctly."
   ]
  },
  {
   "cell_type": "markdown",
   "metadata": {},
   "source": [
    "### Step (d)\n",
    "\n",
    "> Write a for loop from i = 1 to i = n, where n is the number of observations in the data set, that performs each of the following steps:\n",
    "    * Fit a logistic regression model using all but the ith observation to predict Direction using Lag1 and Lag2.\n",
    "    * Compute the posterior probability of the market moving up for the ith observation.\n",
    "    * Use the posterior probability for the ith observation in order to predict whether or not the market moves up.\n",
    "    * Determine whether or not an error was made in predicting the direction for the ith observation. If an error was made, then indicate this as a 1,  and otherwise indicate it as a 0."
   ]
  },
  {
   "cell_type": "code",
   "execution_count": 9,
   "metadata": {},
   "outputs": [],
   "source": [
    "set.seed(1)\n",
    "n = nrow(Weekly)\n",
    "errors = rep(0, n)\n",
    "for(i in 1:n) {\n",
    "    glm.fit = glm(Direction~Lag1+Lag2, data=Weekly[-i,], family=binomial)\n",
    "    pprob = predict(glm.fit, Weekly[i,], type=\"response\")\n",
    "    pred = ifelse(pprob > 0.5, \"Up\", \"Down\")\n",
    "    error = ifelse(Weekly[i,]$Direction != pred, 1, 0)  \n",
    "    errors[i] = error\n",
    "}"
   ]
  },
  {
   "cell_type": "markdown",
   "metadata": {},
   "source": [
    "### Step (e)\n",
    "\n",
    "> Take the average of the n numbers obtained in (d)iv in order to obtain the LOOCV estimate for the test error. Comment on the results."
   ]
  },
  {
   "cell_type": "code",
   "execution_count": 10,
   "metadata": {},
   "outputs": [
    {
     "data": {
      "text/html": [
       "0.449954086317723"
      ],
      "text/latex": [
       "0.449954086317723"
      ],
      "text/markdown": [
       "0.449954086317723"
      ],
      "text/plain": [
       "[1] 0.4499541"
      ]
     },
     "metadata": {},
     "output_type": "display_data"
    }
   ],
   "source": [
    "mean(errors)"
   ]
  },
  {
   "cell_type": "markdown",
   "metadata": {},
   "source": [
    "The LOOCV estimate for the test error is 44.99%"
   ]
  },
  {
   "cell_type": "markdown",
   "metadata": {},
   "source": [
    "## Question 8"
   ]
  },
  {
   "cell_type": "markdown",
   "metadata": {},
   "source": [
    "We will now perform cross-validation on a simulated data set."
   ]
  },
  {
   "cell_type": "markdown",
   "metadata": {},
   "source": [
    "### Step (a)\n",
    "\n",
    "> Generate a simulated data set as follows. In this data set, what is n and what is p? Write out the model used to generate the data in equation form."
   ]
  },
  {
   "cell_type": "code",
   "execution_count": 11,
   "metadata": {},
   "outputs": [],
   "source": [
    "set.seed(1)\n",
    "y = rnorm(100)\n",
    "x = rnorm(100)\n",
    "y = x - 2*x^2 + rnorm(100)"
   ]
  },
  {
   "cell_type": "markdown",
   "metadata": {},
   "source": [
    "In this dataset, n=100 since we have 100 observations. Our p = 2 since we have two parameters. The model that generated this data is\n",
    "\n",
    "$f(x)=\\beta_0+\\beta_1*x+\\beta_2*x^2+\\epsilon$"
   ]
  },
  {
   "cell_type": "markdown",
   "metadata": {},
   "source": [
    "### Step (b)\n",
    "\n",
    "> Create a scatterplot of X against Y . Comment on what you find."
   ]
  },
  {
   "cell_type": "code",
   "execution_count": 12,
   "metadata": {},
   "outputs": [
    {
     "data": {
      "image/png": "[encoded data removed]",
      "text/plain": [
       "plot without title"
      ]
     },
     "metadata": {},
     "output_type": "display_data"
    }
   ],
   "source": [
    "plot(x, y)"
   ]
  },
  {
   "cell_type": "markdown",
   "metadata": {},
   "source": [
    "### Step (c)\n",
    "\n",
    "> Set a random seed, and then compute the LOOCV errors that mresult from fitting the following four models using least squares:\n",
    "* i. $Y=\\beta_0+\\beta_1*X+\\epsilon$\n",
    "* ii. $Y=\\beta_0+\\beta_1*X+\\beta_2*X^2+\\epsilon$\n",
    "* iii.$Y=\\beta_0+\\beta_1*X+\\beta_2*X^2+\\beta_3*X^3+\\epsilon$\n",
    "* iv. $Y=\\beta_0+\\beta_1*X+\\beta_2*X^2+\\beta_3*X^3+\\beta_4*X^4+\\epsilon$\n",
    "\n",
    "Note you may find it helpful to use the `data.frame()` function to create a single data set containing both `X` and `Y`."
   ]
  },
  {
   "cell_type": "code",
   "execution_count": 13,
   "metadata": {},
   "outputs": [],
   "source": [
    "df = data.frame(y, x)"
   ]
  },
  {
   "cell_type": "code",
   "execution_count": 14,
   "metadata": {},
   "outputs": [
    {
     "name": "stdout",
     "output_type": "stream",
     "text": [
      "[1] \"Test Error for model 1 is 5.891\"\n",
      "[1] \"Test Error for model 2 is 1.0866\"\n",
      "[1] \"Test Error for model 3 is 1.1026\"\n",
      "[1] \"Test Error for model 4 is 1.1148\"\n"
     ]
    }
   ],
   "source": [
    "set.seed(1)\n",
    "loocv1 = rep(0, 4)\n",
    "for (i in 1:4) {\n",
    "    glm.fit = glm(y~poly(x, i), data=df)\n",
    "    error = cv.glm(df, glm.fit, K=100)\n",
    "    print(paste(\"Test Error for model\", i, \"is\", round(error$delta[1], 4)))\n",
    "    loocv1[i] = error$delta[1]\n",
    "}"
   ]
  },
  {
   "cell_type": "markdown",
   "metadata": {},
   "source": [
    "We can also plot the errors"
   ]
  },
  {
   "cell_type": "code",
   "execution_count": 15,
   "metadata": {},
   "outputs": [
    {
     "name": "stdout",
     "output_type": "stream",
     "text": [
      "[1] \"Test Error for model 1 is 5.891\"\n",
      "[1] \"Test Error for model 2 is 1.0866\"\n",
      "[1] \"Test Error for model 3 is 1.1026\"\n",
      "[1] \"Test Error for model 4 is 1.1148\"\n"
     ]
    }
   ],
   "source": [
    "set.seed(8975)\n",
    "loocv2 = rep(0, 4)\n",
    "for (i in 1:4) {\n",
    "    glm.fit = glm(y~poly(x, i), data=df)\n",
    "    error = cv.glm(df, glm.fit, K=100)\n",
    "    print(paste(\"Test Error for model\", i, \"is\", round(error$delta[1], 4)))\n",
    "    loocv2[i] = error$delta[1]\n",
    "}"
   ]
  },
  {
   "cell_type": "code",
   "execution_count": 31,
   "metadata": {},
   "outputs": [
    {
     "data": {
      "image/png": "[encoded data removed]",
      "text/plain": [
       "plot without title"
      ]
     },
     "metadata": {},
     "output_type": "display_data"
    }
   ],
   "source": [
    "X11(8,8)\n",
    "par(mfrow=c(1,2), pty = \"s\")\n",
    "plot(loocv1, type = 'b')\n",
    "plot(loocv2, type = 'b')"
   ]
  },
  {
   "cell_type": "markdown",
   "metadata": {},
   "source": [
    "Results are the same since the LOOCV evaluates each individual value within the sample and calculates the test error. Results do not depend on the random seed because all observations are used as holdout\n"
   ]
  },
  {
   "cell_type": "markdown",
   "metadata": {},
   "source": [
    "### Step (e)\n",
    "\n",
    "> Which of the models in (c) had the smallest LOOCV error? Is this what you expected? Explain your answer."
   ]
  },
  {
   "cell_type": "markdown",
   "metadata": {},
   "source": [
    "The second model has the lowest test error which is not surprising since our original function that generated data has the same structure and parameters."
   ]
  },
  {
   "cell_type": "markdown",
   "metadata": {},
   "source": [
    "### Step (f)\n",
    "\n",
    "> Comment on the statistical significance of the coefficient estimates that results from fitting each of the models in (c) using least squares. Do these results agree with the conclusions drawn based on the cross-validation results?"
   ]
  },
  {
   "cell_type": "code",
   "execution_count": 17,
   "metadata": {},
   "outputs": [
    {
     "name": "stdout",
     "output_type": "stream",
     "text": [
      "\n",
      "Call:\n",
      "glm(formula = y ~ poly(x, i), data = df)\n",
      "\n",
      "Deviance Residuals: \n",
      "    Min       1Q   Median       3Q      Max  \n",
      "-7.3469  -0.9275   0.8028   1.5608   4.3974  \n",
      "\n",
      "Coefficients:\n",
      "            Estimate Std. Error t value Pr(>|t|)    \n",
      "(Intercept)  -1.8277     0.2362  -7.737 9.18e-12 ***\n",
      "poly(x, i)    2.3164     2.3622   0.981    0.329    \n",
      "---\n",
      "Signif. codes:  0 '***' 0.001 '**' 0.01 '*' 0.05 '.' 0.1 ' ' 1\n",
      "\n",
      "(Dispersion parameter for gaussian family taken to be 5.580018)\n",
      "\n",
      "    Null deviance: 552.21  on 99  degrees of freedom\n",
      "Residual deviance: 546.84  on 98  degrees of freedom\n",
      "AIC: 459.69\n",
      "\n",
      "Number of Fisher Scoring iterations: 2\n",
      "\n",
      "\n",
      "Call:\n",
      "glm(formula = y ~ poly(x, i), data = df)\n",
      "\n",
      "Deviance Residuals: \n",
      "     Min        1Q    Median        3Q       Max  \n",
      "-2.89884  -0.53765   0.04135   0.61490   2.73607  \n",
      "\n",
      "Coefficients:\n",
      "            Estimate Std. Error t value Pr(>|t|)    \n",
      "(Intercept)  -1.8277     0.1032 -17.704   <2e-16 ***\n",
      "poly(x, i)1   2.3164     1.0324   2.244   0.0271 *  \n",
      "poly(x, i)2 -21.0586     1.0324 -20.399   <2e-16 ***\n",
      "---\n",
      "Signif. codes:  0 '***' 0.001 '**' 0.01 '*' 0.05 '.' 0.1 ' ' 1\n",
      "\n",
      "(Dispersion parameter for gaussian family taken to be 1.06575)\n",
      "\n",
      "    Null deviance: 552.21  on 99  degrees of freedom\n",
      "Residual deviance: 103.38  on 97  degrees of freedom\n",
      "AIC: 295.11\n",
      "\n",
      "Number of Fisher Scoring iterations: 2\n",
      "\n",
      "\n",
      "Call:\n",
      "glm(formula = y ~ poly(x, i), data = df)\n",
      "\n",
      "Deviance Residuals: \n",
      "     Min        1Q    Median        3Q       Max  \n",
      "-2.87250  -0.53881   0.02862   0.59383   2.74350  \n",
      "\n",
      "Coefficients:\n",
      "            Estimate Std. Error t value Pr(>|t|)    \n",
      "(Intercept)  -1.8277     0.1037 -17.621   <2e-16 ***\n",
      "poly(x, i)1   2.3164     1.0372   2.233   0.0279 *  \n",
      "poly(x, i)2 -21.0586     1.0372 -20.302   <2e-16 ***\n",
      "poly(x, i)3  -0.3048     1.0372  -0.294   0.7695    \n",
      "---\n",
      "Signif. codes:  0 '***' 0.001 '**' 0.01 '*' 0.05 '.' 0.1 ' ' 1\n",
      "\n",
      "(Dispersion parameter for gaussian family taken to be 1.075883)\n",
      "\n",
      "    Null deviance: 552.21  on 99  degrees of freedom\n",
      "Residual deviance: 103.28  on 96  degrees of freedom\n",
      "AIC: 297.02\n",
      "\n",
      "Number of Fisher Scoring iterations: 2\n",
      "\n",
      "\n",
      "Call:\n",
      "glm(formula = y ~ poly(x, i), data = df)\n",
      "\n",
      "Deviance Residuals: \n",
      "    Min       1Q   Median       3Q      Max  \n",
      "-2.8914  -0.5244   0.0749   0.5932   2.7796  \n",
      "\n",
      "Coefficients:\n",
      "            Estimate Std. Error t value Pr(>|t|)    \n",
      "(Intercept)  -1.8277     0.1041 -17.549   <2e-16 ***\n",
      "poly(x, i)1   2.3164     1.0415   2.224   0.0285 *  \n",
      "poly(x, i)2 -21.0586     1.0415 -20.220   <2e-16 ***\n",
      "poly(x, i)3  -0.3048     1.0415  -0.293   0.7704    \n",
      "poly(x, i)4  -0.4926     1.0415  -0.473   0.6373    \n",
      "---\n",
      "Signif. codes:  0 '***' 0.001 '**' 0.01 '*' 0.05 '.' 0.1 ' ' 1\n",
      "\n",
      "(Dispersion parameter for gaussian family taken to be 1.084654)\n",
      "\n",
      "    Null deviance: 552.21  on 99  degrees of freedom\n",
      "Residual deviance: 103.04  on 95  degrees of freedom\n",
      "AIC: 298.78\n",
      "\n",
      "Number of Fisher Scoring iterations: 2\n",
      "\n"
     ]
    }
   ],
   "source": [
    "for (i in 1:4) {\n",
    "    glm.fit = glm(y~poly(x, i), data=df)\n",
    "    print(summary(glm.fit))\n",
    "}"
   ]
  },
  {
   "cell_type": "markdown",
   "metadata": {},
   "source": [
    "We can observe that in all of the models the coefficient associate with x and x^2 parameter is statistically significant while others are not. These results somewhat agree with the results drawn from the cross-validation results since they all point towards the second model being the true data generating function."
   ]
  },
  {
   "cell_type": "markdown",
   "metadata": {},
   "source": [
    "## Question 9\n",
    "\n",
    "We will now consider the Boston housing data set, from the MASS library."
   ]
  },
  {
   "cell_type": "markdown",
   "metadata": {},
   "source": [
    "### Step (a)\n",
    "\n",
    "> Based on this data set, provide an estimate for the population mean of medv . Call this estimate $\\hat{\\mu}$."
   ]
  },
  {
   "cell_type": "code",
   "execution_count": 18,
   "metadata": {},
   "outputs": [],
   "source": [
    "library(MASS)\n",
    "attach(Boston)"
   ]
  },
  {
   "cell_type": "code",
   "execution_count": 19,
   "metadata": {},
   "outputs": [
    {
     "data": {
      "text/html": [
       "22.5328063241107"
      ],
      "text/latex": [
       "22.5328063241107"
      ],
      "text/markdown": [
       "22.5328063241107"
      ],
      "text/plain": [
       "[1] 22.53281"
      ]
     },
     "metadata": {},
     "output_type": "display_data"
    }
   ],
   "source": [
    "mean_medv = mean(Boston$medv)\n",
    "mean_medv"
   ]
  },
  {
   "cell_type": "markdown",
   "metadata": {},
   "source": [
    "### Step (b)\n",
    "\n",
    "> Provide an estimate of the standard error of $\\hat{\\mu}$. Interpret this result. Hint: We can compute the standard error of the sample mean by dividing the sample standard deviation by the square root of the number of observations."
   ]
  },
  {
   "cell_type": "code",
   "execution_count": 20,
   "metadata": {},
   "outputs": [
    {
     "data": {
      "text/html": [
       "0.408861147497535"
      ],
      "text/latex": [
       "0.408861147497535"
      ],
      "text/markdown": [
       "0.408861147497535"
      ],
      "text/plain": [
       "[1] 0.4088611"
      ]
     },
     "metadata": {},
     "output_type": "display_data"
    }
   ],
   "source": [
    "stderr_med = sd(Boston$medv) / sqrt(nrow(Boston))\n",
    "stderr_med"
   ]
  },
  {
   "cell_type": "markdown",
   "metadata": {},
   "source": [
    "### Step (c)\n",
    "\n",
    "> Now estimate the standard error of $\\hat{\\mu}$ using the bootstrap. How does this compare to your answer from (b)?"
   ]
  },
  {
   "cell_type": "code",
   "execution_count": 21,
   "metadata": {},
   "outputs": [
    {
     "data": {
      "text/plain": [
       "\n",
       "ORDINARY NONPARAMETRIC BOOTSTRAP\n",
       "\n",
       "\n",
       "Call:\n",
       "boot(data = Boston$medv, statistic = meanfunc, R = 10000)\n",
       "\n",
       "\n",
       "Bootstrap Statistics :\n",
       "    original       bias    std. error\n",
       "t1* 22.53281 -0.003574229   0.4120724"
      ]
     },
     "metadata": {},
     "output_type": "display_data"
    }
   ],
   "source": [
    "library(boot)\n",
    "set.seed(100)\n",
    "meanfunc = function(x, i) {mean(x[i])}\n",
    "bootmean = boot(Boston$medv, meanfunc, 10000)\n",
    "bootmean"
   ]
  },
  {
   "cell_type": "markdown",
   "metadata": {},
   "source": [
    "We can observe that the result is very similar to the standard error calculated in section (b)."
   ]
  },
  {
   "cell_type": "markdown",
   "metadata": {},
   "source": [
    "### Step (d)\n",
    "\n",
    ">  Based on your bootstrap estimate from (c), provide a 95% confidence interval for the mean of `medv`. Compare it to the results obtained using `t.test(Boston$medv)`. **Hint**: You can approximate a 95% confidence interval using the formula $[\\hat{\\mu}-2SE(\\hat{\\mu}), \\hat{\\mu}+2SE(\\hat{\\mu})]$"
   ]
  },
  {
   "cell_type": "code",
   "execution_count": 22,
   "metadata": {},
   "outputs": [
    {
     "data": {
      "text/html": [
       "'95% CI is [ 21.709 , 23.357 ]'"
      ],
      "text/latex": [
       "'95\\% CI is {[} 21.709 , 23.357 {]}'"
      ],
      "text/markdown": [
       "'95% CI is [ 21.709 , 23.357 ]'"
      ],
      "text/plain": [
       "[1] \"95% CI is [ 21.709 , 23.357 ]\""
      ]
     },
     "metadata": {},
     "output_type": "display_data"
    }
   ],
   "source": [
    "paste(\"95% CI is [\", round(mean_medv - 2 * 0.412, 3),\",\", round(mean_medv + 2 * 0.412, 3), \"]\")"
   ]
  },
  {
   "cell_type": "markdown",
   "metadata": {},
   "source": [
    "### Step (e)\n",
    "\n",
    "> Based on this data set, provide an estimate, $\\hat{\\mu}_{medv}$, for the median value of medv in the population."
   ]
  },
  {
   "cell_type": "code",
   "execution_count": 23,
   "metadata": {},
   "outputs": [
    {
     "data": {
      "text/html": [
       "21.2"
      ],
      "text/latex": [
       "21.2"
      ],
      "text/markdown": [
       "21.2"
      ],
      "text/plain": [
       "[1] 21.2"
      ]
     },
     "metadata": {},
     "output_type": "display_data"
    }
   ],
   "source": [
    "medvmed = median(Boston$medv)\n",
    "medvmed"
   ]
  },
  {
   "cell_type": "markdown",
   "metadata": {},
   "source": [
    "### Step (f)\n",
    "\n",
    "> We now would like to estimate the standard error of $\\hat{\\mu}_{medv}$. Unfortunately, there is no simple formula for computing the standard error of the median. Instead, estimate the standard error of the median using the bootstrap. Comment on your findings."
   ]
  },
  {
   "cell_type": "code",
   "execution_count": 24,
   "metadata": {},
   "outputs": [
    {
     "data": {
      "text/plain": [
       "\n",
       "ORDINARY NONPARAMETRIC BOOTSTRAP\n",
       "\n",
       "\n",
       "Call:\n",
       "boot(data = Boston$medv, statistic = funcmed, R = 10000)\n",
       "\n",
       "\n",
       "Bootstrap Statistics :\n",
       "    original    bias    std. error\n",
       "t1*     21.2 -0.009705   0.3785636"
      ]
     },
     "metadata": {},
     "output_type": "display_data"
    }
   ],
   "source": [
    "funcmed = function(x, i) {median(x[i])}\n",
    "bootmed = boot(Boston$medv, funcmed, 10000)\n",
    "bootmed"
   ]
  },
  {
   "cell_type": "markdown",
   "metadata": {},
   "source": [
    "We can observe that the standard error of the median using bootstrap is 0.378. Which indicates the following 95% CI."
   ]
  },
  {
   "cell_type": "code",
   "execution_count": 25,
   "metadata": {},
   "outputs": [
    {
     "data": {
      "text/html": [
       "'95% CI for median of medv is [ 20.444 , 21.956 ]'"
      ],
      "text/latex": [
       "'95\\% CI for median of medv is {[} 20.444 , 21.956 {]}'"
      ],
      "text/markdown": [
       "'95% CI for median of medv is [ 20.444 , 21.956 ]'"
      ],
      "text/plain": [
       "[1] \"95% CI for median of medv is [ 20.444 , 21.956 ]\""
      ]
     },
     "metadata": {},
     "output_type": "display_data"
    }
   ],
   "source": [
    "paste(\"95% CI for median of medv is [\", round(medvmed - 2 * 0.378, 3),\",\", round(medvmed + 2 * 0.378, 3), \"]\")"
   ]
  },
  {
   "cell_type": "markdown",
   "metadata": {},
   "source": [
    "### Step (g)\n",
    "\n",
    "> Based on this data set, provide an estimate for the tenth percentile of medv in Boston suburbs. Call this quantity $\\hat{\\mu}_{0.1}$. (You can use the `quantile()` function.)"
   ]
  },
  {
   "cell_type": "code",
   "execution_count": 26,
   "metadata": {},
   "outputs": [
    {
     "data": {
      "text/html": [
       "<strong>10%:</strong> 12.75"
      ],
      "text/latex": [
       "\\textbf{10\\textbackslash{}\\%:} 12.75"
      ],
      "text/markdown": [
       "**10%:** 12.75"
      ],
      "text/plain": [
       "  10% \n",
       "12.75 "
      ]
     },
     "metadata": {},
     "output_type": "display_data"
    }
   ],
   "source": [
    "quant = quantile(Boston$medv, seq(0,1,by=0.1))[2]\n",
    "quant"
   ]
  },
  {
   "cell_type": "markdown",
   "metadata": {},
   "source": [
    "### Step (h)\n",
    "\n",
    "> Use the bootstrap to estimate the standard error of $\\hat{\\mu}_{0.1}$. Comment on your findings."
   ]
  },
  {
   "cell_type": "code",
   "execution_count": 27,
   "metadata": {},
   "outputs": [
    {
     "data": {
      "text/plain": [
       "\n",
       "ORDINARY NONPARAMETRIC BOOTSTRAP\n",
       "\n",
       "\n",
       "Call:\n",
       "boot(data = Boston$medv, statistic = quantfunc, R = 10000)\n",
       "\n",
       "\n",
       "Bootstrap Statistics :\n",
       "    original   bias    std. error\n",
       "t1*    12.75 0.003965   0.5052243"
      ]
     },
     "metadata": {},
     "output_type": "display_data"
    }
   ],
   "source": [
    "quantfunc = function(x, i) {quantile(x[i], seq(0,1,by=0.1))[2]}\n",
    "quantboot = boot(Boston$medv, quantfunc, 10000)\n",
    "quantboot"
   ]
  },
  {
   "cell_type": "markdown",
   "metadata": {},
   "source": [
    "10th percentile has a standard error of 0.5 and a value of 12.75, which means the confidence interval for it is the following."
   ]
  },
  {
   "cell_type": "code",
   "execution_count": 28,
   "metadata": {},
   "outputs": [
    {
     "data": {
      "text/html": [
       "'95% CI for 10th percentile of medv is [ 11.75 , 13.75 ]'"
      ],
      "text/latex": [
       "'95\\% CI for 10th percentile of medv is {[} 11.75 , 13.75 {]}'"
      ],
      "text/markdown": [
       "'95% CI for 10th percentile of medv is [ 11.75 , 13.75 ]'"
      ],
      "text/plain": [
       "[1] \"95% CI for 10th percentile of medv is [ 11.75 , 13.75 ]\""
      ]
     },
     "metadata": {},
     "output_type": "display_data"
    }
   ],
   "source": [
    "paste(\"95% CI for 10th percentile of medv is [\", round(quant - 2 * 0.5, 2),\",\", round(quant + 2 * 0.5, 2), \"]\")"
   ]
  }
 ],
 "metadata": {
  "kernelspec": {
   "display_name": "R",
   "language": "R",
   "name": "ir"
  },
  "language_info": {
   "codemirror_mode": "r",
   "file_extension": ".r",
   "mimetype": "text/x-r-source",
   "name": "R",
   "pygments_lexer": "r",
   "version": "3.5.2"
  }
 },
 "nbformat": 4,
 "nbformat_minor": 2
}
