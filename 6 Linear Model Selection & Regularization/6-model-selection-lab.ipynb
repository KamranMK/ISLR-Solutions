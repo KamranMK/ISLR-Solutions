{
 "cells": [
  {
   "cell_type": "markdown",
   "metadata": {},
   "source": [
    "# 6.5 Lab 1: Subset Selection Methods\n",
    "\n",
    "## 6.5.1 Best Subset Selection\n",
    "\n",
    "Here we apply the best subset selection approach to the Hitters data. We wish to predict a baseball player’s `Salary` on the basis of various statistics associated with performance in the previous year.\n",
    "\n",
    "First of all, we note that the `Salary` variable is missing for some of the players. The `is.na()` function can be used to identify the missing observations. It returns a vector of the same length as the input vector, with a `TRUE` for any elements that are missing, and a `FALSE` for non-missing elements. The `sum()` function can then be used to count all of the missing elements"
   ]
  },
  {
   "cell_type": "code",
   "execution_count": 2,
   "metadata": {},
   "outputs": [
    {
     "data": {
      "text/html": [
       "<table>\n",
       "<thead><tr><th></th><th scope=col>AtBat</th><th scope=col>Hits</th><th scope=col>HmRun</th><th scope=col>Runs</th><th scope=col>RBI</th><th scope=col>Walks</th><th scope=col>Years</th><th scope=col>CAtBat</th><th scope=col>CHits</th><th scope=col>CHmRun</th><th scope=col>CRuns</th><th scope=col>CRBI</th><th scope=col>CWalks</th><th scope=col>League</th><th scope=col>Division</th><th scope=col>PutOuts</th><th scope=col>Assists</th><th scope=col>Errors</th><th scope=col>Salary</th><th scope=col>NewLeague</th></tr></thead>\n",
       "<tbody>\n",
       "\t<tr><th scope=row>-Andy Allanson</th><td>293  </td><td> 66  </td><td> 1   </td><td>30   </td><td>29   </td><td>14   </td><td> 1   </td><td> 293 </td><td>  66 </td><td>  1  </td><td> 30  </td><td> 29  </td><td> 14  </td><td>A    </td><td>E    </td><td>446  </td><td> 33  </td><td>20   </td><td>   NA</td><td>A    </td></tr>\n",
       "\t<tr><th scope=row>-Alan Ashby</th><td>315  </td><td> 81  </td><td> 7   </td><td>24   </td><td>38   </td><td>39   </td><td>14   </td><td>3449 </td><td> 835 </td><td> 69  </td><td>321  </td><td>414  </td><td>375  </td><td>N    </td><td>W    </td><td>632  </td><td> 43  </td><td>10   </td><td>475.0</td><td>N    </td></tr>\n",
       "\t<tr><th scope=row>-Alvin Davis</th><td>479  </td><td>130  </td><td>18   </td><td>66   </td><td>72   </td><td>76   </td><td> 3   </td><td>1624 </td><td> 457 </td><td> 63  </td><td>224  </td><td>266  </td><td>263  </td><td>A    </td><td>W    </td><td>880  </td><td> 82  </td><td>14   </td><td>480.0</td><td>A    </td></tr>\n",
       "\t<tr><th scope=row>-Andre Dawson</th><td>496  </td><td>141  </td><td>20   </td><td>65   </td><td>78   </td><td>37   </td><td>11   </td><td>5628 </td><td>1575 </td><td>225  </td><td>828  </td><td>838  </td><td>354  </td><td>N    </td><td>E    </td><td>200  </td><td> 11  </td><td> 3   </td><td>500.0</td><td>N    </td></tr>\n",
       "\t<tr><th scope=row>-Andres Galarraga</th><td>321  </td><td> 87  </td><td>10   </td><td>39   </td><td>42   </td><td>30   </td><td> 2   </td><td> 396 </td><td> 101 </td><td> 12  </td><td> 48  </td><td> 46  </td><td> 33  </td><td>N    </td><td>E    </td><td>805  </td><td> 40  </td><td> 4   </td><td> 91.5</td><td>N    </td></tr>\n",
       "\t<tr><th scope=row>-Alfredo Griffin</th><td>594  </td><td>169  </td><td> 4   </td><td>74   </td><td>51   </td><td>35   </td><td>11   </td><td>4408 </td><td>1133 </td><td> 19  </td><td>501  </td><td>336  </td><td>194  </td><td>A    </td><td>W    </td><td>282  </td><td>421  </td><td>25   </td><td>750.0</td><td>A    </td></tr>\n",
       "</tbody>\n",
       "</table>\n"
      ],
      "text/latex": [
       "\\begin{tabular}{r|llllllllllllllllllll}\n",
       "  & AtBat & Hits & HmRun & Runs & RBI & Walks & Years & CAtBat & CHits & CHmRun & CRuns & CRBI & CWalks & League & Division & PutOuts & Assists & Errors & Salary & NewLeague\\\\\n",
       "\\hline\n",
       "\t-Andy Allanson & 293   &  66   &  1    & 30    & 29    & 14    &  1    &  293  &   66  &   1   &  30   &  29   &  14   & A     & E     & 446   &  33   & 20    &    NA & A    \\\\\n",
       "\t-Alan Ashby & 315   &  81   &  7    & 24    & 38    & 39    & 14    & 3449  &  835  &  69   & 321   & 414   & 375   & N     & W     & 632   &  43   & 10    & 475.0 & N    \\\\\n",
       "\t-Alvin Davis & 479   & 130   & 18    & 66    & 72    & 76    &  3    & 1624  &  457  &  63   & 224   & 266   & 263   & A     & W     & 880   &  82   & 14    & 480.0 & A    \\\\\n",
       "\t-Andre Dawson & 496   & 141   & 20    & 65    & 78    & 37    & 11    & 5628  & 1575  & 225   & 828   & 838   & 354   & N     & E     & 200   &  11   &  3    & 500.0 & N    \\\\\n",
       "\t-Andres Galarraga & 321   &  87   & 10    & 39    & 42    & 30    &  2    &  396  &  101  &  12   &  48   &  46   &  33   & N     & E     & 805   &  40   &  4    &  91.5 & N    \\\\\n",
       "\t-Alfredo Griffin & 594   & 169   &  4    & 74    & 51    & 35    & 11    & 4408  & 1133  &  19   & 501   & 336   & 194   & A     & W     & 282   & 421   & 25    & 750.0 & A    \\\\\n",
       "\\end{tabular}\n"
      ],
      "text/markdown": [
       "\n",
       "| <!--/--> | AtBat | Hits | HmRun | Runs | RBI | Walks | Years | CAtBat | CHits | CHmRun | CRuns | CRBI | CWalks | League | Division | PutOuts | Assists | Errors | Salary | NewLeague |\n",
       "|---|---|---|---|---|---|---|---|---|---|---|---|---|---|---|---|---|---|---|---|---|\n",
       "| -Andy Allanson | 293   |  66   |  1    | 30    | 29    | 14    |  1    |  293  |   66  |   1   |  30   |  29   |  14   | A     | E     | 446   |  33   | 20    |    NA | A     |\n",
       "| -Alan Ashby | 315   |  81   |  7    | 24    | 38    | 39    | 14    | 3449  |  835  |  69   | 321   | 414   | 375   | N     | W     | 632   |  43   | 10    | 475.0 | N     |\n",
       "| -Alvin Davis | 479   | 130   | 18    | 66    | 72    | 76    |  3    | 1624  |  457  |  63   | 224   | 266   | 263   | A     | W     | 880   |  82   | 14    | 480.0 | A     |\n",
       "| -Andre Dawson | 496   | 141   | 20    | 65    | 78    | 37    | 11    | 5628  | 1575  | 225   | 828   | 838   | 354   | N     | E     | 200   |  11   |  3    | 500.0 | N     |\n",
       "| -Andres Galarraga | 321   |  87   | 10    | 39    | 42    | 30    |  2    |  396  |  101  |  12   |  48   |  46   |  33   | N     | E     | 805   |  40   |  4    |  91.5 | N     |\n",
       "| -Alfredo Griffin | 594   | 169   |  4    | 74    | 51    | 35    | 11    | 4408  | 1133  |  19   | 501   | 336   | 194   | A     | W     | 282   | 421   | 25    | 750.0 | A     |\n",
       "\n"
      ],
      "text/plain": [
       "                  AtBat Hits HmRun Runs RBI Walks Years CAtBat CHits CHmRun\n",
       "-Andy Allanson    293    66   1    30   29  14     1     293     66    1   \n",
       "-Alan Ashby       315    81   7    24   38  39    14    3449    835   69   \n",
       "-Alvin Davis      479   130  18    66   72  76     3    1624    457   63   \n",
       "-Andre Dawson     496   141  20    65   78  37    11    5628   1575  225   \n",
       "-Andres Galarraga 321    87  10    39   42  30     2     396    101   12   \n",
       "-Alfredo Griffin  594   169   4    74   51  35    11    4408   1133   19   \n",
       "                  CRuns CRBI CWalks League Division PutOuts Assists Errors\n",
       "-Andy Allanson     30    29   14    A      E        446      33     20    \n",
       "-Alan Ashby       321   414  375    N      W        632      43     10    \n",
       "-Alvin Davis      224   266  263    A      W        880      82     14    \n",
       "-Andre Dawson     828   838  354    N      E        200      11      3    \n",
       "-Andres Galarraga  48    46   33    N      E        805      40      4    \n",
       "-Alfredo Griffin  501   336  194    A      W        282     421     25    \n",
       "                  Salary NewLeague\n",
       "-Andy Allanson       NA  A        \n",
       "-Alan Ashby       475.0  N        \n",
       "-Alvin Davis      480.0  A        \n",
       "-Andre Dawson     500.0  N        \n",
       "-Andres Galarraga  91.5  N        \n",
       "-Alfredo Griffin  750.0  A        "
      ]
     },
     "metadata": {},
     "output_type": "display_data"
    },
    {
     "name": "stdout",
     "output_type": "stream",
     "text": [
      " [1] \"AtBat\"     \"Hits\"      \"HmRun\"     \"Runs\"      \"RBI\"       \"Walks\"    \n",
      " [7] \"Years\"     \"CAtBat\"    \"CHits\"     \"CHmRun\"    \"CRuns\"     \"CRBI\"     \n",
      "[13] \"CWalks\"    \"League\"    \"Division\"  \"PutOuts\"   \"Assists\"   \"Errors\"   \n",
      "[19] \"Salary\"    \"NewLeague\"\n"
     ]
    }
   ],
   "source": [
    "library(ISLR)\n",
    "head(Hitters)\n",
    "print(names(Hitters))"
   ]
  },
  {
   "cell_type": "code",
   "execution_count": 3,
   "metadata": {},
   "outputs": [
    {
     "data": {
      "text/html": [
       "<ol class=list-inline>\n",
       "\t<li>322</li>\n",
       "\t<li>20</li>\n",
       "</ol>\n"
      ],
      "text/latex": [
       "\\begin{enumerate*}\n",
       "\\item 322\n",
       "\\item 20\n",
       "\\end{enumerate*}\n"
      ],
      "text/markdown": [
       "1. 322\n",
       "2. 20\n",
       "\n",
       "\n"
      ],
      "text/plain": [
       "[1] 322  20"
      ]
     },
     "metadata": {},
     "output_type": "display_data"
    }
   ],
   "source": [
    "dim(Hitters)"
   ]
  },
  {
   "cell_type": "code",
   "execution_count": 4,
   "metadata": {},
   "outputs": [
    {
     "data": {
      "text/html": [
       "59"
      ],
      "text/latex": [
       "59"
      ],
      "text/markdown": [
       "59"
      ],
      "text/plain": [
       "[1] 59"
      ]
     },
     "metadata": {},
     "output_type": "display_data"
    }
   ],
   "source": [
    "sum(is.na(Hitters$Salary))"
   ]
  },
  {
   "cell_type": "markdown",
   "metadata": {},
   "source": [
    "Hence we see that Salary is missing for 59 players. The `na.omit()` function removes all of the rows that have missing values in any variable."
   ]
  },
  {
   "cell_type": "code",
   "execution_count": 5,
   "metadata": {},
   "outputs": [
    {
     "data": {
      "text/html": [
       "<ol class=list-inline>\n",
       "\t<li>263</li>\n",
       "\t<li>20</li>\n",
       "</ol>\n"
      ],
      "text/latex": [
       "\\begin{enumerate*}\n",
       "\\item 263\n",
       "\\item 20\n",
       "\\end{enumerate*}\n"
      ],
      "text/markdown": [
       "1. 263\n",
       "2. 20\n",
       "\n",
       "\n"
      ],
      "text/plain": [
       "[1] 263  20"
      ]
     },
     "metadata": {},
     "output_type": "display_data"
    },
    {
     "data": {
      "text/html": [
       "0"
      ],
      "text/latex": [
       "0"
      ],
      "text/markdown": [
       "0"
      ],
      "text/plain": [
       "[1] 0"
      ]
     },
     "metadata": {},
     "output_type": "display_data"
    }
   ],
   "source": [
    "Hitters = na.omit(Hitters)\n",
    "dim(Hitters)\n",
    "sum(is.na(Hitters))"
   ]
  },
  {
   "cell_type": "markdown",
   "metadata": {},
   "source": [
    "The `regsubsets()` function (part of the leaps library) performs best subset selection by identifying the best model that contains a given number of predictors, where best is quantified using RSS. The syntax is the same as for `lm()`. The `summary()` command outputs the best set of variables for each model size."
   ]
  },
  {
   "cell_type": "code",
   "execution_count": 6,
   "metadata": {},
   "outputs": [
    {
     "name": "stderr",
     "output_type": "stream",
     "text": [
      "Warning message:\n",
      "\"package 'leaps' was built under R version 3.5.3\""
     ]
    },
    {
     "data": {
      "text/plain": [
       "Subset selection object\n",
       "Call: regsubsets.formula(Salary ~ ., Hitters)\n",
       "19 Variables  (and intercept)\n",
       "           Forced in Forced out\n",
       "AtBat          FALSE      FALSE\n",
       "Hits           FALSE      FALSE\n",
       "HmRun          FALSE      FALSE\n",
       "Runs           FALSE      FALSE\n",
       "RBI            FALSE      FALSE\n",
       "Walks          FALSE      FALSE\n",
       "Years          FALSE      FALSE\n",
       "CAtBat         FALSE      FALSE\n",
       "CHits          FALSE      FALSE\n",
       "CHmRun         FALSE      FALSE\n",
       "CRuns          FALSE      FALSE\n",
       "CRBI           FALSE      FALSE\n",
       "CWalks         FALSE      FALSE\n",
       "LeagueN        FALSE      FALSE\n",
       "DivisionW      FALSE      FALSE\n",
       "PutOuts        FALSE      FALSE\n",
       "Assists        FALSE      FALSE\n",
       "Errors         FALSE      FALSE\n",
       "NewLeagueN     FALSE      FALSE\n",
       "1 subsets of each size up to 8\n",
       "Selection Algorithm: exhaustive\n",
       "         AtBat Hits HmRun Runs RBI Walks Years CAtBat CHits CHmRun CRuns CRBI\n",
       "1  ( 1 ) \" \"   \" \"  \" \"   \" \"  \" \" \" \"   \" \"   \" \"    \" \"   \" \"    \" \"   \"*\" \n",
       "2  ( 1 ) \" \"   \"*\"  \" \"   \" \"  \" \" \" \"   \" \"   \" \"    \" \"   \" \"    \" \"   \"*\" \n",
       "3  ( 1 ) \" \"   \"*\"  \" \"   \" \"  \" \" \" \"   \" \"   \" \"    \" \"   \" \"    \" \"   \"*\" \n",
       "4  ( 1 ) \" \"   \"*\"  \" \"   \" \"  \" \" \" \"   \" \"   \" \"    \" \"   \" \"    \" \"   \"*\" \n",
       "5  ( 1 ) \"*\"   \"*\"  \" \"   \" \"  \" \" \" \"   \" \"   \" \"    \" \"   \" \"    \" \"   \"*\" \n",
       "6  ( 1 ) \"*\"   \"*\"  \" \"   \" \"  \" \" \"*\"   \" \"   \" \"    \" \"   \" \"    \" \"   \"*\" \n",
       "7  ( 1 ) \" \"   \"*\"  \" \"   \" \"  \" \" \"*\"   \" \"   \"*\"    \"*\"   \"*\"    \" \"   \" \" \n",
       "8  ( 1 ) \"*\"   \"*\"  \" \"   \" \"  \" \" \"*\"   \" \"   \" \"    \" \"   \"*\"    \"*\"   \" \" \n",
       "         CWalks LeagueN DivisionW PutOuts Assists Errors NewLeagueN\n",
       "1  ( 1 ) \" \"    \" \"     \" \"       \" \"     \" \"     \" \"    \" \"       \n",
       "2  ( 1 ) \" \"    \" \"     \" \"       \" \"     \" \"     \" \"    \" \"       \n",
       "3  ( 1 ) \" \"    \" \"     \" \"       \"*\"     \" \"     \" \"    \" \"       \n",
       "4  ( 1 ) \" \"    \" \"     \"*\"       \"*\"     \" \"     \" \"    \" \"       \n",
       "5  ( 1 ) \" \"    \" \"     \"*\"       \"*\"     \" \"     \" \"    \" \"       \n",
       "6  ( 1 ) \" \"    \" \"     \"*\"       \"*\"     \" \"     \" \"    \" \"       \n",
       "7  ( 1 ) \" \"    \" \"     \"*\"       \"*\"     \" \"     \" \"    \" \"       \n",
       "8  ( 1 ) \"*\"    \" \"     \"*\"       \"*\"     \" \"     \" \"    \" \"       "
      ]
     },
     "metadata": {},
     "output_type": "display_data"
    }
   ],
   "source": [
    "library(leaps)\n",
    "regfit.full=regsubsets(Salary~., Hitters)\n",
    "summary(regfit.full)"
   ]
  },
  {
   "cell_type": "markdown",
   "metadata": {},
   "source": [
    "An asterisk indicates that a given variable is included in the corresponding model. For instance, this output indicates that the best two-variable model contains only Hits and CRBI. By default, `regsubsets()` only reports results up to the best eight-variable model. But the nvmax option can be used in order to return as many variables as are desired. Here we fit up to a 19-variable model."
   ]
  },
  {
   "cell_type": "code",
   "execution_count": 7,
   "metadata": {},
   "outputs": [],
   "source": [
    "regfit.full=regsubsets(Salary~., data=Hitters, nvmax=19)\n",
    "reg.summary=summary(regfit.full)"
   ]
  },
  {
   "cell_type": "code",
   "execution_count": 8,
   "metadata": {},
   "outputs": [
    {
     "name": "stdout",
     "output_type": "stream",
     "text": [
      "[1] \"which\"  \"rsq\"    \"rss\"    \"adjr2\"  \"cp\"     \"bic\"    \"outmat\" \"obj\"   \n"
     ]
    }
   ],
   "source": [
    "print(names(reg.summary))"
   ]
  },
  {
   "cell_type": "markdown",
   "metadata": {},
   "source": [
    "For instance, we see that the $R^2$ statistic increases from 32 %, when only one variable is included in the model, to almost 55 %, when all variables are included. As expected, the $R^2$ statistic increases monotonically as more variables are included."
   ]
  },
  {
   "cell_type": "code",
   "execution_count": 9,
   "metadata": {},
   "outputs": [
    {
     "name": "stdout",
     "output_type": "stream",
     "text": [
      " [1] 0.3214501 0.4252237 0.4514294 0.4754067 0.4908036 0.5087146 0.5141227\n",
      " [8] 0.5285569 0.5346124 0.5404950 0.5426153 0.5436302 0.5444570 0.5452164\n",
      "[15] 0.5454692 0.5457656 0.5459518 0.5460945 0.5461159\n"
     ]
    }
   ],
   "source": [
    "print(reg.summary$rsq)"
   ]
  },
  {
   "cell_type": "markdown",
   "metadata": {},
   "source": [
    "Plotting RSS, adjusted $R^2$, $C_p$, and BIC for all of the models at once will help us decide which model to select. Note the `type=\"l\"` option tells `R` to connect the plotted points with lines."
   ]
  },
  {
   "cell_type": "code",
   "execution_count": 10,
   "metadata": {},
   "outputs": [
    {
     "data": {
      "text/html": [
       "11"
      ],
      "text/latex": [
       "11"
      ],
      "text/markdown": [
       "11"
      ],
      "text/plain": [
       "[1] 11"
      ]
     },
     "metadata": {},
     "output_type": "display_data"
    },
    {
     "data": {
      "image/png": "[encoded data removed]",
      "text/plain": [
       "plot without title"
      ]
     },
     "metadata": {},
     "output_type": "display_data"
    }
   ],
   "source": [
    "par(mfrow=c(2,2))\n",
    "plot(reg.summary$rss, xlab=\"Number of variables\", ylab=\"RSS\", type=\"l\")\n",
    "plot(reg.summary$adjr2, xlab=\"Number of variable\", ylab=\"Adjusted RSq\", type=\"l\")\n",
    "which.max(reg.summary$adjr2)\n",
    "points(11, reg.summary$adjr2[11], col=\"red\", cex=2, pch=20)"
   ]
  },
  {
   "cell_type": "markdown",
   "metadata": {},
   "source": [
    "The `points()` command works like the `plot()` command, except that it puts points on a plot that has already been created, instead of creating a new plot. The `which.max()` function can be used to identify the location of the maximum point of a vector. We will now plot a red dot to indicate the model with the largest adjusted $R^2$ statistic.\n",
    "\n",
    "In a similar fashion we can plot the $C_p$ and BIC statistics, and indicate the models with the smallest statistic using `which.min()`"
   ]
  },
  {
   "cell_type": "code",
   "execution_count": 11,
   "metadata": {},
   "outputs": [
    {
     "data": {
      "text/html": [
       "10"
      ],
      "text/latex": [
       "10"
      ],
      "text/markdown": [
       "10"
      ],
      "text/plain": [
       "[1] 10"
      ]
     },
     "metadata": {},
     "output_type": "display_data"
    },
    {
     "data": {
      "text/html": [
       "6"
      ],
      "text/latex": [
       "6"
      ],
      "text/markdown": [
       "6"
      ],
      "text/plain": [
       "[1] 6"
      ]
     },
     "metadata": {},
     "output_type": "display_data"
    },
    {
     "data": {
      "image/png": "[encoded data removed]",
      "text/plain": [
       "plot without title"
      ]
     },
     "metadata": {},
     "output_type": "display_data"
    }
   ],
   "source": [
    "par(mfrow=c(2,2))\n",
    "plot(reg.summary$cp, xlab=\"Number of Variables\", ylab=\"Cp\", type=\"l\")\n",
    "which.min(reg.summary$cp)\n",
    "points(10, reg.summary$cp[10], col=\"red\", cex=2, pch=20)\n",
    "which.min(reg.summary$bic)\n",
    "plot(reg.summary$bic, xlab=\"Number of Variables\", ylab=\"BIC\", type=\"l\")\n",
    "points(6, reg.summary$bic[6], col=\"red\", cex=2, pch=20)"
   ]
  },
  {
   "cell_type": "markdown",
   "metadata": {},
   "source": [
    "The `regsubsets()` function has a built-in `plot()` command which can be used to display the selected variables for the best model with a given number of predictors, ranked according to the BIC, $C_p$, adjusted $R^2$, or AIC. To find out more about this function, type `?plot.regsubsets`."
   ]
  },
  {
   "cell_type": "code",
   "execution_count": 12,
   "metadata": {},
   "outputs": [
    {
     "data": {
      "image/png": "[encoded data removed]",
      "text/plain": [
       "plot without title"
      ]
     },
     "metadata": {},
     "output_type": "display_data"
    },
    {
     "data": {
      "image/png": "[encoded data removed]",
      "text/plain": [
       "plot without title"
      ]
     },
     "metadata": {},
     "output_type": "display_data"
    },
    {
     "data": {
      "image/png": "[encoded data removed]",
      "text/plain": [
       "plot without title"
      ]
     },
     "metadata": {},
     "output_type": "display_data"
    },
    {
     "data": {
      "image/png": "[encoded data removed]",
      "text/plain": [
       "plot without title"
      ]
     },
     "metadata": {},
     "output_type": "display_data"
    }
   ],
   "source": [
    "plot(regfit.full, scale=\"r2\")\n",
    "plot(regfit.full, scale=\"adjr2\")\n",
    "plot(regfit.full, scale=\"Cp\")\n",
    "plot(regfit.full, scale=\"bic\")"
   ]
  },
  {
   "cell_type": "markdown",
   "metadata": {},
   "source": [
    "The top row of each plot contains a black square for each variable selected according to the optimal model associated with that statistic. For instance, we see that several models share a BIC close to −150. However, the model with the lowest BIC is the six-variable model that contains only `AtBat`, `Hits`, `Walks`, `CRBI`, `DivisionW`, and `PutOuts`. We can use the `coef()` function to see the coefficient estimates associated with this model."
   ]
  },
  {
   "cell_type": "code",
   "execution_count": 13,
   "metadata": {},
   "outputs": [
    {
     "name": "stdout",
     "output_type": "stream",
     "text": [
      " (Intercept)        AtBat         Hits        Walks         CRBI    DivisionW \n",
      "  91.5117981   -1.8685892    7.6043976    3.6976468    0.6430169 -122.9515338 \n",
      "     PutOuts \n",
      "   0.2643076 \n"
     ]
    }
   ],
   "source": [
    "print(coef(regfit.full, 6))"
   ]
  },
  {
   "cell_type": "markdown",
   "metadata": {},
   "source": [
    "## 6.5.2 Forward and Backward Stepwise Selection\n",
    "\n",
    "We can also use the `regsubsets()` function to perform forward stepwise or backward stepwise selection, using the argument `method=\"forward\"` or `method=\"backward\"`."
   ]
  },
  {
   "cell_type": "code",
   "execution_count": 14,
   "metadata": {},
   "outputs": [
    {
     "data": {
      "text/plain": [
       "Subset selection object\n",
       "Call: regsubsets.formula(Salary ~ ., data = Hitters, nvmax = 19, method = \"forward\")\n",
       "19 Variables  (and intercept)\n",
       "           Forced in Forced out\n",
       "AtBat          FALSE      FALSE\n",
       "Hits           FALSE      FALSE\n",
       "HmRun          FALSE      FALSE\n",
       "Runs           FALSE      FALSE\n",
       "RBI            FALSE      FALSE\n",
       "Walks          FALSE      FALSE\n",
       "Years          FALSE      FALSE\n",
       "CAtBat         FALSE      FALSE\n",
       "CHits          FALSE      FALSE\n",
       "CHmRun         FALSE      FALSE\n",
       "CRuns          FALSE      FALSE\n",
       "CRBI           FALSE      FALSE\n",
       "CWalks         FALSE      FALSE\n",
       "LeagueN        FALSE      FALSE\n",
       "DivisionW      FALSE      FALSE\n",
       "PutOuts        FALSE      FALSE\n",
       "Assists        FALSE      FALSE\n",
       "Errors         FALSE      FALSE\n",
       "NewLeagueN     FALSE      FALSE\n",
       "1 subsets of each size up to 19\n",
       "Selection Algorithm: forward\n",
       "          AtBat Hits HmRun Runs RBI Walks Years CAtBat CHits CHmRun CRuns CRBI\n",
       "1  ( 1 )  \" \"   \" \"  \" \"   \" \"  \" \" \" \"   \" \"   \" \"    \" \"   \" \"    \" \"   \"*\" \n",
       "2  ( 1 )  \" \"   \"*\"  \" \"   \" \"  \" \" \" \"   \" \"   \" \"    \" \"   \" \"    \" \"   \"*\" \n",
       "3  ( 1 )  \" \"   \"*\"  \" \"   \" \"  \" \" \" \"   \" \"   \" \"    \" \"   \" \"    \" \"   \"*\" \n",
       "4  ( 1 )  \" \"   \"*\"  \" \"   \" \"  \" \" \" \"   \" \"   \" \"    \" \"   \" \"    \" \"   \"*\" \n",
       "5  ( 1 )  \"*\"   \"*\"  \" \"   \" \"  \" \" \" \"   \" \"   \" \"    \" \"   \" \"    \" \"   \"*\" \n",
       "6  ( 1 )  \"*\"   \"*\"  \" \"   \" \"  \" \" \"*\"   \" \"   \" \"    \" \"   \" \"    \" \"   \"*\" \n",
       "7  ( 1 )  \"*\"   \"*\"  \" \"   \" \"  \" \" \"*\"   \" \"   \" \"    \" \"   \" \"    \" \"   \"*\" \n",
       "8  ( 1 )  \"*\"   \"*\"  \" \"   \" \"  \" \" \"*\"   \" \"   \" \"    \" \"   \" \"    \"*\"   \"*\" \n",
       "9  ( 1 )  \"*\"   \"*\"  \" \"   \" \"  \" \" \"*\"   \" \"   \"*\"    \" \"   \" \"    \"*\"   \"*\" \n",
       "10  ( 1 ) \"*\"   \"*\"  \" \"   \" \"  \" \" \"*\"   \" \"   \"*\"    \" \"   \" \"    \"*\"   \"*\" \n",
       "11  ( 1 ) \"*\"   \"*\"  \" \"   \" \"  \" \" \"*\"   \" \"   \"*\"    \" \"   \" \"    \"*\"   \"*\" \n",
       "12  ( 1 ) \"*\"   \"*\"  \" \"   \"*\"  \" \" \"*\"   \" \"   \"*\"    \" \"   \" \"    \"*\"   \"*\" \n",
       "13  ( 1 ) \"*\"   \"*\"  \" \"   \"*\"  \" \" \"*\"   \" \"   \"*\"    \" \"   \" \"    \"*\"   \"*\" \n",
       "14  ( 1 ) \"*\"   \"*\"  \"*\"   \"*\"  \" \" \"*\"   \" \"   \"*\"    \" \"   \" \"    \"*\"   \"*\" \n",
       "15  ( 1 ) \"*\"   \"*\"  \"*\"   \"*\"  \" \" \"*\"   \" \"   \"*\"    \"*\"   \" \"    \"*\"   \"*\" \n",
       "16  ( 1 ) \"*\"   \"*\"  \"*\"   \"*\"  \"*\" \"*\"   \" \"   \"*\"    \"*\"   \" \"    \"*\"   \"*\" \n",
       "17  ( 1 ) \"*\"   \"*\"  \"*\"   \"*\"  \"*\" \"*\"   \" \"   \"*\"    \"*\"   \" \"    \"*\"   \"*\" \n",
       "18  ( 1 ) \"*\"   \"*\"  \"*\"   \"*\"  \"*\" \"*\"   \"*\"   \"*\"    \"*\"   \" \"    \"*\"   \"*\" \n",
       "19  ( 1 ) \"*\"   \"*\"  \"*\"   \"*\"  \"*\" \"*\"   \"*\"   \"*\"    \"*\"   \"*\"    \"*\"   \"*\" \n",
       "          CWalks LeagueN DivisionW PutOuts Assists Errors NewLeagueN\n",
       "1  ( 1 )  \" \"    \" \"     \" \"       \" \"     \" \"     \" \"    \" \"       \n",
       "2  ( 1 )  \" \"    \" \"     \" \"       \" \"     \" \"     \" \"    \" \"       \n",
       "3  ( 1 )  \" \"    \" \"     \" \"       \"*\"     \" \"     \" \"    \" \"       \n",
       "4  ( 1 )  \" \"    \" \"     \"*\"       \"*\"     \" \"     \" \"    \" \"       \n",
       "5  ( 1 )  \" \"    \" \"     \"*\"       \"*\"     \" \"     \" \"    \" \"       \n",
       "6  ( 1 )  \" \"    \" \"     \"*\"       \"*\"     \" \"     \" \"    \" \"       \n",
       "7  ( 1 )  \"*\"    \" \"     \"*\"       \"*\"     \" \"     \" \"    \" \"       \n",
       "8  ( 1 )  \"*\"    \" \"     \"*\"       \"*\"     \" \"     \" \"    \" \"       \n",
       "9  ( 1 )  \"*\"    \" \"     \"*\"       \"*\"     \" \"     \" \"    \" \"       \n",
       "10  ( 1 ) \"*\"    \" \"     \"*\"       \"*\"     \"*\"     \" \"    \" \"       \n",
       "11  ( 1 ) \"*\"    \"*\"     \"*\"       \"*\"     \"*\"     \" \"    \" \"       \n",
       "12  ( 1 ) \"*\"    \"*\"     \"*\"       \"*\"     \"*\"     \" \"    \" \"       \n",
       "13  ( 1 ) \"*\"    \"*\"     \"*\"       \"*\"     \"*\"     \"*\"    \" \"       \n",
       "14  ( 1 ) \"*\"    \"*\"     \"*\"       \"*\"     \"*\"     \"*\"    \" \"       \n",
       "15  ( 1 ) \"*\"    \"*\"     \"*\"       \"*\"     \"*\"     \"*\"    \" \"       \n",
       "16  ( 1 ) \"*\"    \"*\"     \"*\"       \"*\"     \"*\"     \"*\"    \" \"       \n",
       "17  ( 1 ) \"*\"    \"*\"     \"*\"       \"*\"     \"*\"     \"*\"    \"*\"       \n",
       "18  ( 1 ) \"*\"    \"*\"     \"*\"       \"*\"     \"*\"     \"*\"    \"*\"       \n",
       "19  ( 1 ) \"*\"    \"*\"     \"*\"       \"*\"     \"*\"     \"*\"    \"*\"       "
      ]
     },
     "metadata": {},
     "output_type": "display_data"
    }
   ],
   "source": [
    "regfit.fwd=regsubsets(Salary~., data=Hitters, nvmax=19, method=\"forward\")\n",
    "summary(regfit.fwd)"
   ]
  },
  {
   "cell_type": "code",
   "execution_count": 71,
   "metadata": {},
   "outputs": [
    {
     "data": {
      "image/png": "[encoded data removed]",
      "text/plain": [
       "plot without title"
      ]
     },
     "metadata": {},
     "output_type": "display_data"
    }
   ],
   "source": [
    "plot(regfit.fwd, scale=\"Cp\")"
   ]
  },
  {
   "cell_type": "code",
   "execution_count": 15,
   "metadata": {},
   "outputs": [
    {
     "data": {
      "text/plain": [
       "Subset selection object\n",
       "Call: regsubsets.formula(Salary ~ ., data = Hitters, nvmax = 19, method = \"backward\")\n",
       "19 Variables  (and intercept)\n",
       "           Forced in Forced out\n",
       "AtBat          FALSE      FALSE\n",
       "Hits           FALSE      FALSE\n",
       "HmRun          FALSE      FALSE\n",
       "Runs           FALSE      FALSE\n",
       "RBI            FALSE      FALSE\n",
       "Walks          FALSE      FALSE\n",
       "Years          FALSE      FALSE\n",
       "CAtBat         FALSE      FALSE\n",
       "CHits          FALSE      FALSE\n",
       "CHmRun         FALSE      FALSE\n",
       "CRuns          FALSE      FALSE\n",
       "CRBI           FALSE      FALSE\n",
       "CWalks         FALSE      FALSE\n",
       "LeagueN        FALSE      FALSE\n",
       "DivisionW      FALSE      FALSE\n",
       "PutOuts        FALSE      FALSE\n",
       "Assists        FALSE      FALSE\n",
       "Errors         FALSE      FALSE\n",
       "NewLeagueN     FALSE      FALSE\n",
       "1 subsets of each size up to 19\n",
       "Selection Algorithm: backward\n",
       "          AtBat Hits HmRun Runs RBI Walks Years CAtBat CHits CHmRun CRuns CRBI\n",
       "1  ( 1 )  \" \"   \" \"  \" \"   \" \"  \" \" \" \"   \" \"   \" \"    \" \"   \" \"    \"*\"   \" \" \n",
       "2  ( 1 )  \" \"   \"*\"  \" \"   \" \"  \" \" \" \"   \" \"   \" \"    \" \"   \" \"    \"*\"   \" \" \n",
       "3  ( 1 )  \" \"   \"*\"  \" \"   \" \"  \" \" \" \"   \" \"   \" \"    \" \"   \" \"    \"*\"   \" \" \n",
       "4  ( 1 )  \"*\"   \"*\"  \" \"   \" \"  \" \" \" \"   \" \"   \" \"    \" \"   \" \"    \"*\"   \" \" \n",
       "5  ( 1 )  \"*\"   \"*\"  \" \"   \" \"  \" \" \"*\"   \" \"   \" \"    \" \"   \" \"    \"*\"   \" \" \n",
       "6  ( 1 )  \"*\"   \"*\"  \" \"   \" \"  \" \" \"*\"   \" \"   \" \"    \" \"   \" \"    \"*\"   \" \" \n",
       "7  ( 1 )  \"*\"   \"*\"  \" \"   \" \"  \" \" \"*\"   \" \"   \" \"    \" \"   \" \"    \"*\"   \" \" \n",
       "8  ( 1 )  \"*\"   \"*\"  \" \"   \" \"  \" \" \"*\"   \" \"   \" \"    \" \"   \" \"    \"*\"   \"*\" \n",
       "9  ( 1 )  \"*\"   \"*\"  \" \"   \" \"  \" \" \"*\"   \" \"   \"*\"    \" \"   \" \"    \"*\"   \"*\" \n",
       "10  ( 1 ) \"*\"   \"*\"  \" \"   \" \"  \" \" \"*\"   \" \"   \"*\"    \" \"   \" \"    \"*\"   \"*\" \n",
       "11  ( 1 ) \"*\"   \"*\"  \" \"   \" \"  \" \" \"*\"   \" \"   \"*\"    \" \"   \" \"    \"*\"   \"*\" \n",
       "12  ( 1 ) \"*\"   \"*\"  \" \"   \"*\"  \" \" \"*\"   \" \"   \"*\"    \" \"   \" \"    \"*\"   \"*\" \n",
       "13  ( 1 ) \"*\"   \"*\"  \" \"   \"*\"  \" \" \"*\"   \" \"   \"*\"    \" \"   \" \"    \"*\"   \"*\" \n",
       "14  ( 1 ) \"*\"   \"*\"  \"*\"   \"*\"  \" \" \"*\"   \" \"   \"*\"    \" \"   \" \"    \"*\"   \"*\" \n",
       "15  ( 1 ) \"*\"   \"*\"  \"*\"   \"*\"  \" \" \"*\"   \" \"   \"*\"    \"*\"   \" \"    \"*\"   \"*\" \n",
       "16  ( 1 ) \"*\"   \"*\"  \"*\"   \"*\"  \"*\" \"*\"   \" \"   \"*\"    \"*\"   \" \"    \"*\"   \"*\" \n",
       "17  ( 1 ) \"*\"   \"*\"  \"*\"   \"*\"  \"*\" \"*\"   \" \"   \"*\"    \"*\"   \" \"    \"*\"   \"*\" \n",
       "18  ( 1 ) \"*\"   \"*\"  \"*\"   \"*\"  \"*\" \"*\"   \"*\"   \"*\"    \"*\"   \" \"    \"*\"   \"*\" \n",
       "19  ( 1 ) \"*\"   \"*\"  \"*\"   \"*\"  \"*\" \"*\"   \"*\"   \"*\"    \"*\"   \"*\"    \"*\"   \"*\" \n",
       "          CWalks LeagueN DivisionW PutOuts Assists Errors NewLeagueN\n",
       "1  ( 1 )  \" \"    \" \"     \" \"       \" \"     \" \"     \" \"    \" \"       \n",
       "2  ( 1 )  \" \"    \" \"     \" \"       \" \"     \" \"     \" \"    \" \"       \n",
       "3  ( 1 )  \" \"    \" \"     \" \"       \"*\"     \" \"     \" \"    \" \"       \n",
       "4  ( 1 )  \" \"    \" \"     \" \"       \"*\"     \" \"     \" \"    \" \"       \n",
       "5  ( 1 )  \" \"    \" \"     \" \"       \"*\"     \" \"     \" \"    \" \"       \n",
       "6  ( 1 )  \" \"    \" \"     \"*\"       \"*\"     \" \"     \" \"    \" \"       \n",
       "7  ( 1 )  \"*\"    \" \"     \"*\"       \"*\"     \" \"     \" \"    \" \"       \n",
       "8  ( 1 )  \"*\"    \" \"     \"*\"       \"*\"     \" \"     \" \"    \" \"       \n",
       "9  ( 1 )  \"*\"    \" \"     \"*\"       \"*\"     \" \"     \" \"    \" \"       \n",
       "10  ( 1 ) \"*\"    \" \"     \"*\"       \"*\"     \"*\"     \" \"    \" \"       \n",
       "11  ( 1 ) \"*\"    \"*\"     \"*\"       \"*\"     \"*\"     \" \"    \" \"       \n",
       "12  ( 1 ) \"*\"    \"*\"     \"*\"       \"*\"     \"*\"     \" \"    \" \"       \n",
       "13  ( 1 ) \"*\"    \"*\"     \"*\"       \"*\"     \"*\"     \"*\"    \" \"       \n",
       "14  ( 1 ) \"*\"    \"*\"     \"*\"       \"*\"     \"*\"     \"*\"    \" \"       \n",
       "15  ( 1 ) \"*\"    \"*\"     \"*\"       \"*\"     \"*\"     \"*\"    \" \"       \n",
       "16  ( 1 ) \"*\"    \"*\"     \"*\"       \"*\"     \"*\"     \"*\"    \" \"       \n",
       "17  ( 1 ) \"*\"    \"*\"     \"*\"       \"*\"     \"*\"     \"*\"    \"*\"       \n",
       "18  ( 1 ) \"*\"    \"*\"     \"*\"       \"*\"     \"*\"     \"*\"    \"*\"       \n",
       "19  ( 1 ) \"*\"    \"*\"     \"*\"       \"*\"     \"*\"     \"*\"    \"*\"       "
      ]
     },
     "metadata": {},
     "output_type": "display_data"
    }
   ],
   "source": [
    "regfit.bwd = regsubsets(Salary~., data=Hitters, nvmax=19, method=\"backward\")\n",
    "summary(regfit.bwd)"
   ]
  },
  {
   "cell_type": "markdown",
   "metadata": {},
   "source": [
    "For instance, we see that using forward stepwise selection, the best onevariable model contains only `CRBI`, and the best two-variable model additionally includes `Hits`. For this data, the best one-variable through sixvariable models are each identical for best subset and forward selection.\n",
    "\n",
    "However, the best seven-variable models identified by forward stepwise selection, backward stepwise selection, and best subset selection are different."
   ]
  },
  {
   "cell_type": "code",
   "execution_count": 16,
   "metadata": {},
   "outputs": [
    {
     "name": "stdout",
     "output_type": "stream",
     "text": [
      " (Intercept)         Hits        Walks       CAtBat        CHits       CHmRun \n",
      "  79.4509472    1.2833513    3.2274264   -0.3752350    1.4957073    1.4420538 \n",
      "   DivisionW      PutOuts \n",
      "-129.9866432    0.2366813 \n"
     ]
    }
   ],
   "source": [
    "print(coef(regfit.full, 7))"
   ]
  },
  {
   "cell_type": "code",
   "execution_count": 17,
   "metadata": {},
   "outputs": [
    {
     "name": "stdout",
     "output_type": "stream",
     "text": [
      " (Intercept)        AtBat         Hits        Walks         CRBI       CWalks \n",
      " 109.7873062   -1.9588851    7.4498772    4.9131401    0.8537622   -0.3053070 \n",
      "   DivisionW      PutOuts \n",
      "-127.1223928    0.2533404 \n"
     ]
    }
   ],
   "source": [
    "print(coef(regfit.fwd, 7))"
   ]
  },
  {
   "cell_type": "code",
   "execution_count": 18,
   "metadata": {},
   "outputs": [
    {
     "name": "stdout",
     "output_type": "stream",
     "text": [
      " (Intercept)        AtBat         Hits        Walks        CRuns       CWalks \n",
      " 105.6487488   -1.9762838    6.7574914    6.0558691    1.1293095   -0.7163346 \n",
      "   DivisionW      PutOuts \n",
      "-116.1692169    0.3028847 \n"
     ]
    }
   ],
   "source": [
    "print(coef(regfit.bwd, 7))"
   ]
  },
  {
   "cell_type": "markdown",
   "metadata": {},
   "source": [
    "## 6.5.3 Choosing Among Models Using the Validation Set Approach and Cross-Validation"
   ]
  },
  {
   "cell_type": "markdown",
   "metadata": {},
   "source": [
    "We just saw that it is possible to choose among a set of models of different sizes using $C_p$, BIC, and adjusted $R^2$. We will now consider how to do this using the validation set and cross-validation approaches.\n",
    "\n",
    "In order for these approaches to yield accurate estimates of the test error, we must use only the training observations to perform all aspects of model-fitting—including variable selection. Therefore, the determination of which model of a given size is best must be made using only the training observations. This point is subtle but important. If the full data set is used to perform the best subset selection step, the validation set errors and cross-validation errors that we obtain will not be accurate estimates of the\n",
    "test error.\n",
    "\n",
    "In order to use the validation set approach, we begin by splitting the observations into a training set and a test set. We do this by creating a random vector, train, of elements equal to `TRUE` if the corresponding observation is in the training set, and `FALSE` otherwise. The vector test has a `TRUE` if the observation is in the test set, and a `FALSE` otherwise. Note the `!` in the command to create test causes `TRUEs` to be switched to `FALSEs` and vice versa. We also set a random seed so that the user will obtain the same training set/test set split."
   ]
  },
  {
   "cell_type": "code",
   "execution_count": 72,
   "metadata": {},
   "outputs": [],
   "source": [
    "set.seed(1)\n",
    "train=sample(c(TRUE, FALSE), nrow(Hitters), rep=TRUE)\n",
    "test=(!train)"
   ]
  },
  {
   "cell_type": "markdown",
   "metadata": {},
   "source": [
    "Now, we apply `regsubsets()` to the training set in order to perform best subset selection."
   ]
  },
  {
   "cell_type": "code",
   "execution_count": 73,
   "metadata": {},
   "outputs": [],
   "source": [
    "regfit.best = regsubsets(Salary~., data=Hitters[train,], nvmax=19)"
   ]
  },
  {
   "cell_type": "markdown",
   "metadata": {},
   "source": [
    "Notice that we subset the `Hitters` data frame directly in the call in order to access only the training subset of the data, using the expression `Hitters[train,]`. We now compute the validation set error for the best model of each model size. We first make a model matrix from the test data."
   ]
  },
  {
   "cell_type": "code",
   "execution_count": 74,
   "metadata": {},
   "outputs": [],
   "source": [
    "test.mat=model.matrix(Salary~., data=Hitters[test,])"
   ]
  },
  {
   "cell_type": "markdown",
   "metadata": {},
   "source": [
    "The `model.matrix()` function is used in many regression packages for building an “X” matrix from data. Now we run a loop, and for each size i, we extract the coefficients from `regfit.best` for the best model of that size, multiply them into the appropriate columns of the test model matrix to form the predictions, and compute the test MSE."
   ]
  },
  {
   "cell_type": "code",
   "execution_count": 90,
   "metadata": {},
   "outputs": [
    {
     "data": {
      "image/png": "[encoded data removed]",
      "text/plain": [
       "plot without title"
      ]
     },
     "metadata": {},
     "output_type": "display_data"
    }
   ],
   "source": [
    "val.errors=rep(NA, 19)\n",
    "for (i in 1:19) {\n",
    "    coefi=coef(regfit.best, id=i)\n",
    "    pred=test.mat[,names(coefi)]%*%coefi\n",
    "    val.errors[i]=mean((Hitters$Salary[test]-pred)^2)\n",
    "}\n",
    "plot(sqrt(val.errors), ylab=\"Root MSE\", ylim=c(350,475), pch=19, type=\"b\")\n",
    "points(sqrt(regfit.fwd$rss[-1]/180), col=\"blue\", pch=19, type=\"b\")\n",
    "legend(\"topright\", legend=c(\"Training\", \"Validation\"), col=c(\"blue\", \"black\"), pch=19)"
   ]
  },
  {
   "cell_type": "markdown",
   "metadata": {},
   "source": [
    "We find that the best model is the one that contains ten variables"
   ]
  },
  {
   "cell_type": "code",
   "execution_count": 76,
   "metadata": {},
   "outputs": [
    {
     "name": "stdout",
     "output_type": "stream",
     "text": [
      " [1] 220968.0 169157.1 178518.2 163426.1 168418.1 171270.6 162377.1 157909.3\n",
      " [9] 154055.7 148162.1 151156.4 151742.5 152214.5 157358.7 158541.4 158743.3\n",
      "[17] 159972.7 159859.8 160105.6\n"
     ]
    }
   ],
   "source": [
    "print(val.errors)"
   ]
  },
  {
   "cell_type": "code",
   "execution_count": 24,
   "metadata": {},
   "outputs": [
    {
     "data": {
      "text/html": [
       "10"
      ],
      "text/latex": [
       "10"
      ],
      "text/markdown": [
       "10"
      ],
      "text/plain": [
       "[1] 10"
      ]
     },
     "metadata": {},
     "output_type": "display_data"
    }
   ],
   "source": [
    "which.min(val.errors)"
   ]
  },
  {
   "cell_type": "code",
   "execution_count": 25,
   "metadata": {},
   "outputs": [
    {
     "name": "stdout",
     "output_type": "stream",
     "text": [
      "(Intercept)       AtBat        Hits       Walks      CAtBat       CHits \n",
      "-80.2751499  -1.4683816   7.1625314   3.6430345  -0.1855698   1.1053238 \n",
      "     CHmRun      CWalks     LeagueN   DivisionW     PutOuts \n",
      "  1.3844863  -0.7483170  84.5576103 -53.0289658   0.2381662 \n"
     ]
    }
   ],
   "source": [
    "print(coef(regfit.best, 10))"
   ]
  },
  {
   "cell_type": "markdown",
   "metadata": {},
   "source": [
    "This was a little tedious, partly because there is no `predict()` method for `regsubsets()`. Since we will be using this function again, we can capture our steps above and write our own predict method."
   ]
  },
  {
   "cell_type": "code",
   "execution_count": 26,
   "metadata": {},
   "outputs": [],
   "source": [
    "predict.regsubsets = function(object, newdata, id,...) {\n",
    "    form=as.formula(object$call[[2]])\n",
    "    mat=model.matrix(form, newdata)\n",
    "    coefi=coef(object, id=id)\n",
    "    xvars=names(coefi)\n",
    "    mat[, xvars]%*%coefi\n",
    "}"
   ]
  },
  {
   "cell_type": "markdown",
   "metadata": {},
   "source": [
    "Our function pretty much mimics what we did above. The only complex part is how we extracted the formula used in the call to `regsubsets()`. We demonstrate how we use this function below, when we do cross-validation.\n",
    "\n",
    "Finally, we perform best subset selection on the full data set, and select the best ten-variable model. It is important that we make use of the full data set in order to obtain more accurate coefficient estimates. Note that we perform best subset selection on the full data set and select the best tenvariable model, rather than simply using the variables that were obtained from the training set, because the best ten-variable model on the full data set may differ from the corresponding model on the training set."
   ]
  },
  {
   "cell_type": "code",
   "execution_count": 27,
   "metadata": {},
   "outputs": [
    {
     "name": "stdout",
     "output_type": "stream",
     "text": [
      " (Intercept)        AtBat         Hits        Walks       CAtBat        CRuns \n",
      " 162.5354420   -2.1686501    6.9180175    5.7732246   -0.1300798    1.4082490 \n",
      "        CRBI       CWalks    DivisionW      PutOuts      Assists \n",
      "   0.7743122   -0.8308264 -112.3800575    0.2973726    0.2831680 \n"
     ]
    }
   ],
   "source": [
    "regfit.best = regsubsets(Salary∼., data=Hitters, nvmax=19)\n",
    "print(coef(regfit.best, 10))"
   ]
  },
  {
   "cell_type": "markdown",
   "metadata": {},
   "source": [
    "In fact, we see that the best ten-variable model on the full data set has a different set of variables than the best ten-variable model on the training set.\n",
    "\n",
    "We now try to choose among the models of different sizes using crossvalidation. This approach is somewhat involved, as we must perform best subset selection within each of the k training sets. Despite this, we see that with its clever subsetting syntax, `R` makes this job quite easy. First, we create a vector that allocates each observation to one of k=10 folds, and we create a matrix in which we will store the results."
   ]
  },
  {
   "cell_type": "code",
   "execution_count": 1,
   "metadata": {},
   "outputs": [
    {
     "ename": "ERROR",
     "evalue": "Error in nrow(Hitters): object 'Hitters' not found\n",
     "output_type": "error",
     "traceback": [
      "Error in nrow(Hitters): object 'Hitters' not found\nTraceback:\n",
      "1. sample(1:k, nrow(Hitters), replace = TRUE)",
      "2. sample.int(length(x), size, replace, prob)",
      "3. nrow(Hitters)"
     ]
    }
   ],
   "source": [
    "k=10\n",
    "set.seed(1)\n",
    "folds=sample(1:k, nrow(Hitters), replace=TRUE)\n",
    "cv.errors=matrix(NA, k, 19, dimnames=list(NULL, paste(1:19)))"
   ]
  },
  {
   "cell_type": "code",
   "execution_count": 29,
   "metadata": {},
   "outputs": [
    {
     "data": {
      "text/html": [
       "<table>\n",
       "<thead><tr><th scope=col>1</th><th scope=col>2</th><th scope=col>3</th><th scope=col>4</th><th scope=col>5</th><th scope=col>6</th><th scope=col>7</th><th scope=col>8</th><th scope=col>9</th><th scope=col>10</th><th scope=col>11</th><th scope=col>12</th><th scope=col>13</th><th scope=col>14</th><th scope=col>15</th><th scope=col>16</th><th scope=col>17</th><th scope=col>18</th><th scope=col>19</th></tr></thead>\n",
       "<tbody>\n",
       "\t<tr><td>NA</td><td>NA</td><td>NA</td><td>NA</td><td>NA</td><td>NA</td><td>NA</td><td>NA</td><td>NA</td><td>NA</td><td>NA</td><td>NA</td><td>NA</td><td>NA</td><td>NA</td><td>NA</td><td>NA</td><td>NA</td><td>NA</td></tr>\n",
       "\t<tr><td>NA</td><td>NA</td><td>NA</td><td>NA</td><td>NA</td><td>NA</td><td>NA</td><td>NA</td><td>NA</td><td>NA</td><td>NA</td><td>NA</td><td>NA</td><td>NA</td><td>NA</td><td>NA</td><td>NA</td><td>NA</td><td>NA</td></tr>\n",
       "\t<tr><td>NA</td><td>NA</td><td>NA</td><td>NA</td><td>NA</td><td>NA</td><td>NA</td><td>NA</td><td>NA</td><td>NA</td><td>NA</td><td>NA</td><td>NA</td><td>NA</td><td>NA</td><td>NA</td><td>NA</td><td>NA</td><td>NA</td></tr>\n",
       "\t<tr><td>NA</td><td>NA</td><td>NA</td><td>NA</td><td>NA</td><td>NA</td><td>NA</td><td>NA</td><td>NA</td><td>NA</td><td>NA</td><td>NA</td><td>NA</td><td>NA</td><td>NA</td><td>NA</td><td>NA</td><td>NA</td><td>NA</td></tr>\n",
       "\t<tr><td>NA</td><td>NA</td><td>NA</td><td>NA</td><td>NA</td><td>NA</td><td>NA</td><td>NA</td><td>NA</td><td>NA</td><td>NA</td><td>NA</td><td>NA</td><td>NA</td><td>NA</td><td>NA</td><td>NA</td><td>NA</td><td>NA</td></tr>\n",
       "\t<tr><td>NA</td><td>NA</td><td>NA</td><td>NA</td><td>NA</td><td>NA</td><td>NA</td><td>NA</td><td>NA</td><td>NA</td><td>NA</td><td>NA</td><td>NA</td><td>NA</td><td>NA</td><td>NA</td><td>NA</td><td>NA</td><td>NA</td></tr>\n",
       "\t<tr><td>NA</td><td>NA</td><td>NA</td><td>NA</td><td>NA</td><td>NA</td><td>NA</td><td>NA</td><td>NA</td><td>NA</td><td>NA</td><td>NA</td><td>NA</td><td>NA</td><td>NA</td><td>NA</td><td>NA</td><td>NA</td><td>NA</td></tr>\n",
       "\t<tr><td>NA</td><td>NA</td><td>NA</td><td>NA</td><td>NA</td><td>NA</td><td>NA</td><td>NA</td><td>NA</td><td>NA</td><td>NA</td><td>NA</td><td>NA</td><td>NA</td><td>NA</td><td>NA</td><td>NA</td><td>NA</td><td>NA</td></tr>\n",
       "\t<tr><td>NA</td><td>NA</td><td>NA</td><td>NA</td><td>NA</td><td>NA</td><td>NA</td><td>NA</td><td>NA</td><td>NA</td><td>NA</td><td>NA</td><td>NA</td><td>NA</td><td>NA</td><td>NA</td><td>NA</td><td>NA</td><td>NA</td></tr>\n",
       "\t<tr><td>NA</td><td>NA</td><td>NA</td><td>NA</td><td>NA</td><td>NA</td><td>NA</td><td>NA</td><td>NA</td><td>NA</td><td>NA</td><td>NA</td><td>NA</td><td>NA</td><td>NA</td><td>NA</td><td>NA</td><td>NA</td><td>NA</td></tr>\n",
       "</tbody>\n",
       "</table>\n"
      ],
      "text/latex": [
       "\\begin{tabular}{lllllllllllllllllll}\n",
       " 1 & 2 & 3 & 4 & 5 & 6 & 7 & 8 & 9 & 10 & 11 & 12 & 13 & 14 & 15 & 16 & 17 & 18 & 19\\\\\n",
       "\\hline\n",
       "\t NA & NA & NA & NA & NA & NA & NA & NA & NA & NA & NA & NA & NA & NA & NA & NA & NA & NA & NA\\\\\n",
       "\t NA & NA & NA & NA & NA & NA & NA & NA & NA & NA & NA & NA & NA & NA & NA & NA & NA & NA & NA\\\\\n",
       "\t NA & NA & NA & NA & NA & NA & NA & NA & NA & NA & NA & NA & NA & NA & NA & NA & NA & NA & NA\\\\\n",
       "\t NA & NA & NA & NA & NA & NA & NA & NA & NA & NA & NA & NA & NA & NA & NA & NA & NA & NA & NA\\\\\n",
       "\t NA & NA & NA & NA & NA & NA & NA & NA & NA & NA & NA & NA & NA & NA & NA & NA & NA & NA & NA\\\\\n",
       "\t NA & NA & NA & NA & NA & NA & NA & NA & NA & NA & NA & NA & NA & NA & NA & NA & NA & NA & NA\\\\\n",
       "\t NA & NA & NA & NA & NA & NA & NA & NA & NA & NA & NA & NA & NA & NA & NA & NA & NA & NA & NA\\\\\n",
       "\t NA & NA & NA & NA & NA & NA & NA & NA & NA & NA & NA & NA & NA & NA & NA & NA & NA & NA & NA\\\\\n",
       "\t NA & NA & NA & NA & NA & NA & NA & NA & NA & NA & NA & NA & NA & NA & NA & NA & NA & NA & NA\\\\\n",
       "\t NA & NA & NA & NA & NA & NA & NA & NA & NA & NA & NA & NA & NA & NA & NA & NA & NA & NA & NA\\\\\n",
       "\\end{tabular}\n"
      ],
      "text/markdown": [
       "\n",
       "| 1 | 2 | 3 | 4 | 5 | 6 | 7 | 8 | 9 | 10 | 11 | 12 | 13 | 14 | 15 | 16 | 17 | 18 | 19 |\n",
       "|---|---|---|---|---|---|---|---|---|---|---|---|---|---|---|---|---|---|---|\n",
       "| NA | NA | NA | NA | NA | NA | NA | NA | NA | NA | NA | NA | NA | NA | NA | NA | NA | NA | NA |\n",
       "| NA | NA | NA | NA | NA | NA | NA | NA | NA | NA | NA | NA | NA | NA | NA | NA | NA | NA | NA |\n",
       "| NA | NA | NA | NA | NA | NA | NA | NA | NA | NA | NA | NA | NA | NA | NA | NA | NA | NA | NA |\n",
       "| NA | NA | NA | NA | NA | NA | NA | NA | NA | NA | NA | NA | NA | NA | NA | NA | NA | NA | NA |\n",
       "| NA | NA | NA | NA | NA | NA | NA | NA | NA | NA | NA | NA | NA | NA | NA | NA | NA | NA | NA |\n",
       "| NA | NA | NA | NA | NA | NA | NA | NA | NA | NA | NA | NA | NA | NA | NA | NA | NA | NA | NA |\n",
       "| NA | NA | NA | NA | NA | NA | NA | NA | NA | NA | NA | NA | NA | NA | NA | NA | NA | NA | NA |\n",
       "| NA | NA | NA | NA | NA | NA | NA | NA | NA | NA | NA | NA | NA | NA | NA | NA | NA | NA | NA |\n",
       "| NA | NA | NA | NA | NA | NA | NA | NA | NA | NA | NA | NA | NA | NA | NA | NA | NA | NA | NA |\n",
       "| NA | NA | NA | NA | NA | NA | NA | NA | NA | NA | NA | NA | NA | NA | NA | NA | NA | NA | NA |\n",
       "\n"
      ],
      "text/plain": [
       "      1  2  3  4  5  6  7  8  9  10 11 12 13 14 15 16 17 18 19\n",
       " [1,] NA NA NA NA NA NA NA NA NA NA NA NA NA NA NA NA NA NA NA\n",
       " [2,] NA NA NA NA NA NA NA NA NA NA NA NA NA NA NA NA NA NA NA\n",
       " [3,] NA NA NA NA NA NA NA NA NA NA NA NA NA NA NA NA NA NA NA\n",
       " [4,] NA NA NA NA NA NA NA NA NA NA NA NA NA NA NA NA NA NA NA\n",
       " [5,] NA NA NA NA NA NA NA NA NA NA NA NA NA NA NA NA NA NA NA\n",
       " [6,] NA NA NA NA NA NA NA NA NA NA NA NA NA NA NA NA NA NA NA\n",
       " [7,] NA NA NA NA NA NA NA NA NA NA NA NA NA NA NA NA NA NA NA\n",
       " [8,] NA NA NA NA NA NA NA NA NA NA NA NA NA NA NA NA NA NA NA\n",
       " [9,] NA NA NA NA NA NA NA NA NA NA NA NA NA NA NA NA NA NA NA\n",
       "[10,] NA NA NA NA NA NA NA NA NA NA NA NA NA NA NA NA NA NA NA"
      ]
     },
     "metadata": {},
     "output_type": "display_data"
    }
   ],
   "source": [
    "cv.errors"
   ]
  },
  {
   "cell_type": "markdown",
   "metadata": {},
   "source": [
    "Now we write a for loop that performs cross-validation. In the jth fold, the elements of `folds` that equal j are in the test set, and the remainder are in the training set. We make our predictions for each model size (using our new `predict()` method), compute the test errors on the appropriate subset, and store them in the appropriate slot in the matrix `cv.errors`."
   ]
  },
  {
   "cell_type": "code",
   "execution_count": 104,
   "metadata": {},
   "outputs": [],
   "source": [
    "for (j in 1:k){\n",
    "    best.fit=regsubsets(Salary∼., data=Hitters[folds!=j,], nvmax=19)\n",
    "    for (i in 1:19) {\n",
    "        pred=predict(best.fit, Hitters[folds==j,], id=i)\n",
    "        cv.errors[j,i]=mean((Hitters$Salary[folds==j]-pred)^2)\n",
    "    }\n",
    "}"
   ]
  },
  {
   "cell_type": "markdown",
   "metadata": {},
   "source": [
    "This has given us a 10×19 matrix, of which the (i, j)th element corresponds to the test MSE for the ith cross-validation fold for the best j-variable model. We use the `apply()` function to average over the columns of this matrix in order to obtain a vector for which the jth element is the crossvalidation error for the j-variable model."
   ]
  },
  {
   "cell_type": "code",
   "execution_count": 31,
   "metadata": {},
   "outputs": [
    {
     "name": "stdout",
     "output_type": "stream",
     "text": [
      "       1        2        3        4        5        6        7        8 \n",
      "160093.5 140196.8 153117.0 151159.3 146841.3 138302.6 144346.2 130207.7 \n",
      "       9       10       11       12       13       14       15       16 \n",
      "129459.6 125334.7 125153.8 128273.5 133461.0 133974.6 131825.7 131882.8 \n",
      "      17       18       19 \n",
      "132750.9 133096.2 132804.7 \n"
     ]
    }
   ],
   "source": [
    "mean.cv.errors=apply(cv.errors, 2, mean)\n",
    "print(mean.cv.errors)"
   ]
  },
  {
   "cell_type": "code",
   "execution_count": 32,
   "metadata": {},
   "outputs": [
    {
     "data": {
      "image/png": "[encoded data removed]",
      "text/plain": [
       "plot without title"
      ]
     },
     "metadata": {},
     "output_type": "display_data"
    }
   ],
   "source": [
    "par(mfrow=c(1,1))\n",
    "plot(mean.cv.errors, type=\"b\")"
   ]
  },
  {
   "cell_type": "markdown",
   "metadata": {},
   "source": [
    "We see that cross-validation selects an 11-variable model. We now perform best subset selection on the full data set in order to obtain the 11-variable model."
   ]
  },
  {
   "cell_type": "code",
   "execution_count": 33,
   "metadata": {},
   "outputs": [
    {
     "name": "stdout",
     "output_type": "stream",
     "text": [
      " (Intercept)        AtBat         Hits        Walks       CAtBat        CRuns \n",
      " 135.7512195   -2.1277482    6.9236994    5.6202755   -0.1389914    1.4553310 \n",
      "        CRBI       CWalks      LeagueN    DivisionW      PutOuts      Assists \n",
      "   0.7852528   -0.8228559   43.1116152 -111.1460252    0.2894087    0.2688277 \n"
     ]
    }
   ],
   "source": [
    "reg.best=regsubsets(Salary~., data=Hitters, nvmax=19)\n",
    "print(coef(reg.best, 11))"
   ]
  },
  {
   "cell_type": "markdown",
   "metadata": {},
   "source": [
    "# 6.6 Lab 2: Ridge Regression and the Lasso"
   ]
  },
  {
   "cell_type": "markdown",
   "metadata": {},
   "source": [
    "We will use the `glmnet` package in order to perform ridge regression and the lasso. The main function in this package is `glmnet()`, which can be used to fit ridge regression models, lasso models, and more. This function has slightly different syntax from other model-fitting functions that we have encountered thus far in this book. In particular, we must pass in an `x` matrix as well as a `y` vector, and we do not use the `y ∼ x` syntax. We will now perform ridge regression and the lasso in order to predict `Salary` on the `Hitters` data. Before proceeding ensure that the missing values have been removed from the data, as described in Section 6.5."
   ]
  },
  {
   "cell_type": "code",
   "execution_count": 91,
   "metadata": {},
   "outputs": [],
   "source": [
    "x=model.matrix(Salary~., Hitters)[,-1]\n",
    "y=Hitters$Salary"
   ]
  },
  {
   "cell_type": "markdown",
   "metadata": {},
   "source": [
    "The `model.matrix()` function is particularly useful for creating `x`; not only does it produce a matrix corresponding to the 19 predictors but it also automatically transforms any qualitative variables into dummy variables. The latter property is important because `glmnet()` can only take numerical, quantitative inputs."
   ]
  },
  {
   "cell_type": "markdown",
   "metadata": {},
   "source": [
    "## 6.6.1 Ridge Regression"
   ]
  },
  {
   "cell_type": "markdown",
   "metadata": {},
   "source": [
    "The `glmnet()` function has an `alpha` argument that determines what type of model is fit. If `alpha=0` then a ridge regression model is fit, and if `alpha=1` then a lasso model is fit. We first fit a ridge regression model."
   ]
  },
  {
   "cell_type": "code",
   "execution_count": 92,
   "metadata": {},
   "outputs": [],
   "source": [
    "library(glmnet)\n",
    "grid=10^seq(10, -2, length=100)\n",
    "ridge.mod=glmnet(x, y, alpha=0, lambda=grid)"
   ]
  },
  {
   "cell_type": "markdown",
   "metadata": {},
   "source": [
    "By default the `glmnet()` function performs ridge regression for an automatically selected range of λ values. However, here we have chosen to implement the function over a grid of values ranging from $\\lambda=10^{10}$ to $\\lambda=10^{-2}$, essentially covering the full range of scenarios from the null model containing\n",
    "only the intercept, to the least squares fit. As we will see, we can also compute model fits for a particular value of λ that is not one of the original grid values. Note that by default, the `glmnet()` function standardizes the variables so that they are on the same scale. To turn off this default setting, use the argument `standardize=FALSE`.\n",
    "\n",
    "Associated with each value of $\\lambda$ is a vector of ridge regression coefficients, stored in a matrix that can be accessed by `coef()`. In this case, it is a 20×100 matrix, with 20 rows (one for each predictor, plus an intercept) and 100 columns (one for each value of λ)."
   ]
  },
  {
   "cell_type": "code",
   "execution_count": 93,
   "metadata": {},
   "outputs": [
    {
     "data": {
      "image/png": "[encoded data removed]",
      "text/plain": [
       "plot without title"
      ]
     },
     "metadata": {},
     "output_type": "display_data"
    }
   ],
   "source": [
    "plot(ridge.mod, xvar=\"lambda\", label=TRUE)"
   ]
  },
  {
   "cell_type": "code",
   "execution_count": 36,
   "metadata": {},
   "outputs": [
    {
     "data": {
      "text/html": [
       "<ol class=list-inline>\n",
       "\t<li>20</li>\n",
       "\t<li>100</li>\n",
       "</ol>\n"
      ],
      "text/latex": [
       "\\begin{enumerate*}\n",
       "\\item 20\n",
       "\\item 100\n",
       "\\end{enumerate*}\n"
      ],
      "text/markdown": [
       "1. 20\n",
       "2. 100\n",
       "\n",
       "\n"
      ],
      "text/plain": [
       "[1]  20 100"
      ]
     },
     "metadata": {},
     "output_type": "display_data"
    }
   ],
   "source": [
    "dim(coef(ridge.mod))"
   ]
  },
  {
   "cell_type": "markdown",
   "metadata": {},
   "source": [
    "We expect the coefficient estimates to be much smaller, in terms of $l_2$ norm, when a large value of λ is used, as compared to when a small value of λ is used. These are the coefficients when λ = 11,498, along with their $l_2$ norm:"
   ]
  },
  {
   "cell_type": "code",
   "execution_count": 37,
   "metadata": {},
   "outputs": [
    {
     "data": {
      "text/html": [
       "11497.5699539774"
      ],
      "text/latex": [
       "11497.5699539774"
      ],
      "text/markdown": [
       "11497.5699539774"
      ],
      "text/plain": [
       "[1] 11497.57"
      ]
     },
     "metadata": {},
     "output_type": "display_data"
    }
   ],
   "source": [
    "ridge.mod$lambda[50]"
   ]
  },
  {
   "cell_type": "code",
   "execution_count": 38,
   "metadata": {},
   "outputs": [
    {
     "name": "stdout",
     "output_type": "stream",
     "text": [
      "  (Intercept)         AtBat          Hits         HmRun          Runs \n",
      "407.356050200   0.036957182   0.138180344   0.524629976   0.230701523 \n",
      "          RBI         Walks         Years        CAtBat         CHits \n",
      "  0.239841459   0.289618741   1.107702929   0.003131815   0.011653637 \n",
      "       CHmRun         CRuns          CRBI        CWalks       LeagueN \n",
      "  0.087545670   0.023379882   0.024138320   0.025015421   0.085028114 \n",
      "    DivisionW       PutOuts       Assists        Errors    NewLeagueN \n",
      " -6.215440973   0.016482577   0.002612988  -0.020502690   0.301433531 \n"
     ]
    }
   ],
   "source": [
    "print(coef(ridge.mod)[,50])"
   ]
  },
  {
   "cell_type": "markdown",
   "metadata": {},
   "source": [
    "In contrast, here are the coefficients when λ = 705, along with their $l_2$ norm. Note the much larger $l_2$ norm of the coefficients associated with this smaller value of λ."
   ]
  },
  {
   "cell_type": "code",
   "execution_count": 39,
   "metadata": {},
   "outputs": [
    {
     "data": {
      "text/html": [
       "705.480231071865"
      ],
      "text/latex": [
       "705.480231071865"
      ],
      "text/markdown": [
       "705.480231071865"
      ],
      "text/plain": [
       "[1] 705.4802"
      ]
     },
     "metadata": {},
     "output_type": "display_data"
    }
   ],
   "source": [
    "ridge.mod$lambda[60]"
   ]
  },
  {
   "cell_type": "code",
   "execution_count": 40,
   "metadata": {},
   "outputs": [
    {
     "name": "stdout",
     "output_type": "stream",
     "text": [
      " (Intercept)        AtBat         Hits        HmRun         Runs          RBI \n",
      " 54.32519950   0.11211115   0.65622409   1.17980910   0.93769713   0.84718546 \n",
      "       Walks        Years       CAtBat        CHits       CHmRun        CRuns \n",
      "  1.31987948   2.59640425   0.01083413   0.04674557   0.33777318   0.09355528 \n",
      "        CRBI       CWalks      LeagueN    DivisionW      PutOuts      Assists \n",
      "  0.09780402   0.07189612  13.68370191 -54.65877750   0.11852289   0.01606037 \n",
      "      Errors   NewLeagueN \n",
      " -0.70358655   8.61181213 \n"
     ]
    }
   ],
   "source": [
    "print(coef(ridge.mod)[,60])"
   ]
  },
  {
   "cell_type": "markdown",
   "metadata": {},
   "source": [
    "We can use the `predict()` function for a number of purposes. For instance, we can obtain the ridge regression coefficients for a new value of λ, say 50:"
   ]
  },
  {
   "cell_type": "code",
   "execution_count": 41,
   "metadata": {},
   "outputs": [
    {
     "name": "stdout",
     "output_type": "stream",
     "text": [
      "  (Intercept)         AtBat          Hits         HmRun          Runs \n",
      " 4.876610e+01 -3.580999e-01  1.969359e+00 -1.278248e+00  1.145892e+00 \n",
      "          RBI         Walks         Years        CAtBat         CHits \n",
      " 8.038292e-01  2.716186e+00 -6.218319e+00  5.447837e-03  1.064895e-01 \n",
      "       CHmRun         CRuns          CRBI        CWalks       LeagueN \n",
      " 6.244860e-01  2.214985e-01  2.186914e-01 -1.500245e-01  4.592589e+01 \n",
      "    DivisionW       PutOuts       Assists        Errors    NewLeagueN \n",
      "-1.182011e+02  2.502322e-01  1.215665e-01 -3.278600e+00 -9.496680e+00 \n"
     ]
    }
   ],
   "source": [
    "print(predict(ridge.mod, s=50, type=\"coefficients\")[1:20,])"
   ]
  },
  {
   "cell_type": "markdown",
   "metadata": {},
   "source": [
    "We now split the samples into a training set and a test set in order to estimate the test error of ridge regression and the lasso. There are two common ways to randomly split a data set. The first is to produce a random vector of `TRUE`, `FALSE` elements and select the observations corresponding to `TRUE` for the training data. The second is to randomly choose a subset of numbers between 1 and n; these can then be used as the indices for the training observations. The two approaches work equally well. We used the former method in Section 6.5.3. Here we demonstrate the latter approach. We first set a random seed so that the results obtained will be reproducible."
   ]
  },
  {
   "cell_type": "code",
   "execution_count": 42,
   "metadata": {},
   "outputs": [],
   "source": [
    "set.seed(1)\n",
    "train=sample(1:nrow(x), nrow(x)/2)\n",
    "test=(-train)\n",
    "y.test=y[test]"
   ]
  },
  {
   "cell_type": "markdown",
   "metadata": {},
   "source": [
    "Next we fit a ridge regression model on the training set, and evaluate its MSE on the test set, using λ = 4. Note the use of the `predict()` function again. This time we get predictions for a test set, by replacing\n",
    "`type=\"coefficients\"` with the `newx` argument."
   ]
  },
  {
   "cell_type": "code",
   "execution_count": 43,
   "metadata": {},
   "outputs": [
    {
     "data": {
      "text/html": [
       "101036.832669597"
      ],
      "text/latex": [
       "101036.832669597"
      ],
      "text/markdown": [
       "101036.832669597"
      ],
      "text/plain": [
       "[1] 101036.8"
      ]
     },
     "metadata": {},
     "output_type": "display_data"
    }
   ],
   "source": [
    "ridge.mod=glmnet(x[train,], y[train], alpha=0, lambda=grid, thresh=1e-12)\n",
    "ridge.pred=predict(ridge.mod, s=4, newx=x[test,])\n",
    "mean((ridge.pred-y.test)^2)"
   ]
  },
  {
   "cell_type": "markdown",
   "metadata": {},
   "source": [
    "The test MSE is 101037. Note that if we had instead simply fit a model with just an intercept, we would have predicted each test observation using the mean of the training observations. In that case, we could compute the test set MSE like this:"
   ]
  },
  {
   "cell_type": "code",
   "execution_count": 44,
   "metadata": {},
   "outputs": [
    {
     "data": {
      "text/html": [
       "193253.113067991"
      ],
      "text/latex": [
       "193253.113067991"
      ],
      "text/markdown": [
       "193253.113067991"
      ],
      "text/plain": [
       "[1] 193253.1"
      ]
     },
     "metadata": {},
     "output_type": "display_data"
    }
   ],
   "source": [
    "mean((mean(y[train])-y.test)^2)"
   ]
  },
  {
   "cell_type": "markdown",
   "metadata": {},
   "source": [
    "We could also get the same result by fitting a ridge regression model with a very large value of λ. Note that 1e10 means 1010."
   ]
  },
  {
   "cell_type": "code",
   "execution_count": 45,
   "metadata": {},
   "outputs": [
    {
     "data": {
      "text/html": [
       "193253.05679545"
      ],
      "text/latex": [
       "193253.05679545"
      ],
      "text/markdown": [
       "193253.05679545"
      ],
      "text/plain": [
       "[1] 193253.1"
      ]
     },
     "metadata": {},
     "output_type": "display_data"
    }
   ],
   "source": [
    "ridge.pred=predict(ridge.mod, s=1e10, newx=x[test,])\n",
    "mean((ridge.pred-y.test)^2)"
   ]
  },
  {
   "cell_type": "markdown",
   "metadata": {},
   "source": [
    "So fitting a ridge regression model with λ = 4 leads to a much lower test MSE than fitting a model with just an intercept. We now check whether there is any benefit to performing ridge regression with λ = 4 instead of\n",
    "just performing least squares regression. Recall that least squares is simply ridge regression with λ = 0.5.\n",
    "\n",
    "In order for `glmnet()` to yield the exact least squares coefficients when λ = 0, we use the argument exact=T when calling the `predict()` function. Otherwise, the `predict()` function will interpolate over the grid of λ values used in fitting the `glmnet()` model, yielding approximate results. When we use exact=T, there remains a slight discrepancy in the third decimal place between the output of `glmnet()` when λ = 0 and the output of `lm()`; this is due to numerical approximation on the part of `glmnet()`."
   ]
  },
  {
   "cell_type": "code",
   "execution_count": 46,
   "metadata": {},
   "outputs": [
    {
     "data": {
      "text/html": [
       "114723.615178307"
      ],
      "text/latex": [
       "114723.615178307"
      ],
      "text/markdown": [
       "114723.615178307"
      ],
      "text/plain": [
       "[1] 114723.6"
      ]
     },
     "metadata": {},
     "output_type": "display_data"
    }
   ],
   "source": [
    "ridge.pred=predict(ridge.mod, s=0, newx=x[test,])\n",
    "mean((ridge.pred-y.test)^2)"
   ]
  },
  {
   "cell_type": "code",
   "execution_count": 47,
   "metadata": {},
   "outputs": [
    {
     "data": {
      "text/plain": [
       "\n",
       "Call:\n",
       "lm(formula = y ~ x, subset = train)\n",
       "\n",
       "Coefficients:\n",
       "(Intercept)       xAtBat        xHits       xHmRun        xRuns         xRBI  \n",
       "  299.42849     -2.54027      8.36682     11.64512     -9.09923      2.44105  \n",
       "     xWalks       xYears      xCAtBat       xCHits      xCHmRun       xCRuns  \n",
       "    9.23440    -22.93673     -0.18154     -0.11598     -1.33888      3.32838  \n",
       "      xCRBI      xCWalks     xLeagueN   xDivisionW     xPutOuts     xAssists  \n",
       "    0.07536     -1.07841     59.76065    -98.86233      0.34087      0.34165  \n",
       "    xErrors  xNewLeagueN  \n",
       "   -0.64207     -0.67442  \n"
      ]
     },
     "metadata": {},
     "output_type": "display_data"
    },
    {
     "name": "stdout",
     "output_type": "stream",
     "text": [
      " (Intercept)        AtBat         Hits        HmRun         Runs          RBI \n",
      "299.44467220  -2.53538355   8.33585019  11.59830815  -9.05971371   2.45326546 \n",
      "       Walks        Years       CAtBat        CHits       CHmRun        CRuns \n",
      "  9.21776006 -22.98239583  -0.18191651  -0.10565688  -1.31721358   3.31152519 \n",
      "        CRBI       CWalks      LeagueN    DivisionW      PutOuts      Assists \n",
      "  0.06590689  -1.07244477  59.75587273 -98.94393005   0.34083276   0.34155445 \n",
      "      Errors   NewLeagueN \n",
      " -0.65312471  -0.65882930 \n"
     ]
    }
   ],
   "source": [
    "lm(y∼x, subset=train)\n",
    "print(predict(ridge.mod, s=0, type=\"coefficients\")[1:20,])"
   ]
  },
  {
   "cell_type": "markdown",
   "metadata": {},
   "source": [
    "In general, if we want to fit a (unpenalized) least squares model, then we should use the `lm()` function, since that function provides more useful outputs, such as standard errors and p-values for the coefficients.\n",
    "\n",
    "In general, instead of arbitrarily choosing λ = 4, it would be better to use cross-validation to choose the tuning parameter λ. We can do this using the built-in cross-validation function, `cv.glmnet()`. By default, the function performs ten-fold cross-validation, though this can be changed using the argument `nfolds`. Note that we set a random seed first so our results will be reproducible, since the choice of the cross-validation folds is random."
   ]
  },
  {
   "cell_type": "code",
   "execution_count": 105,
   "metadata": {},
   "outputs": [
    {
     "data": {
      "text/html": [
       "25.0093230505265"
      ],
      "text/latex": [
       "25.0093230505265"
      ],
      "text/markdown": [
       "25.0093230505265"
      ],
      "text/plain": [
       "[1] 25.00932"
      ]
     },
     "metadata": {},
     "output_type": "display_data"
    },
    {
     "data": {
      "image/png": "[encoded data removed]",
      "text/plain": [
       "plot without title"
      ]
     },
     "metadata": {},
     "output_type": "display_data"
    }
   ],
   "source": [
    "set.seed(1)\n",
    "cv.out=cv.glmnet(x[train,], y[train], alpha=0)\n",
    "plot(cv.out)\n",
    "bestlam=cv.out$lambda.min\n",
    "bestlam"
   ]
  },
  {
   "cell_type": "markdown",
   "metadata": {},
   "source": [
    "Therefore, we see that the value of λ that results in the smallest crossvalidation error is 212. What is the test MSE associated with this value of λ?"
   ]
  },
  {
   "cell_type": "code",
   "execution_count": 49,
   "metadata": {},
   "outputs": [
    {
     "data": {
      "text/html": [
       "96015.5127234043"
      ],
      "text/latex": [
       "96015.5127234043"
      ],
      "text/markdown": [
       "96015.5127234043"
      ],
      "text/plain": [
       "[1] 96015.51"
      ]
     },
     "metadata": {},
     "output_type": "display_data"
    }
   ],
   "source": [
    "ridge.pred=predict(ridge.mod, s=bestlam, newx=x[test,])\n",
    "mean((ridge.pred-y.test)^2)"
   ]
  },
  {
   "cell_type": "markdown",
   "metadata": {},
   "source": [
    "This represents a further improvement over the test MSE that we got using λ = 4. Finally, we refit our ridge regression model on the full data set, using the value of λ chosen by cross-validation, and examine the coefficient estimates."
   ]
  },
  {
   "cell_type": "code",
   "execution_count": 51,
   "metadata": {},
   "outputs": [
    {
     "name": "stdout",
     "output_type": "stream",
     "text": [
      " (Intercept)        AtBat         Hits        HmRun         Runs          RBI \n",
      "  9.88487157   0.03143991   1.00882875   0.13927624   1.11320781   0.87318990 \n",
      "       Walks        Years       CAtBat        CHits       CHmRun        CRuns \n",
      "  1.80410229   0.13074383   0.01113978   0.06489843   0.45158546   0.12900049 \n",
      "        CRBI       CWalks      LeagueN    DivisionW      PutOuts      Assists \n",
      "  0.13737712   0.02908572  27.18227527 -91.63411282   0.19149252   0.04254536 \n",
      "      Errors   NewLeagueN \n",
      " -1.81244470   7.21208394 \n"
     ]
    }
   ],
   "source": [
    "out=glmnet(x, y, alpha = 0)\n",
    "print(predict(out, type=\"coefficients\", s=bestlam)[1:20,])"
   ]
  },
  {
   "cell_type": "markdown",
   "metadata": {},
   "source": [
    "As expected, none of the coefficients are zero—ridge regression does not perform variable selection!"
   ]
  },
  {
   "cell_type": "markdown",
   "metadata": {},
   "source": [
    "## 6.6.2 Lasso"
   ]
  },
  {
   "cell_type": "markdown",
   "metadata": {},
   "source": [
    "We saw that ridge regression with a wise choice of λ can outperform least squares as well as the null model on the `Hitters` data set. We now ask whether the lasso can yield either a more accurate or a more interpretable model than ridge regression. In order to fit a lasso model, we once again use the `glmnet()` function; however, this time we use the argument `alpha=1`. Other than that change, we proceed just as we did in fitting a ridge model."
   ]
  },
  {
   "cell_type": "code",
   "execution_count": 52,
   "metadata": {},
   "outputs": [
    {
     "data": {
      "image/png": "[encoded data removed]",
      "text/plain": [
       "plot without title"
      ]
     },
     "metadata": {},
     "output_type": "display_data"
    }
   ],
   "source": [
    "lasso.mod=glmnet(x[train,], y[train], alpha=1, lambda=grid)\n",
    "plot(lasso.mod)"
   ]
  },
  {
   "cell_type": "markdown",
   "metadata": {},
   "source": [
    "We can see from the coefficient plot that depending on the choice of tuning parameter, some of the coefficients will be exactly equal to zero. We now perform cross-validation and compute the associated test error."
   ]
  },
  {
   "cell_type": "code",
   "execution_count": 53,
   "metadata": {},
   "outputs": [
    {
     "data": {
      "text/html": [
       "100743.446221539"
      ],
      "text/latex": [
       "100743.446221539"
      ],
      "text/markdown": [
       "100743.446221539"
      ],
      "text/plain": [
       "[1] 100743.4"
      ]
     },
     "metadata": {},
     "output_type": "display_data"
    },
    {
     "data": {
      "image/png": "[encoded data removed]",
      "text/plain": [
       "plot without title"
      ]
     },
     "metadata": {},
     "output_type": "display_data"
    }
   ],
   "source": [
    "set.seed(1)\n",
    "cv.out=cv.glmnet(x[train,], y[train], alpha=1)\n",
    "plot(cv.out)\n",
    "bestlam=cv.out$lambda.min\n",
    "lasso.pred=predict(lasso.mod, s=bestlam, newx=x[test,])\n",
    "mean((lasso.pred-y.test)^2)"
   ]
  },
  {
   "cell_type": "markdown",
   "metadata": {},
   "source": [
    "This is substantially lower than the test set MSE of the null model and of least squares, and very similar to the test MSE of ridge regression with λ chosen by cross-validation.\n",
    "\n",
    "However, the lasso has a substantial advantage over ridge regression in that the resulting coefficient estimates are sparse. Here we see that 12 of the 19 coefficient estimates are exactly zero. So the lasso model with λ chosen by cross-validation contains only seven variables."
   ]
  },
  {
   "cell_type": "code",
   "execution_count": 106,
   "metadata": {},
   "outputs": [
    {
     "name": "stdout",
     "output_type": "stream",
     "text": [
      "(Intercept)       AtBat        Hits       HmRun        Runs         RBI \n",
      " 37.4333362   0.0000000   1.7971912   0.0000000   0.0000000   0.0000000 \n",
      "      Walks       Years      CAtBat       CHits      CHmRun       CRuns \n",
      "  2.1202630   0.0000000   0.0000000   0.0000000   0.0000000   0.1999797 \n",
      "       CRBI      CWalks     LeagueN   DivisionW     PutOuts     Assists \n",
      "  0.4007858   0.0000000   0.0000000 -88.5999803   0.1995427   0.0000000 \n",
      "     Errors  NewLeagueN \n",
      "  0.0000000   0.0000000 \n"
     ]
    }
   ],
   "source": [
    "out=glmnet(x, y, alpha=1, lambda=grid)\n",
    "lasso.coef=predict(out, type=\"coefficients\", s=bestlam)[1:20,]\n",
    "print(lasso.coef)"
   ]
  },
  {
   "cell_type": "markdown",
   "metadata": {},
   "source": [
    "# 6.7 Lab 3: PCR and PLS Regression\n",
    "\n",
    "## 6.7.1 Principal Components Regression"
   ]
  },
  {
   "cell_type": "markdown",
   "metadata": {},
   "source": [
    "Principal components regression (PCR) can be performed using the `pcr()` function, which is part of the `pls` library. We now apply PCR to the `Hitters` data, in order to predict `Salary`. Again, ensure that the missing values have been removed from the data, as described in Section 6.5."
   ]
  },
  {
   "cell_type": "code",
   "execution_count": 60,
   "metadata": {},
   "outputs": [],
   "source": [
    "library(pls)\n",
    "set.seed(2)\n",
    "pcr.fit=pcr(Salary~., data=Hitters, scale=TRUE, validation=\"CV\")"
   ]
  },
  {
   "cell_type": "markdown",
   "metadata": {},
   "source": [
    "The syntax for the `pcr()` function is similar to that for `lm()`, with a few additional options. Setting `scale=TRUE` has the effect of standardizing each predictor, using (6.6), prior to generating the principal components, so that the scale on which each variable is measured will not have an effect. Setting `validation=\"CV\"` causes `pcr()` to compute the ten-fold cross-validation error for each possible value of M, the number of principal components used. The resulting fit can be examined using `summary()`"
   ]
  },
  {
   "cell_type": "code",
   "execution_count": 61,
   "metadata": {},
   "outputs": [
    {
     "name": "stdout",
     "output_type": "stream",
     "text": [
      "Data: \tX dimension: 263 19 \n",
      "\tY dimension: 263 1\n",
      "Fit method: svdpc\n",
      "Number of components considered: 19\n",
      "\n",
      "VALIDATION: RMSEP\n",
      "Cross-validated using 10 random segments.\n",
      "       (Intercept)  1 comps  2 comps  3 comps  4 comps  5 comps  6 comps\n",
      "CV             452    348.9    352.2    353.5    352.8    350.1    349.1\n",
      "adjCV          452    348.7    351.8    352.9    352.1    349.3    348.0\n",
      "       7 comps  8 comps  9 comps  10 comps  11 comps  12 comps  13 comps\n",
      "CV       349.6    350.9    352.9     353.8     355.0     356.2     363.5\n",
      "adjCV    348.5    349.8    351.6     352.3     353.4     354.5     361.6\n",
      "       14 comps  15 comps  16 comps  17 comps  18 comps  19 comps\n",
      "CV        355.2     357.4     347.6     350.1     349.2     352.6\n",
      "adjCV     352.8     355.2     345.5     347.6     346.7     349.8\n",
      "\n",
      "TRAINING: % variance explained\n",
      "        1 comps  2 comps  3 comps  4 comps  5 comps  6 comps  7 comps  8 comps\n",
      "X         38.31    60.16    70.84    79.03    84.29    88.63    92.26    94.96\n",
      "Salary    40.63    41.58    42.17    43.22    44.90    46.48    46.69    46.75\n",
      "        9 comps  10 comps  11 comps  12 comps  13 comps  14 comps  15 comps\n",
      "X         96.28     97.26     97.98     98.65     99.15     99.47     99.75\n",
      "Salary    46.86     47.76     47.82     47.85     48.10     50.40     50.55\n",
      "        16 comps  17 comps  18 comps  19 comps\n",
      "X          99.89     99.97     99.99    100.00\n",
      "Salary     53.01     53.85     54.61     54.61\n"
     ]
    }
   ],
   "source": [
    "summary(pcr.fit)"
   ]
  },
  {
   "cell_type": "markdown",
   "metadata": {},
   "source": [
    "The CV score is provided for each possible number of components, ranging from M = 0 onwards. (We have printed the CV output only up to M = 4.) Note that `pcr()` reports the *root mean squared error*; in order to obtain the usual MSE, we must square this quantity. For instance, a root mean squared error of 352.8 corresponds to an MSE of $352.8^2$ = 124,468.\n",
    "\n",
    "One can also plot the cross-validation scores using the `validationplot()` function. Using `val.type=\"MSEP\"` will cause the cross-validation MSE to be plotted."
   ]
  },
  {
   "cell_type": "code",
   "execution_count": 62,
   "metadata": {},
   "outputs": [
    {
     "data": {
      "image/png": "[encoded data removed]",
      "text/plain": [
       "Plot with title \"Salary\""
      ]
     },
     "metadata": {},
     "output_type": "display_data"
    }
   ],
   "source": [
    "validationplot(pcr.fit, val.type=\"MSEP\")"
   ]
  },
  {
   "cell_type": "markdown",
   "metadata": {},
   "source": [
    "We see that the smallest cross-validation error occurs when M = 16 components are used. This is barely fewer than M = 19, which amounts to simply performing least squares, because when all of the components are used in PCR no dimension reduction occurs. However, from the plot we also see that the cross-validation error is roughly the same when only one component is included in the model. This suggests that a model that uses just a small number of components might suffice.\n",
    "\n",
    "The `summary()` function also provides the percentage of variance explained in the predictors and in the response using different numbers of components. This concept is discussed in greater detail in Chapter 10. Briefly, we can think of this as the amount of information about the predictors or the response that is captured using M principal components. For example, setting M = 1 only captures 38.31 % of all the variance, or information, in the predictors. In contrast, using M = 6 increases the value to 88.63 %. If we were to use all M = p = 19 components, this would increase to 100 %.\n",
    "\n",
    "We now perform PCR on the training data and evaluate its test set performance."
   ]
  },
  {
   "cell_type": "code",
   "execution_count": 63,
   "metadata": {},
   "outputs": [
    {
     "data": {
      "image/png": "[encoded data removed]",
      "text/plain": [
       "Plot with title \"Salary\""
      ]
     },
     "metadata": {},
     "output_type": "display_data"
    }
   ],
   "source": [
    "set.seed(1)\n",
    "pcr.fit=pcr(Salary~., data=Hitters, subset=train, scale=TRUE, validation=\"CV\")\n",
    "validationplot(pcr.fit, val.type=\"MSEP\")"
   ]
  },
  {
   "cell_type": "markdown",
   "metadata": {},
   "source": [
    "Now we find that the lowest cross-validation error occurs when M = 7 component are used. We compute the test MSE as follows."
   ]
  },
  {
   "cell_type": "code",
   "execution_count": 64,
   "metadata": {},
   "outputs": [
    {
     "data": {
      "text/html": [
       "96556.2191395342"
      ],
      "text/latex": [
       "96556.2191395342"
      ],
      "text/markdown": [
       "96556.2191395342"
      ],
      "text/plain": [
       "[1] 96556.22"
      ]
     },
     "metadata": {},
     "output_type": "display_data"
    }
   ],
   "source": [
    "pcr.pred=predict(pcr.fit, x[test,], ncomp=7)\n",
    "mean((pcr.pred-y.test)^2)"
   ]
  },
  {
   "cell_type": "markdown",
   "metadata": {},
   "source": [
    "This test set MSE is competitive with the results obtained using ridge regression and the lasso. However, as a result of the way PCR is implemented, the final model is more difficult to interpret because it does not perform any kind of variable selection or even directly produce coefficient estimates.\n",
    "\n",
    "Finally, we fit PCR on the full data set, using M = 7, the number of components identified by cross-validation."
   ]
  },
  {
   "cell_type": "code",
   "execution_count": 65,
   "metadata": {},
   "outputs": [
    {
     "name": "stdout",
     "output_type": "stream",
     "text": [
      "Data: \tX dimension: 263 19 \n",
      "\tY dimension: 263 1\n",
      "Fit method: svdpc\n",
      "Number of components considered: 7\n",
      "TRAINING: % variance explained\n",
      "   1 comps  2 comps  3 comps  4 comps  5 comps  6 comps  7 comps\n",
      "X    38.31    60.16    70.84    79.03    84.29    88.63    92.26\n",
      "y    40.63    41.58    42.17    43.22    44.90    46.48    46.69\n"
     ]
    }
   ],
   "source": [
    "pcr.fit=pcr(y~x, scale=TRUE, ncomp=7)\n",
    "summary(pcr.fit)"
   ]
  },
  {
   "cell_type": "markdown",
   "metadata": {},
   "source": [
    "## 6.7.2 Partial Least Squares"
   ]
  },
  {
   "cell_type": "markdown",
   "metadata": {},
   "source": [
    "We implement partial least squares (PLS) using the `plsr()` function, also in the pls library. The syntax is just like that of the `pcr()` function."
   ]
  },
  {
   "cell_type": "code",
   "execution_count": 66,
   "metadata": {},
   "outputs": [
    {
     "name": "stdout",
     "output_type": "stream",
     "text": [
      "Data: \tX dimension: 131 19 \n",
      "\tY dimension: 131 1\n",
      "Fit method: kernelpls\n",
      "Number of components considered: 19\n",
      "\n",
      "VALIDATION: RMSEP\n",
      "Cross-validated using 10 random segments.\n",
      "       (Intercept)  1 comps  2 comps  3 comps  4 comps  5 comps  6 comps\n",
      "CV           464.6    394.2    391.5    393.1    395.0    415.0    424.0\n",
      "adjCV        464.6    393.4    390.2    391.1    392.9    411.5    418.8\n",
      "       7 comps  8 comps  9 comps  10 comps  11 comps  12 comps  13 comps\n",
      "CV       424.5    415.8    404.6     407.1     412.0     414.4     410.3\n",
      "adjCV    418.9    411.4    400.7     402.2     407.2     409.3     405.6\n",
      "       14 comps  15 comps  16 comps  17 comps  18 comps  19 comps\n",
      "CV        406.2     408.6     410.5     408.8     407.8     410.2\n",
      "adjCV     401.8     403.9     405.6     404.1     403.2     405.5\n",
      "\n",
      "TRAINING: % variance explained\n",
      "        1 comps  2 comps  3 comps  4 comps  5 comps  6 comps  7 comps  8 comps\n",
      "X         38.12    53.46    66.05    74.49    79.33    84.56    87.09    90.74\n",
      "Salary    33.58    38.96    41.57    42.43    44.04    45.59    47.05    47.53\n",
      "        9 comps  10 comps  11 comps  12 comps  13 comps  14 comps  15 comps\n",
      "X         92.55     93.94     97.23     97.88     98.35     98.85     99.11\n",
      "Salary    48.42     49.68     50.04     50.54     50.78     50.92     51.04\n",
      "        16 comps  17 comps  18 comps  19 comps\n",
      "X          99.43     99.78     99.99    100.00\n",
      "Salary     51.11     51.15     51.16     51.18\n"
     ]
    }
   ],
   "source": [
    "set.seed(1)\n",
    "pls.fit=plsr(Salary~., data=Hitters, subset=train, scale=TRUE, validation=\"CV\")\n",
    "summary(pls.fit)"
   ]
  },
  {
   "cell_type": "code",
   "execution_count": 67,
   "metadata": {},
   "outputs": [
    {
     "data": {
      "image/png": "[encoded data removed]",
      "text/plain": [
       "Plot with title \"Salary\""
      ]
     },
     "metadata": {},
     "output_type": "display_data"
    }
   ],
   "source": [
    "validationplot(pls.fit, val.type=\"MSEP\")"
   ]
  },
  {
   "cell_type": "markdown",
   "metadata": {},
   "source": [
    "The lowest cross-validation error occurs when only M = 2 partial least squares directions are used. We now evaluate the corresponding test set MSE."
   ]
  },
  {
   "cell_type": "code",
   "execution_count": 68,
   "metadata": {},
   "outputs": [
    {
     "data": {
      "text/html": [
       "101417.461024104"
      ],
      "text/latex": [
       "101417.461024104"
      ],
      "text/markdown": [
       "101417.461024104"
      ],
      "text/plain": [
       "[1] 101417.5"
      ]
     },
     "metadata": {},
     "output_type": "display_data"
    }
   ],
   "source": [
    "pls.pred=predict(pls.fit, x[test,], ncomp=2)\n",
    "mean((pls.pred-y.test)^2)"
   ]
  },
  {
   "cell_type": "markdown",
   "metadata": {},
   "source": [
    "The test MSE is comparable to, but slightly higher than, the test MSE obtained using ridge regression, the lasso, and PCR.\n",
    "\n",
    "Finally, we perform PLS using the full data set, using M = 2, the number of components identified by cross-validation."
   ]
  },
  {
   "cell_type": "code",
   "execution_count": 70,
   "metadata": {},
   "outputs": [
    {
     "name": "stdout",
     "output_type": "stream",
     "text": [
      "Data: \tX dimension: 263 19 \n",
      "\tY dimension: 263 1\n",
      "Fit method: kernelpls\n",
      "Number of components considered: 2\n",
      "TRAINING: % variance explained\n",
      "        1 comps  2 comps\n",
      "X         38.08    51.03\n",
      "Salary    43.05    46.40\n"
     ]
    }
   ],
   "source": [
    "pls.fit=plsr(Salary~., data=Hitters, scale=TRUE, ncomp=2)\n",
    "summary(pls.fit)"
   ]
  },
  {
   "cell_type": "markdown",
   "metadata": {},
   "source": [
    "Notice that the percentage of variance in `Salary` that the two-component PLS fit explains, 46.40 %, is almost as much as that explained using the final seven-component model PCR fit, 46.69 %. This is because PCR only\n",
    "attempts to maximize the amount of variance explained in the predictors, while PLS searches for directions that explain variance in both the predictors and the response."
   ]
  }
 ],
 "metadata": {
  "kernelspec": {
   "display_name": "R",
   "language": "R",
   "name": "ir"
  },
  "language_info": {
   "codemirror_mode": "r",
   "file_extension": ".r",
   "mimetype": "text/x-r-source",
   "name": "R",
   "pygments_lexer": "r",
   "version": "3.5.3"
  }
 },
 "nbformat": 4,
 "nbformat_minor": 2
}
