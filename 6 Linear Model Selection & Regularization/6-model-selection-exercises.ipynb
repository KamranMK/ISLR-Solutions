{
 "cells": [
  {
   "cell_type": "markdown",
   "metadata": {},
   "source": [
    "# 6.8 Exercises"
   ]
  },
  {
   "cell_type": "markdown",
   "metadata": {},
   "source": [
    "## Exercise 8\n",
    "\n",
    "In this exercise, we will generate simulated data, and will then use this data to perform best subset selection."
   ]
  },
  {
   "cell_type": "markdown",
   "metadata": {},
   "source": [
    "### Step (a)\n",
    "\n",
    "> Use the `rnorm()` function to generate a predictor `X` of length n = 100, as well as a noise vector $\\epsilon$ of length n = 100."
   ]
  },
  {
   "cell_type": "code",
   "execution_count": 96,
   "metadata": {},
   "outputs": [],
   "source": [
    "x=rnorm(100)\n",
    "errors=rnorm(100)"
   ]
  },
  {
   "cell_type": "markdown",
   "metadata": {},
   "source": [
    "### Step (b)\n",
    "\n",
    "> Generate a response vector Y of length n = 100 according to the model $Y=\\beta_0+\\beta_1X+\\beta_2{X^2}+\\beta_3{X^3}+\\epsilon$, where $\\beta_0, \\beta_1, \\beta_2,$ and $\\beta_3$ are constants of your choice."
   ]
  },
  {
   "cell_type": "code",
   "execution_count": 97,
   "metadata": {},
   "outputs": [],
   "source": [
    "y = 3 + 1.5*x + 3*x^2 + 2.5*x^3 + errors"
   ]
  },
  {
   "cell_type": "markdown",
   "metadata": {},
   "source": [
    "### Step (c)\n",
    "\n",
    "> Use the regsubsets() function to perform best subset selection in order to choose the best model containing the predictors $X, X^2, . . . , X^{10}$. What is the best model obtained according to $C_p$, BIC, and adjusted $R^2$? Show some plots to provide evidence for your answer, and report the coefficients of the best model obtained. Note you will need to use the `data.frame()` function to create a single data set containing both `X` and `Y`."
   ]
  },
  {
   "cell_type": "code",
   "execution_count": 98,
   "metadata": {},
   "outputs": [
    {
     "data": {
      "text/plain": [
       "Subset selection object\n",
       "Call: regsubsets.formula(y ~ poly(x, 10, raw = T), data = df, nvmax = 10)\n",
       "10 Variables  (and intercept)\n",
       "                       Forced in Forced out\n",
       "poly(x, 10, raw = T)1      FALSE      FALSE\n",
       "poly(x, 10, raw = T)2      FALSE      FALSE\n",
       "poly(x, 10, raw = T)3      FALSE      FALSE\n",
       "poly(x, 10, raw = T)4      FALSE      FALSE\n",
       "poly(x, 10, raw = T)5      FALSE      FALSE\n",
       "poly(x, 10, raw = T)6      FALSE      FALSE\n",
       "poly(x, 10, raw = T)7      FALSE      FALSE\n",
       "poly(x, 10, raw = T)8      FALSE      FALSE\n",
       "poly(x, 10, raw = T)9      FALSE      FALSE\n",
       "poly(x, 10, raw = T)10     FALSE      FALSE\n",
       "1 subsets of each size up to 10\n",
       "Selection Algorithm: exhaustive\n",
       "          poly(x, 10, raw = T)1 poly(x, 10, raw = T)2 poly(x, 10, raw = T)3\n",
       "1  ( 1 )  \" \"                   \" \"                   \"*\"                  \n",
       "2  ( 1 )  \" \"                   \"*\"                   \"*\"                  \n",
       "3  ( 1 )  \"*\"                   \"*\"                   \"*\"                  \n",
       "4  ( 1 )  \"*\"                   \"*\"                   \"*\"                  \n",
       "5  ( 1 )  \"*\"                   \"*\"                   \"*\"                  \n",
       "6  ( 1 )  \"*\"                   \"*\"                   \"*\"                  \n",
       "7  ( 1 )  \"*\"                   \"*\"                   \"*\"                  \n",
       "8  ( 1 )  \"*\"                   \"*\"                   \"*\"                  \n",
       "9  ( 1 )  \"*\"                   \"*\"                   \" \"                  \n",
       "10  ( 1 ) \"*\"                   \"*\"                   \"*\"                  \n",
       "          poly(x, 10, raw = T)4 poly(x, 10, raw = T)5 poly(x, 10, raw = T)6\n",
       "1  ( 1 )  \" \"                   \" \"                   \" \"                  \n",
       "2  ( 1 )  \" \"                   \" \"                   \" \"                  \n",
       "3  ( 1 )  \" \"                   \" \"                   \" \"                  \n",
       "4  ( 1 )  \" \"                   \" \"                   \" \"                  \n",
       "5  ( 1 )  \" \"                   \"*\"                   \" \"                  \n",
       "6  ( 1 )  \" \"                   \" \"                   \" \"                  \n",
       "7  ( 1 )  \" \"                   \" \"                   \"*\"                  \n",
       "8  ( 1 )  \"*\"                   \" \"                   \"*\"                  \n",
       "9  ( 1 )  \"*\"                   \"*\"                   \"*\"                  \n",
       "10  ( 1 ) \"*\"                   \"*\"                   \"*\"                  \n",
       "          poly(x, 10, raw = T)7 poly(x, 10, raw = T)8 poly(x, 10, raw = T)9\n",
       "1  ( 1 )  \" \"                   \" \"                   \" \"                  \n",
       "2  ( 1 )  \" \"                   \" \"                   \" \"                  \n",
       "3  ( 1 )  \" \"                   \" \"                   \" \"                  \n",
       "4  ( 1 )  \" \"                   \" \"                   \" \"                  \n",
       "5  ( 1 )  \"*\"                   \" \"                   \" \"                  \n",
       "6  ( 1 )  \"*\"                   \"*\"                   \"*\"                  \n",
       "7  ( 1 )  \"*\"                   \"*\"                   \" \"                  \n",
       "8  ( 1 )  \"*\"                   \"*\"                   \" \"                  \n",
       "9  ( 1 )  \"*\"                   \"*\"                   \"*\"                  \n",
       "10  ( 1 ) \"*\"                   \"*\"                   \"*\"                  \n",
       "          poly(x, 10, raw = T)10\n",
       "1  ( 1 )  \" \"                   \n",
       "2  ( 1 )  \" \"                   \n",
       "3  ( 1 )  \" \"                   \n",
       "4  ( 1 )  \"*\"                   \n",
       "5  ( 1 )  \" \"                   \n",
       "6  ( 1 )  \" \"                   \n",
       "7  ( 1 )  \"*\"                   \n",
       "8  ( 1 )  \"*\"                   \n",
       "9  ( 1 )  \"*\"                   \n",
       "10  ( 1 ) \"*\"                   "
      ]
     },
     "metadata": {},
     "output_type": "display_data"
    }
   ],
   "source": [
    "library(leaps)\n",
    "df = data.frame(x, y)\n",
    "x.bestsub = regsubsets(y~poly(x, 10, raw=T), data=df, nvmax=10)\n",
    "bestsub.summary = summary(x.bestsub)\n",
    "bestsub.summary"
   ]
  },
  {
   "cell_type": "markdown",
   "metadata": {},
   "source": [
    "The above summary describes best models based on different subsets. For example, the first is the best model containing one variable, 2nd is the best subset of 2-variable models.\n",
    "\n",
    "Next, we will use $C_p$, $BIC$ and adjusted $R^2$ to determine the best model. Let's plot all models for these indicators."
   ]
  },
  {
   "cell_type": "code",
   "execution_count": 99,
   "metadata": {},
   "outputs": [
    {
     "name": "stdout",
     "output_type": "stream",
     "text": [
      "[1] \"which\"  \"rsq\"    \"rss\"    \"adjr2\"  \"cp\"     \"bic\"    \"outmat\" \"obj\"   \n"
     ]
    }
   ],
   "source": [
    "print(names(bestsub.summary))"
   ]
  },
  {
   "cell_type": "code",
   "execution_count": 100,
   "metadata": {},
   "outputs": [
    {
     "data": {
      "image/png": "[encoded data removed]",
      "text/plain": [
       "plot without title"
      ]
     },
     "metadata": {},
     "output_type": "display_data"
    },
    {
     "data": {
      "image/png": "[encoded data removed]",
      "text/plain": [
       "plot without title"
      ]
     },
     "metadata": {},
     "output_type": "display_data"
    }
   ],
   "source": [
    "par(mfrow=c(2,2))\n",
    "plot(bestsub.summary$cp, xlab=\"Number of variables\", ylab=\"Cp\", type=\"l\")\n",
    "min_adjr2 = which.min(bestsub.summary$cp)\n",
    "points(min_adjr2, bestsub.summary$adjr2[min_adjr2], col=\"red\", cex=2, pch=20)\n",
    "plot(x.bestsub, scale=\"Cp\")\n",
    "\n",
    "plot(bestsub.summary$bic, xlab=\"Number of variables\", ylab=\"BIC\", type=\"l\")\n",
    "min_bic = which.min(bestsub.summary$bic)\n",
    "points(min_bic, bestsub.summary$bic[min_bic], col=\"red\", cex=2, pch=20)\n",
    "plot(x.bestsub, scale=\"bic\")\n",
    "\n",
    "plot(bestsub.summary$adjr2, xlab=\"Number of variables\", ylab=\"Adj R^2\", type=\"l\")\n",
    "max_adjr2 = which.max(bestsub.summary$adjr2)\n",
    "points(max_adjr2, bestsub.summary$adjr2[max_adjr2], col=\"red\", cex=2, pch=20)\n",
    "plot(x.bestsub, scale=\"adjr2\")"
   ]
  },
  {
   "cell_type": "markdown",
   "metadata": {},
   "source": [
    "We can observe based on $C_p$, $BIC$, $R^2$ that the most optimal number of variable is $3$. Both BIC and $C_p$ indicate three and with $R^2$ the difference between 3 and 7 is very small. The coefficients of the best model are:"
   ]
  },
  {
   "cell_type": "code",
   "execution_count": 101,
   "metadata": {},
   "outputs": [
    {
     "name": "stdout",
     "output_type": "stream",
     "text": [
      "          (Intercept) poly(x, 10, raw = T)1 poly(x, 10, raw = T)2 \n",
      "             3.000876              1.348334              2.998608 \n",
      "poly(x, 10, raw = T)3 \n",
      "             2.566697 \n"
     ]
    }
   ],
   "source": [
    "print(coef(x.bestsub, 3))"
   ]
  },
  {
   "cell_type": "markdown",
   "metadata": {},
   "source": [
    "### Step (d)\n",
    "\n",
    "> Repeat (c), using forward stepwise selection and also using backwards stepwise selection. How does your answer compare to the results in (c)?"
   ]
  },
  {
   "cell_type": "code",
   "execution_count": 102,
   "metadata": {},
   "outputs": [
    {
     "data": {
      "text/plain": [
       "Subset selection object\n",
       "Call: regsubsets.formula(y ~ poly(x, 10, raw = T), data = df, nvmax = 10, \n",
       "    method = \"forward\")\n",
       "10 Variables  (and intercept)\n",
       "                       Forced in Forced out\n",
       "poly(x, 10, raw = T)1      FALSE      FALSE\n",
       "poly(x, 10, raw = T)2      FALSE      FALSE\n",
       "poly(x, 10, raw = T)3      FALSE      FALSE\n",
       "poly(x, 10, raw = T)4      FALSE      FALSE\n",
       "poly(x, 10, raw = T)5      FALSE      FALSE\n",
       "poly(x, 10, raw = T)6      FALSE      FALSE\n",
       "poly(x, 10, raw = T)7      FALSE      FALSE\n",
       "poly(x, 10, raw = T)8      FALSE      FALSE\n",
       "poly(x, 10, raw = T)9      FALSE      FALSE\n",
       "poly(x, 10, raw = T)10     FALSE      FALSE\n",
       "1 subsets of each size up to 10\n",
       "Selection Algorithm: forward\n",
       "          poly(x, 10, raw = T)1 poly(x, 10, raw = T)2 poly(x, 10, raw = T)3\n",
       "1  ( 1 )  \" \"                   \" \"                   \"*\"                  \n",
       "2  ( 1 )  \" \"                   \"*\"                   \"*\"                  \n",
       "3  ( 1 )  \"*\"                   \"*\"                   \"*\"                  \n",
       "4  ( 1 )  \"*\"                   \"*\"                   \"*\"                  \n",
       "5  ( 1 )  \"*\"                   \"*\"                   \"*\"                  \n",
       "6  ( 1 )  \"*\"                   \"*\"                   \"*\"                  \n",
       "7  ( 1 )  \"*\"                   \"*\"                   \"*\"                  \n",
       "8  ( 1 )  \"*\"                   \"*\"                   \"*\"                  \n",
       "9  ( 1 )  \"*\"                   \"*\"                   \"*\"                  \n",
       "10  ( 1 ) \"*\"                   \"*\"                   \"*\"                  \n",
       "          poly(x, 10, raw = T)4 poly(x, 10, raw = T)5 poly(x, 10, raw = T)6\n",
       "1  ( 1 )  \" \"                   \" \"                   \" \"                  \n",
       "2  ( 1 )  \" \"                   \" \"                   \" \"                  \n",
       "3  ( 1 )  \" \"                   \" \"                   \" \"                  \n",
       "4  ( 1 )  \" \"                   \" \"                   \" \"                  \n",
       "5  ( 1 )  \" \"                   \" \"                   \" \"                  \n",
       "6  ( 1 )  \" \"                   \"*\"                   \" \"                  \n",
       "7  ( 1 )  \" \"                   \"*\"                   \"*\"                  \n",
       "8  ( 1 )  \" \"                   \"*\"                   \"*\"                  \n",
       "9  ( 1 )  \"*\"                   \"*\"                   \"*\"                  \n",
       "10  ( 1 ) \"*\"                   \"*\"                   \"*\"                  \n",
       "          poly(x, 10, raw = T)7 poly(x, 10, raw = T)8 poly(x, 10, raw = T)9\n",
       "1  ( 1 )  \" \"                   \" \"                   \" \"                  \n",
       "2  ( 1 )  \" \"                   \" \"                   \" \"                  \n",
       "3  ( 1 )  \" \"                   \" \"                   \" \"                  \n",
       "4  ( 1 )  \" \"                   \" \"                   \" \"                  \n",
       "5  ( 1 )  \" \"                   \"*\"                   \" \"                  \n",
       "6  ( 1 )  \" \"                   \"*\"                   \" \"                  \n",
       "7  ( 1 )  \" \"                   \"*\"                   \" \"                  \n",
       "8  ( 1 )  \"*\"                   \"*\"                   \" \"                  \n",
       "9  ( 1 )  \"*\"                   \"*\"                   \" \"                  \n",
       "10  ( 1 ) \"*\"                   \"*\"                   \"*\"                  \n",
       "          poly(x, 10, raw = T)10\n",
       "1  ( 1 )  \" \"                   \n",
       "2  ( 1 )  \" \"                   \n",
       "3  ( 1 )  \" \"                   \n",
       "4  ( 1 )  \"*\"                   \n",
       "5  ( 1 )  \"*\"                   \n",
       "6  ( 1 )  \"*\"                   \n",
       "7  ( 1 )  \"*\"                   \n",
       "8  ( 1 )  \"*\"                   \n",
       "9  ( 1 )  \"*\"                   \n",
       "10  ( 1 ) \"*\"                   "
      ]
     },
     "metadata": {},
     "output_type": "display_data"
    }
   ],
   "source": [
    "x.fwd = regsubsets(y~poly(x, 10, raw=T), data=df, nvmax=10, method=\"forward\")\n",
    "xfwd.summary = summary(x.fwd)\n",
    "xfwd.summary"
   ]
  },
  {
   "cell_type": "code",
   "execution_count": 103,
   "metadata": {},
   "outputs": [
    {
     "data": {
      "image/png": "[encoded data removed]",
      "text/plain": [
       "plot without title"
      ]
     },
     "metadata": {},
     "output_type": "display_data"
    },
    {
     "data": {
      "image/png": "[encoded data removed]",
      "text/plain": [
       "plot without title"
      ]
     },
     "metadata": {},
     "output_type": "display_data"
    }
   ],
   "source": [
    "par(mfrow=c(2,2))\n",
    "plot(xfwd.summary$cp, xlab=\"Number of variables\", ylab=\"Cp\", type=\"l\")\n",
    "min_cp = which.min(xfwd.summary$cp)\n",
    "points(min_cp, xfwd.summary$cp[min_cp], col=\"red\", cex=2, pch=20)\n",
    "plot(x.bestsub, scale=\"Cp\")\n",
    "\n",
    "plot(xfwd.summary$bic, xlab=\"Number of variables\", ylab=\"BIC\", type=\"l\")\n",
    "min_bic = which.min(xfwd.summary$bic)\n",
    "points(min_bic, xfwd.summary$bic[min_bic], col=\"red\", cex=2, pch=20)\n",
    "plot(x.bestsub, scale=\"bic\")\n",
    "\n",
    "plot(xfwd.summary$adjr2, xlab=\"Number of variables\", ylab=\"Adj R^2\", type=\"l\")\n",
    "max_adjr2 = which.max(xfwd.summary$adjr2)\n",
    "points(max_adjr2, xfwd.summary$adjr2[max_adjr2], col=\"red\", cex=2, pch=20)\n",
    "plot(x.bestsub, scale=\"adjr2\")"
   ]
  },
  {
   "cell_type": "markdown",
   "metadata": {},
   "source": [
    "We can observe that the results are the same as in the best subset selection."
   ]
  },
  {
   "cell_type": "markdown",
   "metadata": {},
   "source": [
    "### Step (e)\n",
    "\n",
    "> Now fit a lasso model to the simulated data, again using $X, X^2, . . . , X^{10}$ as predictors. Use cross-validation to select the optimal value of λ. Create plots of the cross-validation error as a function of λ. Report the resulting coefficient estimates, and discuss the results obtained."
   ]
  },
  {
   "cell_type": "code",
   "execution_count": 104,
   "metadata": {},
   "outputs": [],
   "source": [
    "library(glmnet)\n",
    "\n",
    "# first convert to model matrix\n",
    "xm=model.matrix(y~poly(x, 10, raw=T), data=df)[,-1]\n",
    "ym=df$y\n",
    "\n",
    "# lasso\n",
    "x.lasso = cv.glmnet(xm, ym, alpha=1)"
   ]
  },
  {
   "cell_type": "code",
   "execution_count": 105,
   "metadata": {},
   "outputs": [
    {
     "data": {
      "image/png": "[encoded data removed]",
      "text/plain": [
       "plot without title"
      ]
     },
     "metadata": {},
     "output_type": "display_data"
    }
   ],
   "source": [
    "plot(x.lasso)"
   ]
  },
  {
   "cell_type": "code",
   "execution_count": 106,
   "metadata": {},
   "outputs": [
    {
     "data": {
      "text/html": [
       "0.073601335576528"
      ],
      "text/latex": [
       "0.073601335576528"
      ],
      "text/markdown": [
       "0.073601335576528"
      ],
      "text/plain": [
       "[1] 0.07360134"
      ]
     },
     "metadata": {},
     "output_type": "display_data"
    }
   ],
   "source": [
    "bestlambda = x.lasso$lambda.min\n",
    "bestlambda"
   ]
  },
  {
   "cell_type": "markdown",
   "metadata": {},
   "source": [
    "The lowest lambda is 0.06 and if we use this lambda the following are the coefficients."
   ]
  },
  {
   "cell_type": "code",
   "execution_count": 107,
   "metadata": {},
   "outputs": [
    {
     "name": "stdout",
     "output_type": "stream",
     "text": [
      "11 x 1 sparse Matrix of class \"dgCMatrix\"\n",
      "                                  1\n",
      "(Intercept)            3.161653e+00\n",
      "poly(x, 10, raw = T)1  1.471435e+00\n",
      "poly(x, 10, raw = T)2  2.788295e+00\n",
      "poly(x, 10, raw = T)3  2.481083e+00\n",
      "poly(x, 10, raw = T)4  .           \n",
      "poly(x, 10, raw = T)5  .           \n",
      "poly(x, 10, raw = T)6  .           \n",
      "poly(x, 10, raw = T)7  .           \n",
      "poly(x, 10, raw = T)8  .           \n",
      "poly(x, 10, raw = T)9  .           \n",
      "poly(x, 10, raw = T)10 4.358012e-05\n"
     ]
    }
   ],
   "source": [
    "lasso.coef=predict(x.lasso, type=\"coefficients\", s=bestlambda)\n",
    "print(lasso.coef)"
   ]
  },
  {
   "cell_type": "markdown",
   "metadata": {},
   "source": [
    "The final coefficients are actually very close to the real coefficients, which indicates that the method is generating very good results."
   ]
  },
  {
   "cell_type": "markdown",
   "metadata": {},
   "source": [
    "### Step (f)\n",
    "\n",
    "> Now generate a response vector $Y$ according to the model $Y=\\beta_0+\\beta_7X^7+\\epsilon$ and perform best subset selection and the lasso. Discuss the results obtained"
   ]
  },
  {
   "cell_type": "code",
   "execution_count": 108,
   "metadata": {},
   "outputs": [
    {
     "data": {
      "text/plain": [
       "Subset selection object\n",
       "Call: regsubsets.formula(y ~ poly(x, 10, raw = T), data = df, nvmax = 10)\n",
       "10 Variables  (and intercept)\n",
       "                       Forced in Forced out\n",
       "poly(x, 10, raw = T)1      FALSE      FALSE\n",
       "poly(x, 10, raw = T)2      FALSE      FALSE\n",
       "poly(x, 10, raw = T)3      FALSE      FALSE\n",
       "poly(x, 10, raw = T)4      FALSE      FALSE\n",
       "poly(x, 10, raw = T)5      FALSE      FALSE\n",
       "poly(x, 10, raw = T)6      FALSE      FALSE\n",
       "poly(x, 10, raw = T)7      FALSE      FALSE\n",
       "poly(x, 10, raw = T)8      FALSE      FALSE\n",
       "poly(x, 10, raw = T)9      FALSE      FALSE\n",
       "poly(x, 10, raw = T)10     FALSE      FALSE\n",
       "1 subsets of each size up to 10\n",
       "Selection Algorithm: exhaustive\n",
       "          poly(x, 10, raw = T)1 poly(x, 10, raw = T)2 poly(x, 10, raw = T)3\n",
       "1  ( 1 )  \" \"                   \" \"                   \" \"                  \n",
       "2  ( 1 )  \"*\"                   \" \"                   \" \"                  \n",
       "3  ( 1 )  \"*\"                   \"*\"                   \" \"                  \n",
       "4  ( 1 )  \"*\"                   \"*\"                   \" \"                  \n",
       "5  ( 1 )  \"*\"                   \" \"                   \" \"                  \n",
       "6  ( 1 )  \" \"                   \" \"                   \"*\"                  \n",
       "7  ( 1 )  \"*\"                   \" \"                   \" \"                  \n",
       "8  ( 1 )  \"*\"                   \"*\"                   \" \"                  \n",
       "9  ( 1 )  \"*\"                   \" \"                   \"*\"                  \n",
       "10  ( 1 ) \"*\"                   \"*\"                   \"*\"                  \n",
       "          poly(x, 10, raw = T)4 poly(x, 10, raw = T)5 poly(x, 10, raw = T)6\n",
       "1  ( 1 )  \" \"                   \" \"                   \" \"                  \n",
       "2  ( 1 )  \" \"                   \" \"                   \" \"                  \n",
       "3  ( 1 )  \" \"                   \" \"                   \" \"                  \n",
       "4  ( 1 )  \" \"                   \" \"                   \" \"                  \n",
       "5  ( 1 )  \" \"                   \"*\"                   \" \"                  \n",
       "6  ( 1 )  \"*\"                   \" \"                   \"*\"                  \n",
       "7  ( 1 )  \"*\"                   \"*\"                   \"*\"                  \n",
       "8  ( 1 )  \"*\"                   \"*\"                   \"*\"                  \n",
       "9  ( 1 )  \"*\"                   \"*\"                   \"*\"                  \n",
       "10  ( 1 ) \"*\"                   \"*\"                   \"*\"                  \n",
       "          poly(x, 10, raw = T)7 poly(x, 10, raw = T)8 poly(x, 10, raw = T)9\n",
       "1  ( 1 )  \"*\"                   \" \"                   \" \"                  \n",
       "2  ( 1 )  \"*\"                   \" \"                   \" \"                  \n",
       "3  ( 1 )  \"*\"                   \" \"                   \" \"                  \n",
       "4  ( 1 )  \"*\"                   \" \"                   \"*\"                  \n",
       "5  ( 1 )  \"*\"                   \"*\"                   \"*\"                  \n",
       "6  ( 1 )  \"*\"                   \"*\"                   \" \"                  \n",
       "7  ( 1 )  \"*\"                   \"*\"                   \" \"                  \n",
       "8  ( 1 )  \"*\"                   \"*\"                   \" \"                  \n",
       "9  ( 1 )  \"*\"                   \"*\"                   \"*\"                  \n",
       "10  ( 1 ) \"*\"                   \"*\"                   \"*\"                  \n",
       "          poly(x, 10, raw = T)10\n",
       "1  ( 1 )  \" \"                   \n",
       "2  ( 1 )  \" \"                   \n",
       "3  ( 1 )  \" \"                   \n",
       "4  ( 1 )  \" \"                   \n",
       "5  ( 1 )  \" \"                   \n",
       "6  ( 1 )  \"*\"                   \n",
       "7  ( 1 )  \"*\"                   \n",
       "8  ( 1 )  \"*\"                   \n",
       "9  ( 1 )  \"*\"                   \n",
       "10  ( 1 ) \"*\"                   "
      ]
     },
     "metadata": {},
     "output_type": "display_data"
    }
   ],
   "source": [
    "df$y = df$x+df$x^7+errors\n",
    "\n",
    "# best subset selection\n",
    "x.bestsub = regsubsets(y~poly(x, 10, raw=T), data=df, nvmax=10)\n",
    "bestsub.summary = summary(x.bestsub)\n",
    "bestsub.summary"
   ]
  },
  {
   "cell_type": "code",
   "execution_count": 109,
   "metadata": {},
   "outputs": [
    {
     "data": {
      "image/png": "[encoded data removed]",
      "text/plain": [
       "plot without title"
      ]
     },
     "metadata": {},
     "output_type": "display_data"
    },
    {
     "data": {
      "image/png": "[encoded data removed]",
      "text/plain": [
       "plot without title"
      ]
     },
     "metadata": {},
     "output_type": "display_data"
    }
   ],
   "source": [
    "par(mfrow=c(2,2))\n",
    "plot(bestsub.summary$cp, xlab=\"Number of variables\", ylab=\"Cp\", type=\"l\")\n",
    "min_adjr2 = which.min(bestsub.summary$cp)\n",
    "points(min_adjr2, bestsub.summary$adjr2[min_adjr2], col=\"red\", cex=2, pch=20)\n",
    "plot(x.bestsub, scale=\"Cp\")\n",
    "\n",
    "plot(bestsub.summary$bic, xlab=\"Number of variables\", ylab=\"BIC\", type=\"l\")\n",
    "min_bic = which.min(bestsub.summary$bic)\n",
    "points(min_bic, bestsub.summary$bic[min_bic], col=\"red\", cex=2, pch=20)\n",
    "plot(x.bestsub, scale=\"bic\")\n",
    "\n",
    "plot(bestsub.summary$adjr2, xlab=\"Number of variables\", ylab=\"Adj R^2\", type=\"l\")\n",
    "max_adjr2 = which.max(bestsub.summary$adjr2)\n",
    "points(max_adjr2, bestsub.summary$adjr2[max_adjr2], col=\"red\", cex=2, pch=20)\n",
    "plot(x.bestsub, scale=\"adjr2\")"
   ]
  },
  {
   "cell_type": "markdown",
   "metadata": {},
   "source": [
    "Best subset selection provides interesting results. We can see that the lowest $C_p$ value and BIC occurs at 2 variables.\n",
    "\n",
    "Next, let's perform lasso."
   ]
  },
  {
   "cell_type": "code",
   "execution_count": 110,
   "metadata": {},
   "outputs": [
    {
     "data": {
      "image/png": "[encoded data removed]",
      "text/plain": [
       "plot without title"
      ]
     },
     "metadata": {},
     "output_type": "display_data"
    }
   ],
   "source": [
    "# first convert to model matrix\n",
    "xm=model.matrix(y~poly(x, 10, raw=T), data=df)[, -1]\n",
    "ym=df$y\n",
    "\n",
    "# lasso\n",
    "x.lasso = cv.glmnet(xm, ym, alpha=1)\n",
    "plot(x.lasso)"
   ]
  },
  {
   "cell_type": "code",
   "execution_count": 111,
   "metadata": {},
   "outputs": [
    {
     "data": {
      "text/html": [
       "10.7629066259014"
      ],
      "text/latex": [
       "10.7629066259014"
      ],
      "text/markdown": [
       "10.7629066259014"
      ],
      "text/plain": [
       "[1] 10.76291"
      ]
     },
     "metadata": {},
     "output_type": "display_data"
    }
   ],
   "source": [
    "bestlambda = x.lasso$lambda.min\n",
    "bestlambda"
   ]
  },
  {
   "cell_type": "code",
   "execution_count": 112,
   "metadata": {},
   "outputs": [
    {
     "name": "stdout",
     "output_type": "stream",
     "text": [
      "11 x 1 sparse Matrix of class \"dgCMatrix\"\n",
      "                               1\n",
      "(Intercept)            0.1840825\n",
      "poly(x, 10, raw = T)1  .        \n",
      "poly(x, 10, raw = T)2  .        \n",
      "poly(x, 10, raw = T)3  .        \n",
      "poly(x, 10, raw = T)4  .        \n",
      "poly(x, 10, raw = T)5  .        \n",
      "poly(x, 10, raw = T)6  .        \n",
      "poly(x, 10, raw = T)7  0.9702126\n",
      "poly(x, 10, raw = T)8  .        \n",
      "poly(x, 10, raw = T)9  .        \n",
      "poly(x, 10, raw = T)10 .        \n"
     ]
    }
   ],
   "source": [
    "lasso.coef=predict(x.lasso, type=\"coefficients\", s=bestlambda)\n",
    "print(lasso.coef)"
   ]
  },
  {
   "cell_type": "markdown",
   "metadata": {},
   "source": [
    "We can observe from the results that with best subset selection all the variables are still present, meaning their coefficients are non-zero. Lasso performs very well here because it also performs feature elimination. Despite that its still a bit further from the true model, because lasso kept 2 more features even though one of those $x.9$ has a near zero coefficient."
   ]
  },
  {
   "cell_type": "markdown",
   "metadata": {},
   "source": [
    "## Question 9"
   ]
  },
  {
   "cell_type": "markdown",
   "metadata": {},
   "source": [
    "In this exercise, we will predict the number of applications received using the other variables in the `College` data set."
   ]
  },
  {
   "cell_type": "markdown",
   "metadata": {},
   "source": [
    "### Step (a)\n",
    "\n",
    "> Split the data set into a training set and a test set."
   ]
  },
  {
   "cell_type": "code",
   "execution_count": 113,
   "metadata": {},
   "outputs": [
    {
     "data": {
      "text/plain": [
       "train\n",
       "FALSE  TRUE \n",
       "  241   536 "
      ]
     },
     "metadata": {},
     "output_type": "display_data"
    }
   ],
   "source": [
    "library(ISLR)\n",
    "train = sample(c(TRUE, FALSE), nrow(College), rep=TRUE, prob=c(0.7, 0.3))\n",
    "test = (!train)\n",
    "table(train)"
   ]
  },
  {
   "cell_type": "markdown",
   "metadata": {},
   "source": [
    "### Step (b)\n",
    "\n",
    "> Fit a linear model using least squares on the training set, and report the test error obtained"
   ]
  },
  {
   "cell_type": "code",
   "execution_count": 114,
   "metadata": {},
   "outputs": [
    {
     "data": {
      "text/html": [
       "<span style=white-space:pre-wrap>'Test Error for Linear Model is  1410035.62'</span>"
      ],
      "text/latex": [
       "'Test Error for Linear Model is  1410035.62'"
      ],
      "text/markdown": [
       "<span style=white-space:pre-wrap>'Test Error for Linear Model is  1410035.62'</span>"
      ],
      "text/plain": [
       "[1] \"Test Error for Linear Model is  1410035.62\""
      ]
     },
     "metadata": {},
     "output_type": "display_data"
    }
   ],
   "source": [
    "set.seed(200)\n",
    "lm.fit = lm(Apps~., data=College[train,])\n",
    "pred = predict(lm.fit, College[test, ])\n",
    "lm.error = mean((College[test, \"Apps\"] - pred)^2)\n",
    "paste(\"Test Error for Linear Model is \", round(lm.error, 2))"
   ]
  },
  {
   "cell_type": "markdown",
   "metadata": {},
   "source": [
    "### Step (c)\n",
    "\n",
    "> Fit a ridge regression model on the training set, with λ chosen by cross-validation. Report the test error obtained."
   ]
  },
  {
   "cell_type": "code",
   "execution_count": 115,
   "metadata": {},
   "outputs": [
    {
     "data": {
      "text/html": [
       "<span style=white-space:pre-wrap>'Best lambda is  415.62'</span>"
      ],
      "text/latex": [
       "'Best lambda is  415.62'"
      ],
      "text/markdown": [
       "<span style=white-space:pre-wrap>'Best lambda is  415.62'</span>"
      ],
      "text/plain": [
       "[1] \"Best lambda is  415.62\""
      ]
     },
     "metadata": {},
     "output_type": "display_data"
    },
    {
     "data": {
      "image/png": "[encoded data removed]",
      "text/plain": [
       "plot without title"
      ]
     },
     "metadata": {},
     "output_type": "display_data"
    }
   ],
   "source": [
    "library(leaps)\n",
    "set.seed(1)\n",
    "# conver to model matrix for Ridge\n",
    "x=model.matrix(Apps~., College)[,-1]\n",
    "y=College$Apps\n",
    "\n",
    "# fit ridge\n",
    "ridge.fit = cv.glmnet(x[train,], y[train], alpha=0)\n",
    "ridge.bestlamda = ridge.fit$lambda.min\n",
    "\n",
    "plot(ridge.fit)\n",
    "paste(\"Best lambda is \", round(ridge.bestlamda, 2))"
   ]
  },
  {
   "cell_type": "code",
   "execution_count": 116,
   "metadata": {},
   "outputs": [
    {
     "data": {
      "text/html": [
       "<span style=white-space:pre-wrap>'Test Error for CV Ridge Model is  1314969.71'</span>"
      ],
      "text/latex": [
       "'Test Error for CV Ridge Model is  1314969.71'"
      ],
      "text/markdown": [
       "<span style=white-space:pre-wrap>'Test Error for CV Ridge Model is  1314969.71'</span>"
      ],
      "text/plain": [
       "[1] \"Test Error for CV Ridge Model is  1314969.71\""
      ]
     },
     "metadata": {},
     "output_type": "display_data"
    }
   ],
   "source": [
    "ridge.pred=predict(ridge.fit, s=ridge.bestlamda, newx=x[test,])\n",
    "ridge.error = mean((ridge.pred-y[test])^2)\n",
    "paste(\"Test Error for CV Ridge Model is \", round(ridge.error, 2))"
   ]
  },
  {
   "cell_type": "markdown",
   "metadata": {},
   "source": [
    "### Step (d)\n",
    "\n",
    "> Fit a lasso model on the training set, with λ chosen by crossvalidation. Report the test error obtained, along with the number of non-zero coefficient estimates."
   ]
  },
  {
   "cell_type": "code",
   "execution_count": 117,
   "metadata": {},
   "outputs": [
    {
     "ename": "ERROR",
     "evalue": "Error in glmnet(x, y, weights = weights, offset = offset, lambda = lambda, : unused argument (scale = TRUE)\n",
     "output_type": "error",
     "traceback": [
      "Error in glmnet(x, y, weights = weights, offset = offset, lambda = lambda, : unused argument (scale = TRUE)\nTraceback:\n",
      "1. cv.glmnet(x[train, ], y[train], alpha = 1, scale = TRUE)"
     ]
    }
   ],
   "source": [
    "set.seed(1)\n",
    "lasso.fit = cv.glmnet(x[train,], y[train], alpha=1, scale=TRUE)\n",
    "lasso.bestlamda = lasso.fit$lambda.min\n",
    "plot(lasso.fit)\n",
    "paste(\"Best lambda is \", lasso.bestlamda)"
   ]
  },
  {
   "cell_type": "code",
   "execution_count": null,
   "metadata": {},
   "outputs": [],
   "source": [
    "lasso.pred = predict(lasso.fit, s=lasso.bestlamda, newx=x[test,])\n",
    "lasso.error = mean((lasso.pred-y[test])^2)\n",
    "paste(\"Test Error for CV Lasso Model is \", round(lasso.error, 2))"
   ]
  },
  {
   "cell_type": "code",
   "execution_count": null,
   "metadata": {},
   "outputs": [],
   "source": [
    "lasso.model=glmnet(x[train,], y[train], alpha=1, lambda=lasso.bestlamda)\n",
    "lasso.coef=predict(lasso.model, type=\"coefficients\")\n",
    "print(lasso.coef)"
   ]
  },
  {
   "cell_type": "markdown",
   "metadata": {},
   "source": [
    "There are total 14 non-zero coefficients."
   ]
  },
  {
   "cell_type": "markdown",
   "metadata": {},
   "source": [
    "### Step (e)\n",
    "\n",
    "> Fit a PCR model on the training set, with M chosen by crossvalidation. Report the test error obtained, along with the value of M selected by cross-validation."
   ]
  },
  {
   "cell_type": "code",
   "execution_count": null,
   "metadata": {},
   "outputs": [],
   "source": [
    "library(pls)\n",
    "set.seed(1)\n",
    "pcr.fit=pcr(Apps~., data=College, subset=train, scale=TRUE, validation=\"CV\")\n",
    "summary(pcr.fit)"
   ]
  },
  {
   "cell_type": "code",
   "execution_count": null,
   "metadata": {},
   "outputs": [],
   "source": [
    "validationplot(pcr.fit, val.type=\"MSEP\")"
   ]
  },
  {
   "cell_type": "markdown",
   "metadata": {},
   "source": [
    "We can see the smallest cross-validation error occurs when M=17, which is basically performing least squares regression. We can observe that 16 components is also a similar value as to M=17. Next let's find test error with 16 components."
   ]
  },
  {
   "cell_type": "code",
   "execution_count": null,
   "metadata": {},
   "outputs": [],
   "source": [
    "pcr.pred=predict(pcr.fit, x[test,], ncomp=16)\n",
    "pcrerror16 = mean((pcr.pred-y[test])^2)\n",
    "paste(\"Test Error of PCR for M=16 is\", pcrerror16)"
   ]
  },
  {
   "cell_type": "code",
   "execution_count": null,
   "metadata": {},
   "outputs": [],
   "source": [
    "pcr.pred=predict(pcr.fit, x[test,], ncomp=17)\n",
    "pcrerror17 = mean((pcr.pred-y[test])^2)\n",
    "paste(\"Test Error of PCR for M=17 is\", pcrerror17)"
   ]
  },
  {
   "cell_type": "markdown",
   "metadata": {},
   "source": [
    "### Step (f)\n",
    "\n",
    "> Fit a PLS model on the training set, with M chosen by crossvalidation. Report the test error obtained, along with the value of M selected by cross-validation."
   ]
  },
  {
   "cell_type": "code",
   "execution_count": null,
   "metadata": {},
   "outputs": [],
   "source": [
    "set.seed(1)\n",
    "pls.fit=plsr(Apps~., data=College, subset=train, scale=TRUE, validation=\"CV\")\n",
    "summary(pls.fit)"
   ]
  },
  {
   "cell_type": "code",
   "execution_count": null,
   "metadata": {},
   "outputs": [],
   "source": [
    "validationplot(pls.fit, val.type=\"MSEP\")"
   ]
  },
  {
   "cell_type": "markdown",
   "metadata": {},
   "source": [
    "The Partial Least Squares (PLS) shows that after 7 components the test error doesn't change as much. We will try 7 components as well as 17, since there seems to be very tiny gradual decrease in test error."
   ]
  },
  {
   "cell_type": "code",
   "execution_count": null,
   "metadata": {},
   "outputs": [],
   "source": [
    "pls.pred=predict(pls.fit, x[test,], ncomp=7)\n",
    "plserror7 = mean((pls.pred-y[test])^2)\n",
    "paste(\"Test error of PLS for M=7 is\", round(plserror7, 2))"
   ]
  },
  {
   "cell_type": "code",
   "execution_count": null,
   "metadata": {},
   "outputs": [],
   "source": [
    "pls.pred=predict(pls.fit, x[test,], ncomp=17)\n",
    "plserror17 = mean((pls.pred-y[test])^2)\n",
    "paste(\"Test error of PLS for M=17 is\", round(plserror17, 2))"
   ]
  },
  {
   "cell_type": "markdown",
   "metadata": {},
   "source": [
    "### Step (g)\n",
    "\n",
    "> Comment on the results obtained. How accurately can we predict the number of college applications received? Is there much difference among the test errors resulting from these five approaches?"
   ]
  },
  {
   "cell_type": "markdown",
   "metadata": {},
   "source": [
    "To summarize the results above, here are the test errors for each model"
   ]
  },
  {
   "cell_type": "code",
   "execution_count": null,
   "metadata": {},
   "outputs": [],
   "source": [
    "paste(\"Test Error for Linear Model is \", round(lm.error, 2))\n",
    "paste(\"Test Error for CV Lasso Model is \", round(lasso.error, 2))\n",
    "paste(\"Test Error for CV Ridge Model is \", round(ridge.error, 2))\n",
    "paste(\"Test Error of PCR for M=16 is\", pcrerror16)\n",
    "paste(\"Test Error of PCR for M=17 is\", pcrerror17)\n",
    "paste(\"Test error of PLS for M=7 is\", round(plserror7, 2))\n",
    "paste(\"Test error of PLS for M=17 is\", round(plserror17, 2))"
   ]
  },
  {
   "cell_type": "markdown",
   "metadata": {},
   "source": [
    "We can observe that the lowest Test Error is for Ridge Model."
   ]
  },
  {
   "cell_type": "markdown",
   "metadata": {},
   "source": [
    "## Question 11\n",
    "\n",
    "We will now try to predict per capita crime rate in the `Boston` data set."
   ]
  },
  {
   "cell_type": "code",
   "execution_count": null,
   "metadata": {},
   "outputs": [],
   "source": [
    "library(MASS)\n",
    "print(names(Boston))"
   ]
  },
  {
   "cell_type": "code",
   "execution_count": null,
   "metadata": {},
   "outputs": [],
   "source": [
    "summary(Boston$crim)"
   ]
  },
  {
   "cell_type": "markdown",
   "metadata": {},
   "source": [
    "We have total of 13 features and we will be predicting per capita crime rate `crim`. Average crime rate is 3.6 with minimum being almost 0 and maximum 89."
   ]
  },
  {
   "cell_type": "markdown",
   "metadata": {},
   "source": [
    "Next, we split the dataset into train and test set with proportion of 70%, 30%"
   ]
  },
  {
   "cell_type": "code",
   "execution_count": null,
   "metadata": {},
   "outputs": [],
   "source": [
    "train = sample(c(TRUE, FALSE), nrow(Boston), rep=TRUE, prob=c(0.7, 0.3))\n",
    "test = (!train)\n",
    "table(train)"
   ]
  },
  {
   "cell_type": "markdown",
   "metadata": {},
   "source": [
    "### Step (a)\n",
    "\n",
    "> Try out some of the regression methods explored in this chapter, such as best subset selection, the lasso, ridge regression, and PCR. Present and discuss results for the approaches that you consider."
   ]
  },
  {
   "cell_type": "markdown",
   "metadata": {},
   "source": [
    "#### Best Subset Selection\n",
    "\n",
    "Let's first perform best subset selection"
   ]
  },
  {
   "cell_type": "code",
   "execution_count": null,
   "metadata": {},
   "outputs": [],
   "source": [
    "regfit.full=regsubsets(crim~., data=Boston, nvmax=13)\n",
    "reg.summary=summary(regfit.full)\n",
    "reg.summary"
   ]
  },
  {
   "cell_type": "code",
   "execution_count": null,
   "metadata": {},
   "outputs": [],
   "source": [
    "par(mfrow=c(2,2))\n",
    "plot(reg.summary$cp, xlab=\"Number of variables\", ylab=\"Cp\", type=\"l\")\n",
    "min_cp = which.min(reg.summary$cp)\n",
    "points(min_cp, reg.summary$cp[min_cp], col=\"red\", cex=2, pch=20)\n",
    "plot(regfit.full, scale=\"Cp\")\n",
    "\n",
    "plot(reg.summary$bic, xlab=\"Number of variables\", ylab=\"BIC\", type=\"l\")\n",
    "min_bic = which.min(reg.summary$bic)\n",
    "points(min_bic, reg.summary$bic[min_bic], col=\"red\", cex=2, pch=20)\n",
    "plot(regfit.full, scale=\"bic\")\n",
    "\n",
    "plot(reg.summary$adjr2, xlab=\"Number of variables\", ylab=\"Adj R^2\", type=\"l\")\n",
    "max_adjr2 = which.max(reg.summary$adjr2)\n",
    "points(max_adjr2, reg.summary$adjr2[max_adjr2], col=\"red\", cex=2, pch=20)\n",
    "plot(regfit.full, scale=\"adjr2\")"
   ]
  },
  {
   "cell_type": "markdown",
   "metadata": {},
   "source": [
    "The visualizations provide mixed results, $C_p$ tells us that the best is 8 variables, BIC - 4 variables and Adjusted $R^2$ 9 variables."
   ]
  },
  {
   "cell_type": "markdown",
   "metadata": {},
   "source": [
    "#### Linear Model (OLS)\n",
    "\n",
    "First, let's try a simple ordinary least squares. We will use ten fold cross validation as well."
   ]
  },
  {
   "cell_type": "code",
   "execution_count": null,
   "metadata": {},
   "outputs": [],
   "source": [
    "set.seed(200)\n",
    "\n",
    "# fit linear model\n",
    "lm.fit = lm(crim~., data=Boston[train,])\n",
    "\n",
    "# make predictions on test data\n",
    "pred = predict(lm.fit, Boston[test, ])\n",
    "\n",
    "# calculate error\n",
    "lm.error = mean((Boston[test, \"crim\"] - pred)^2)\n",
    "paste(\"Test Error for Linear Model is \", round(lm.error, 2))"
   ]
  },
  {
   "cell_type": "markdown",
   "metadata": {},
   "source": [
    "#### Ridge Regression"
   ]
  },
  {
   "cell_type": "markdown",
   "metadata": {},
   "source": [
    "Next, we perform ridge regression using cross validation."
   ]
  },
  {
   "cell_type": "code",
   "execution_count": null,
   "metadata": {},
   "outputs": [],
   "source": [
    "library(leaps)\n",
    "set.seed(200)\n",
    "\n",
    "# conver to model matrix for Ridge\n",
    "x=model.matrix(crim~., Boston)[,-1]\n",
    "y=Boston$crim\n",
    "\n",
    "# fit ridge\n",
    "ridge.fit = cv.glmnet(x[train,], y[train], alpha=0)\n",
    "ridge.bestlamda = ridge.fit$lambda.min\n",
    "\n",
    "plot(ridge.fit)\n",
    "paste(\"Best lambda is \", round(ridge.bestlamda, 2))"
   ]
  },
  {
   "cell_type": "code",
   "execution_count": null,
   "metadata": {},
   "outputs": [],
   "source": [
    "ridge.pred=predict(ridge.fit, s=ridge.bestlamda, newx=x[test,])\n",
    "ridge.error = mean((ridge.pred-y[test])^2)\n",
    "paste(\"Test Error for CV Ridge Model is \", round(ridge.error, 2))"
   ]
  },
  {
   "cell_type": "markdown",
   "metadata": {},
   "source": [
    "#### Lasso Regression"
   ]
  },
  {
   "cell_type": "markdown",
   "metadata": {},
   "source": [
    "Next, we perform lasso regression using cross validation."
   ]
  },
  {
   "cell_type": "code",
   "execution_count": null,
   "metadata": {},
   "outputs": [],
   "source": [
    "set.seed(200)\n",
    "\n",
    "# fit the model\n",
    "lasso.fit = cv.glmnet(x[train,], y[train], alpha=1)\n",
    "\n",
    "# best lambda\n",
    "lasso.bestlamda = lasso.fit$lambda.min\n",
    "\n",
    "# plot the model\n",
    "plot(lasso.fit)\n",
    "paste(\"Best lambda is \", lasso.bestlamda)"
   ]
  },
  {
   "cell_type": "code",
   "execution_count": null,
   "metadata": {},
   "outputs": [],
   "source": [
    "lasso.pred = predict(lasso.fit, s=lasso.bestlamda, newx=x[test,])\n",
    "lasso.error = mean((lasso.pred-y[test])^2)\n",
    "paste(\"Test Error for CV Lasso Model is \", round(lasso.error, 2))"
   ]
  },
  {
   "cell_type": "markdown",
   "metadata": {},
   "source": [
    "#### Principal Components Regression (PCR)\n",
    "\n",
    "Next, we will try PCR."
   ]
  },
  {
   "cell_type": "code",
   "execution_count": null,
   "metadata": {},
   "outputs": [],
   "source": [
    "library(pls)\n",
    "set.seed(200)\n",
    "pcr.fit=pcr(crim~., data=Boston, subset=train, scale=T, validation=\"CV\")\n",
    "validationplot(pcr.fit, val.type=\"MSEP\")"
   ]
  },
  {
   "cell_type": "code",
   "execution_count": null,
   "metadata": {},
   "outputs": [],
   "source": [
    "pcr.pred=predict(pcr.fit, x[test,], ncomp=4)\n",
    "pcrerror=mean((pcr.pred-y[test])^2)\n",
    "paste(\"Test error of PCR for M=4 is\", round(pcrerror, 2))"
   ]
  },
  {
   "cell_type": "code",
   "execution_count": null,
   "metadata": {},
   "outputs": [],
   "source": [
    "pcr.pred=predict(pcr.fit, x[test,], ncomp=13)\n",
    "pcrerror=mean((pcr.pred-y[test])^2)\n",
    "paste(\"Test error of PCR for M=13 is\", round(pcrerror, 2))"
   ]
  },
  {
   "cell_type": "markdown",
   "metadata": {},
   "source": [
    "### Step (b)\n",
    "\n",
    "> Propose a model (or set of models) that seem to perform well on this data set, and justify your answer. Make sure that you are evaluating model performance using validation set error, crossvalidation, or some other reasonable alternative, as opposed to using training error."
   ]
  },
  {
   "cell_type": "code",
   "execution_count": null,
   "metadata": {},
   "outputs": [],
   "source": [
    "paste(\"Test Error for Linear Model is \", round(lm.error, 2))\n",
    "paste(\"Test Error for CV Ridge Model is \", round(ridge.error, 2))\n",
    "paste(\"Test Error for CV Lasso Model is \", round(lasso.error, 2))\n",
    "paste(\"Test error of PCR for M=13 is\", round(pcrerror, 2))"
   ]
  },
  {
   "cell_type": "markdown",
   "metadata": {},
   "source": [
    "To summarize, based on the above models, we can observe that the best model is cross-validated Lasso."
   ]
  },
  {
   "cell_type": "markdown",
   "metadata": {},
   "source": [
    "### Step (c)\n",
    "\n",
    "> Does your chosen model involve all of the features in the data set? Why or why not?"
   ]
  },
  {
   "cell_type": "markdown",
   "metadata": {},
   "source": [
    "Lasso chose the model with the following variables / coefficients."
   ]
  },
  {
   "cell_type": "code",
   "execution_count": null,
   "metadata": {},
   "outputs": [],
   "source": [
    "lasso.coef=predict(lasso.model, type=\"coefficients\")\n",
    "print(lasso.coef)"
   ]
  },
  {
   "cell_type": "markdown",
   "metadata": {},
   "source": [
    "Our lasso model contains 12 non-zero coefficients."
   ]
  }
 ],
 "metadata": {
  "kernelspec": {
   "display_name": "R",
   "language": "R",
   "name": "ir"
  },
  "language_info": {
   "codemirror_mode": "r",
   "file_extension": ".r",
   "mimetype": "text/x-r-source",
   "name": "R",
   "pygments_lexer": "r",
   "version": "3.5.3"
  }
 },
 "nbformat": 4,
 "nbformat_minor": 2
}
