{
 "cells": [
  {
   "cell_type": "markdown",
   "metadata": {},
   "source": [
    "# 4.6 Lab: Exercises\n",
    "\n",
    "The following notebook contains exercises 11, 12, 13 for the 'Classification' chapter (chapter 4) of ISLR book."
   ]
  },
  {
   "cell_type": "markdown",
   "metadata": {},
   "source": [
    "## Questions for professor\n",
    "\n",
    "* In the lab they split the data into test and train differently, in the exercises, I used 70 to 30 %"
   ]
  },
  {
   "cell_type": "markdown",
   "metadata": {},
   "source": [
    "## Question 11\n",
    "\n",
    "In this problem, you will develop a model to predict whether a given car gets high or low gas mileage based on the `Auto` data set."
   ]
  },
  {
   "cell_type": "code",
   "execution_count": 105,
   "metadata": {},
   "outputs": [
    {
     "name": "stderr",
     "output_type": "stream",
     "text": [
      "The following objects are masked from Auto (pos = 4):\n",
      "\n",
      "    acceleration, cylinders, displacement, horsepower, mpg, mpg01,\n",
      "    name, origin, weight, year\n",
      "\n",
      "The following objects are masked from Auto (pos = 6):\n",
      "\n",
      "    acceleration, cylinders, displacement, horsepower, mpg, mpg01,\n",
      "    name, origin, weight, year\n",
      "\n",
      "The following objects are masked from Auto (pos = 10):\n",
      "\n",
      "    acceleration, cylinders, displacement, horsepower, mpg, name,\n",
      "    origin, weight, year\n",
      "\n"
     ]
    },
    {
     "data": {
      "text/html": [
       "\n",
       "<table width=\"100%\" summary=\"page for Auto {ISLR}\"><tr><td>Auto {ISLR}</td><td style=\"text-align: right;\">R Documentation</td></tr></table>\n",
       "\n",
       "<h2>\n",
       "Auto Data Set\n",
       "</h2>\n",
       "\n",
       "<h3>Description</h3>\n",
       "\n",
       "<p>Gas mileage, horsepower, and other information for 392 vehicles.</p>\n",
       "\n",
       "\n",
       "<h3>Usage</h3>\n",
       "\n",
       "<pre>Auto</pre>\n",
       "\n",
       "\n",
       "<h3>Format</h3>\n",
       "\n",
       "<p>A data frame with 392 observations on the following 9 variables.\n",
       "</p>\n",
       "\n",
       "<dl>\n",
       "<dt><code>mpg</code></dt><dd><p>miles per gallon</p>\n",
       "</dd>\n",
       "<dt><code>cylinders</code></dt><dd><p>Number of cylinders between 4 and 8</p>\n",
       "</dd>\n",
       "<dt><code>displacement</code></dt><dd><p>Engine displacement (cu. inches)</p>\n",
       "</dd>\n",
       "<dt><code>horsepower</code></dt><dd><p>Engine horsepower</p>\n",
       "</dd>\n",
       "<dt><code>weight</code></dt><dd><p>Vehicle weight (lbs.)</p>\n",
       "</dd>\n",
       "<dt><code>acceleration</code></dt><dd><p>Time to accelerate from 0 to 60 mph (sec.)</p>\n",
       "</dd>\n",
       "<dt><code>year</code></dt><dd><p>Model year (modulo 100)</p>\n",
       "</dd>\n",
       "<dt><code>origin</code></dt><dd><p>Origin of car (1. American, 2. European, 3. Japanese)</p>\n",
       "</dd>\n",
       "<dt><code>name</code></dt><dd><p>Vehicle name</p>\n",
       "</dd></dl>\n",
       "\n",
       "<p>The orginal data contained 408 observations but 16 observations with\n",
       "missing values were removed.</p>\n",
       "\n",
       "\n",
       "<h3>Source</h3>\n",
       "\n",
       "<p>This dataset was taken from the StatLib library which is maintained at Carnegie Mellon University. The dataset was used in the 1983 American Statistical Association Exposition.\n",
       "</p>\n",
       "\n",
       "\n",
       "<h3>References</h3>\n",
       "\n",
       "<p>James, G., Witten, D., Hastie, T., and Tibshirani, R. (2013)\n",
       "<em>An Introduction to Statistical Learning with applications in R</em>,\n",
       "<a href=\"www.StatLearning.com\">www.StatLearning.com</a>,\n",
       "Springer-Verlag, New York\n",
       "</p>\n",
       "\n",
       "\n",
       "<h3>Examples</h3>\n",
       "\n",
       "<pre>\n",
       "pairs(Auto)\n",
       "attach(Auto)\n",
       "hist(mpg)\n",
       "</pre>\n",
       "\n",
       "<hr /><div style=\"text-align: center;\">[Package <em>ISLR</em> version 1.2 ]</div>"
      ],
      "text/latex": [
       "\\inputencoding{utf8}\n",
       "\\HeaderA{Auto}{Auto Data Set}{Auto}\n",
       "\\keyword{datasets}{Auto}\n",
       "%\n",
       "\\begin{Description}\\relax\n",
       "Gas mileage, horsepower, and other information for 392 vehicles.\n",
       "\\end{Description}\n",
       "%\n",
       "\\begin{Usage}\n",
       "\\begin{verbatim}\n",
       "Auto\n",
       "\\end{verbatim}\n",
       "\\end{Usage}\n",
       "%\n",
       "\\begin{Format}\n",
       "A data frame with 392 observations on the following 9 variables.\n",
       "\\begin{description}\n",
       "\n",
       "\\item[\\code{mpg}] miles per gallon\n",
       "\\item[\\code{cylinders}] Number of cylinders between 4 and 8\n",
       "\\item[\\code{displacement}] Engine displacement (cu. inches)\n",
       "\\item[\\code{horsepower}] Engine horsepower\n",
       "\\item[\\code{weight}] Vehicle weight (lbs.)\n",
       "\\item[\\code{acceleration}] Time to accelerate from 0 to 60 mph (sec.)\n",
       "\\item[\\code{year}] Model year (modulo 100)\n",
       "\\item[\\code{origin}] Origin of car (1. American, 2. European, 3. Japanese)\n",
       "\\item[\\code{name}] Vehicle name\n",
       "\\end{description}\n",
       "\n",
       "\n",
       "The orginal data contained 408 observations but 16 observations with\n",
       "missing values were removed.\n",
       "\\end{Format}\n",
       "%\n",
       "\\begin{Source}\\relax\n",
       "This dataset was taken from the StatLib library which is maintained at Carnegie Mellon University. The dataset was used in the 1983 American Statistical Association Exposition.\n",
       "\\end{Source}\n",
       "%\n",
       "\\begin{References}\\relax\n",
       "James, G., Witten, D., Hastie, T., and Tibshirani, R. (2013)\n",
       "\\emph{An Introduction to Statistical Learning with applications in R},\n",
       "\\url{www.StatLearning.com},\n",
       "Springer-Verlag, New York\n",
       "\\end{References}\n",
       "%\n",
       "\\begin{Examples}\n",
       "\\begin{ExampleCode}\n",
       "pairs(Auto)\n",
       "attach(Auto)\n",
       "hist(mpg)\n",
       "\\end{ExampleCode}\n",
       "\\end{Examples}"
      ],
      "text/plain": [
       "Auto                   package:ISLR                    R Documentation\n",
       "\n",
       "_\bA_\bu_\bt_\bo _\bD_\ba_\bt_\ba _\bS_\be_\bt\n",
       "\n",
       "_\bD_\be_\bs_\bc_\br_\bi_\bp_\bt_\bi_\bo_\bn:\n",
       "\n",
       "     Gas mileage, horsepower, and other information for 392 vehicles.\n",
       "\n",
       "_\bU_\bs_\ba_\bg_\be:\n",
       "\n",
       "     Auto\n",
       "     \n",
       "_\bF_\bo_\br_\bm_\ba_\bt:\n",
       "\n",
       "     A data frame with 392 observations on the following 9 variables.\n",
       "\n",
       "     'mpg' miles per gallon\n",
       "\n",
       "     'cylinders' Number of cylinders between 4 and 8\n",
       "\n",
       "     'displacement' Engine displacement (cu. inches)\n",
       "\n",
       "     'horsepower' Engine horsepower\n",
       "\n",
       "     'weight' Vehicle weight (lbs.)\n",
       "\n",
       "     'acceleration' Time to accelerate from 0 to 60 mph (sec.)\n",
       "\n",
       "     'year' Model year (modulo 100)\n",
       "\n",
       "     'origin' Origin of car (1. American, 2. European, 3. Japanese)\n",
       "\n",
       "     'name' Vehicle name\n",
       "\n",
       "     The orginal data contained 408 observations but 16 observations\n",
       "     with missing values were removed.\n",
       "\n",
       "_\bS_\bo_\bu_\br_\bc_\be:\n",
       "\n",
       "     This dataset was taken from the StatLib library which is\n",
       "     maintained at Carnegie Mellon University. The dataset was used in\n",
       "     the 1983 American Statistical Association Exposition.\n",
       "\n",
       "_\bR_\be_\bf_\be_\br_\be_\bn_\bc_\be_\bs:\n",
       "\n",
       "     James, G., Witten, D., Hastie, T., and Tibshirani, R. (2013) _An\n",
       "     Introduction to Statistical Learning with applications in R_,\n",
       "     <URL: www.StatLearning.com>, Springer-Verlag, New York\n",
       "\n",
       "_\bE_\bx_\ba_\bm_\bp_\bl_\be_\bs:\n",
       "\n",
       "     pairs(Auto)\n",
       "     attach(Auto)\n",
       "     hist(mpg)\n",
       "     "
      ]
     },
     "metadata": {},
     "output_type": "display_data"
    }
   ],
   "source": [
    "library(MASS)\n",
    "library(ISLR)\n",
    "set.seed(33558)\n",
    "\n",
    "# load auto dataset\n",
    "attach(Auto)\n",
    "\n",
    "# let's remind ourselves description of the dataset\n",
    "?Auto"
   ]
  },
  {
   "cell_type": "markdown",
   "metadata": {},
   "source": [
    "### Step (a)\n",
    "\n",
    ">  Create a binary variable, `mpg01`, that contains a 1 if `mpg` contains a value above its median, and a 0 if `mpg` contains a value below its median. You can compute the median using the `median()` function. Note you may find it helpful to use the `data.frame()` function to create a single data set containing both `mpg01` and the other `Auto` variables."
   ]
  },
  {
   "cell_type": "code",
   "execution_count": 106,
   "metadata": {},
   "outputs": [
    {
     "data": {
      "text/html": [
       "<table>\n",
       "<thead><tr><th scope=col>mpg</th><th scope=col>cylinders</th><th scope=col>displacement</th><th scope=col>horsepower</th><th scope=col>weight</th><th scope=col>acceleration</th><th scope=col>year</th><th scope=col>origin</th><th scope=col>name</th><th scope=col>mpg01</th></tr></thead>\n",
       "<tbody>\n",
       "\t<tr><td>18                       </td><td>8                        </td><td>307                      </td><td>130                      </td><td>3504                     </td><td>12.0                     </td><td>70                       </td><td>1                        </td><td>chevrolet chevelle malibu</td><td>0                        </td></tr>\n",
       "\t<tr><td>15                       </td><td>8                        </td><td>350                      </td><td>165                      </td><td>3693                     </td><td>11.5                     </td><td>70                       </td><td>1                        </td><td>buick skylark 320        </td><td>0                        </td></tr>\n",
       "\t<tr><td>18                       </td><td>8                        </td><td>318                      </td><td>150                      </td><td>3436                     </td><td>11.0                     </td><td>70                       </td><td>1                        </td><td>plymouth satellite       </td><td>0                        </td></tr>\n",
       "\t<tr><td>16                       </td><td>8                        </td><td>304                      </td><td>150                      </td><td>3433                     </td><td>12.0                     </td><td>70                       </td><td>1                        </td><td>amc rebel sst            </td><td>0                        </td></tr>\n",
       "\t<tr><td>17                       </td><td>8                        </td><td>302                      </td><td>140                      </td><td>3449                     </td><td>10.5                     </td><td>70                       </td><td>1                        </td><td>ford torino              </td><td>0                        </td></tr>\n",
       "\t<tr><td>15                       </td><td>8                        </td><td>429                      </td><td>198                      </td><td>4341                     </td><td>10.0                     </td><td>70                       </td><td>1                        </td><td>ford galaxie 500         </td><td>0                        </td></tr>\n",
       "</tbody>\n",
       "</table>\n"
      ],
      "text/latex": [
       "\\begin{tabular}{r|llllllllll}\n",
       " mpg & cylinders & displacement & horsepower & weight & acceleration & year & origin & name & mpg01\\\\\n",
       "\\hline\n",
       "\t 18                        & 8                         & 307                       & 130                       & 3504                      & 12.0                      & 70                        & 1                         & chevrolet chevelle malibu & 0                        \\\\\n",
       "\t 15                        & 8                         & 350                       & 165                       & 3693                      & 11.5                      & 70                        & 1                         & buick skylark 320         & 0                        \\\\\n",
       "\t 18                        & 8                         & 318                       & 150                       & 3436                      & 11.0                      & 70                        & 1                         & plymouth satellite        & 0                        \\\\\n",
       "\t 16                        & 8                         & 304                       & 150                       & 3433                      & 12.0                      & 70                        & 1                         & amc rebel sst             & 0                        \\\\\n",
       "\t 17                        & 8                         & 302                       & 140                       & 3449                      & 10.5                      & 70                        & 1                         & ford torino               & 0                        \\\\\n",
       "\t 15                        & 8                         & 429                       & 198                       & 4341                      & 10.0                      & 70                        & 1                         & ford galaxie 500          & 0                        \\\\\n",
       "\\end{tabular}\n"
      ],
      "text/markdown": [
       "\n",
       "| mpg | cylinders | displacement | horsepower | weight | acceleration | year | origin | name | mpg01 |\n",
       "|---|---|---|---|---|---|---|---|---|---|\n",
       "| 18                        | 8                         | 307                       | 130                       | 3504                      | 12.0                      | 70                        | 1                         | chevrolet chevelle malibu | 0                         |\n",
       "| 15                        | 8                         | 350                       | 165                       | 3693                      | 11.5                      | 70                        | 1                         | buick skylark 320         | 0                         |\n",
       "| 18                        | 8                         | 318                       | 150                       | 3436                      | 11.0                      | 70                        | 1                         | plymouth satellite        | 0                         |\n",
       "| 16                        | 8                         | 304                       | 150                       | 3433                      | 12.0                      | 70                        | 1                         | amc rebel sst             | 0                         |\n",
       "| 17                        | 8                         | 302                       | 140                       | 3449                      | 10.5                      | 70                        | 1                         | ford torino               | 0                         |\n",
       "| 15                        | 8                         | 429                       | 198                       | 4341                      | 10.0                      | 70                        | 1                         | ford galaxie 500          | 0                         |\n",
       "\n"
      ],
      "text/plain": [
       "  mpg cylinders displacement horsepower weight acceleration year origin\n",
       "1 18  8         307          130        3504   12.0         70   1     \n",
       "2 15  8         350          165        3693   11.5         70   1     \n",
       "3 18  8         318          150        3436   11.0         70   1     \n",
       "4 16  8         304          150        3433   12.0         70   1     \n",
       "5 17  8         302          140        3449   10.5         70   1     \n",
       "6 15  8         429          198        4341   10.0         70   1     \n",
       "  name                      mpg01\n",
       "1 chevrolet chevelle malibu 0    \n",
       "2 buick skylark 320         0    \n",
       "3 plymouth satellite        0    \n",
       "4 amc rebel sst             0    \n",
       "5 ford torino               0    \n",
       "6 ford galaxie 500          0    "
      ]
     },
     "metadata": {},
     "output_type": "display_data"
    }
   ],
   "source": [
    "Auto$mpg01 <- ifelse(mpg > median(Auto$mpg), 1, 0)\n",
    "\n",
    "# check results\n",
    "head(Auto)"
   ]
  },
  {
   "cell_type": "markdown",
   "metadata": {},
   "source": [
    "### Step (b)\n",
    "\n",
    "> Explore the data graphically in order to investigate the association between `mpg01` and the other features. Which of the other features seem most likely to be useful in predicting `mpg01`? Scatterplots and boxplots may be useful tools to answer this question. Describe your findings."
   ]
  },
  {
   "cell_type": "code",
   "execution_count": 107,
   "metadata": {},
   "outputs": [
    {
     "data": {
      "image/png": "[encoded data removed]",
      "text/plain": [
       "plot without title"
      ]
     },
     "metadata": {},
     "output_type": "display_data"
    }
   ],
   "source": [
    "par(mfrow=c(3,3))\n",
    "plot(mpg01~., data=Auto)"
   ]
  },
  {
   "cell_type": "code",
   "execution_count": 108,
   "metadata": {},
   "outputs": [
    {
     "data": {
      "image/png": "[encoded data removed]",
      "text/plain": [
       "Plot with title \"MPG by Displacement\""
      ]
     },
     "metadata": {},
     "output_type": "display_data"
    },
    {
     "data": {
      "image/png": "[encoded data removed]",
      "text/plain": [
       "Plot with title \"MPG by Year\""
      ]
     },
     "metadata": {},
     "output_type": "display_data"
    }
   ],
   "source": [
    "par(mfrow=c(2,2))\n",
    "boxplot(cylinders~mpg01, data=Auto, main=\"MPG by Car Cylinders\", xlab=\"Mileage\", ylab=\"# of Cylinders\")\n",
    "boxplot(horsepower~mpg01, data=Auto, main=\"MPG by Horsepower\", xlab=\"Mileage\", ylab=\"Horsepower\")\n",
    "boxplot(acceleration~mpg01, data=Auto, main=\"MPG by Acceleration\", xlab=\"Mileage\", ylab=\"Acceleration\")\n",
    "boxplot(displacement~mpg01, data=Auto, main=\"MPG by Displacement\", xlab=\"Mileage\", ylab=\"Displacement\")\n",
    "boxplot(year~mpg01, data=Auto, main=\"MPG by Year\", xlab=\"Mileage\", ylab=\"Year\")"
   ]
  },
  {
   "cell_type": "markdown",
   "metadata": {},
   "source": [
    "Based on the above visuals, we can observe that \n",
    "\n",
    "* horsepower\n",
    "* weight\n",
    "* acceleration\n",
    "* displacement\n",
    "* year\n",
    "\n",
    "seem to have a certain pattern in relation to `mpg01`. `mpg` is naturally associated simply because we calculated `mpg01` based on `mpg`."
   ]
  },
  {
   "cell_type": "markdown",
   "metadata": {},
   "source": [
    "### Step (c)\n",
    "\n",
    "> Split the data into a training set and a test set."
   ]
  },
  {
   "cell_type": "code",
   "execution_count": 109,
   "metadata": {},
   "outputs": [],
   "source": [
    "# use sample to create train and test set with a vector based on probabilities\n",
    "train_index <- sample(c(FALSE, TRUE), nrow(Auto), replace = TRUE, prob = c(0.3, 0.7))\n",
    "train <- Auto[train_index,]\n",
    "test <- Auto[!train_index,]"
   ]
  },
  {
   "cell_type": "markdown",
   "metadata": {},
   "source": [
    "The above vector contains the True, False to be used as a mask when filtering the main dataset."
   ]
  },
  {
   "cell_type": "markdown",
   "metadata": {},
   "source": [
    "### Step (d)\n",
    "\n",
    "> Perform LDA on the training data in order to predict `mpg01` using the variables that seemed most associated with `mpg01` in (b). What is the test error of the model obtained?"
   ]
  },
  {
   "cell_type": "code",
   "execution_count": 110,
   "metadata": {},
   "outputs": [
    {
     "data": {
      "text/plain": [
       "Call:\n",
       "lda(mpg01 ~ horsepower + weight + acceleration + displacement + \n",
       "    year, data = train)\n",
       "\n",
       "Prior probabilities of groups:\n",
       "        0         1 \n",
       "0.4843206 0.5156794 \n",
       "\n",
       "Group means:\n",
       "  horsepower   weight acceleration displacement     year\n",
       "0  127.20863 3589.050     14.84101     267.3022 74.53237\n",
       "1   78.54054 2325.514     16.46351     114.5878 77.72973\n",
       "\n",
       "Coefficients of linear discriminants:\n",
       "                      LD1\n",
       "horsepower    0.011954851\n",
       "weight       -0.001102936\n",
       "acceleration -0.012829832\n",
       "displacement -0.009161267\n",
       "year          0.126856800"
      ]
     },
     "metadata": {},
     "output_type": "display_data"
    }
   ],
   "source": [
    "lda.fit = lda(mpg01~horsepower+weight+acceleration+displacement+year, data = train)\n",
    "lda.fit"
   ]
  },
  {
   "cell_type": "code",
   "execution_count": 111,
   "metadata": {},
   "outputs": [
    {
     "data": {
      "text/html": [
       "<ol class=list-inline>\n",
       "\t<li>'class'</li>\n",
       "\t<li>'posterior'</li>\n",
       "\t<li>'x'</li>\n",
       "</ol>\n"
      ],
      "text/latex": [
       "\\begin{enumerate*}\n",
       "\\item 'class'\n",
       "\\item 'posterior'\n",
       "\\item 'x'\n",
       "\\end{enumerate*}\n"
      ],
      "text/markdown": [
       "1. 'class'\n",
       "2. 'posterior'\n",
       "3. 'x'\n",
       "\n",
       "\n"
      ],
      "text/plain": [
       "[1] \"class\"     \"posterior\" \"x\"        "
      ]
     },
     "metadata": {},
     "output_type": "display_data"
    }
   ],
   "source": [
    "# make predictions using the fitted model\n",
    "lda.pred = predict(lda.fit, test[,c('horsepower', 'weight', 'acceleration',\n",
    "                                    'displacement', 'year', 'mpg01')])\n",
    "names(lda.pred)"
   ]
  },
  {
   "cell_type": "code",
   "execution_count": 112,
   "metadata": {},
   "outputs": [
    {
     "data": {
      "text/plain": [
       "         test.mpg01\n",
       "lda.class  0  1\n",
       "        0 49  3\n",
       "        1  8 45"
      ]
     },
     "metadata": {},
     "output_type": "display_data"
    }
   ],
   "source": [
    "# generate a confusion matrix\n",
    "lda.class <- lda.pred$class # predicted values\n",
    "test.mpg01 <- test$mpg01 # test set target values\n",
    "table(lda.class, test.mpg01)"
   ]
  },
  {
   "cell_type": "code",
   "execution_count": 113,
   "metadata": {},
   "outputs": [
    {
     "data": {
      "text/html": [
       "'LDA Model Accuracy is 0.895'"
      ],
      "text/latex": [
       "'LDA Model Accuracy is 0.895'"
      ],
      "text/markdown": [
       "'LDA Model Accuracy is 0.895'"
      ],
      "text/plain": [
       "[1] \"LDA Model Accuracy is 0.895\""
      ]
     },
     "metadata": {},
     "output_type": "display_data"
    },
    {
     "data": {
      "text/html": [
       "'LDA Model Test Error Rate is 0.105'"
      ],
      "text/latex": [
       "'LDA Model Test Error Rate is 0.105'"
      ],
      "text/markdown": [
       "'LDA Model Test Error Rate is 0.105'"
      ],
      "text/plain": [
       "[1] \"LDA Model Test Error Rate is 0.105\""
      ]
     },
     "metadata": {},
     "output_type": "display_data"
    }
   ],
   "source": [
    "# Accuracy\n",
    "lda_acc <- round(mean(lda.class==test.mpg01), 3)\n",
    "\n",
    "paste(\"LDA Model Accuracy is\", round(lda_acc, 3))\n",
    "paste(\"LDA Model Test Error Rate is\", round(1-lda_acc, 3))"
   ]
  },
  {
   "cell_type": "markdown",
   "metadata": {},
   "source": [
    "We can observe that our model's test accuracy is 89% which means that our test error rate is 11%."
   ]
  },
  {
   "cell_type": "markdown",
   "metadata": {},
   "source": [
    "### Step (d)\n",
    "\n",
    "> Perform QDA on the training data in order to predict `mpg01` using the variables that seemed most associated with `mpg01` in (b). What is the test error of the model obtained?"
   ]
  },
  {
   "cell_type": "code",
   "execution_count": 114,
   "metadata": {},
   "outputs": [
    {
     "data": {
      "text/plain": [
       "Call:\n",
       "qda(mpg01 ~ horsepower + weight + acceleration + displacement + \n",
       "    year, data = train)\n",
       "\n",
       "Prior probabilities of groups:\n",
       "        0         1 \n",
       "0.4843206 0.5156794 \n",
       "\n",
       "Group means:\n",
       "  horsepower   weight acceleration displacement     year\n",
       "0  127.20863 3589.050     14.84101     267.3022 74.53237\n",
       "1   78.54054 2325.514     16.46351     114.5878 77.72973"
      ]
     },
     "metadata": {},
     "output_type": "display_data"
    }
   ],
   "source": [
    "qda.fit = qda(mpg01~horsepower+weight+acceleration+displacement+year, data=train)\n",
    "qda.fit"
   ]
  },
  {
   "cell_type": "code",
   "execution_count": 115,
   "metadata": {},
   "outputs": [
    {
     "data": {
      "text/html": [
       "<ol class=list-inline>\n",
       "\t<li>'class'</li>\n",
       "\t<li>'posterior'</li>\n",
       "</ol>\n"
      ],
      "text/latex": [
       "\\begin{enumerate*}\n",
       "\\item 'class'\n",
       "\\item 'posterior'\n",
       "\\end{enumerate*}\n"
      ],
      "text/markdown": [
       "1. 'class'\n",
       "2. 'posterior'\n",
       "\n",
       "\n"
      ],
      "text/plain": [
       "[1] \"class\"     \"posterior\""
      ]
     },
     "metadata": {},
     "output_type": "display_data"
    }
   ],
   "source": [
    "# make predictions using the fitted model\n",
    "qda.pred = predict(qda.fit, test[,c('horsepower', 'weight', 'acceleration',\n",
    "                                    'displacement', 'year', 'mpg01')])\n",
    "names(qda.pred)"
   ]
  },
  {
   "cell_type": "code",
   "execution_count": 116,
   "metadata": {},
   "outputs": [
    {
     "data": {
      "text/plain": [
       "         test.mpg01\n",
       "qda.class  0  1\n",
       "        0 51  6\n",
       "        1  6 42"
      ]
     },
     "metadata": {},
     "output_type": "display_data"
    }
   ],
   "source": [
    "# generate a confusion matrix\n",
    "qda.class <- qda.pred$class # predicted values\n",
    "test.mpg01 <- test$mpg01 # test set target values\n",
    "table(qda.class, test.mpg01)"
   ]
  },
  {
   "cell_type": "code",
   "execution_count": 117,
   "metadata": {},
   "outputs": [
    {
     "data": {
      "text/html": [
       "'QDA Model Accuracy is 0.886'"
      ],
      "text/latex": [
       "'QDA Model Accuracy is 0.886'"
      ],
      "text/markdown": [
       "'QDA Model Accuracy is 0.886'"
      ],
      "text/plain": [
       "[1] \"QDA Model Accuracy is 0.886\""
      ]
     },
     "metadata": {},
     "output_type": "display_data"
    },
    {
     "data": {
      "text/html": [
       "'QDA Model Test Error Rate is 0.114'"
      ],
      "text/latex": [
       "'QDA Model Test Error Rate is 0.114'"
      ],
      "text/markdown": [
       "'QDA Model Test Error Rate is 0.114'"
      ],
      "text/plain": [
       "[1] \"QDA Model Test Error Rate is 0.114\""
      ]
     },
     "metadata": {},
     "output_type": "display_data"
    }
   ],
   "source": [
    "# Accuracy\n",
    "qda_acc <- round(mean(qda.class==test.mpg01), 3)\n",
    "\n",
    "paste(\"QDA Model Accuracy is\", round(qda_acc, 3))\n",
    "paste(\"QDA Model Test Error Rate is\", round(1-qda_acc, 3))"
   ]
  },
  {
   "cell_type": "markdown",
   "metadata": {},
   "source": [
    "### Step (f)\n",
    "\n",
    ">  Perform logistic regression on the training data in order to predict `mpg01` using the variables that seemed most associated with `mpg01` in (b). What is the test error of the model obtained?"
   ]
  },
  {
   "cell_type": "code",
   "execution_count": 118,
   "metadata": {},
   "outputs": [
    {
     "data": {
      "text/plain": [
       "\n",
       "Call:\n",
       "glm(formula = mpg01 ~ horsepower + weight + acceleration + displacement + \n",
       "    year, family = binomial, data = train)\n",
       "\n",
       "Deviance Residuals: \n",
       "    Min       1Q   Median       3Q      Max  \n",
       "-2.1454  -0.0867   0.0302   0.2202   3.7071  \n",
       "\n",
       "Coefficients:\n",
       "               Estimate Std. Error z value Pr(>|z|)    \n",
       "(Intercept)  -13.870310   6.656823  -2.084  0.03719 *  \n",
       "horsepower    -0.055797   0.028391  -1.965  0.04938 *  \n",
       "weight        -0.003385   0.001244  -2.722  0.00649 ** \n",
       "acceleration  -0.111226   0.169987  -0.654  0.51290    \n",
       "displacement  -0.013155   0.007945  -1.656  0.09779 .  \n",
       "year           0.426787   0.084940   5.025 5.05e-07 ***\n",
       "---\n",
       "Signif. codes:  0 '***' 0.001 '**' 0.01 '*' 0.05 '.' 0.1 ' ' 1\n",
       "\n",
       "(Dispersion parameter for binomial family taken to be 1)\n",
       "\n",
       "    Null deviance: 397.58  on 286  degrees of freedom\n",
       "Residual deviance: 111.71  on 281  degrees of freedom\n",
       "AIC: 123.71\n",
       "\n",
       "Number of Fisher Scoring iterations: 8\n"
      ]
     },
     "metadata": {},
     "output_type": "display_data"
    }
   ],
   "source": [
    "# fit the model\n",
    "glm.fit = glm(mpg01~horsepower+weight+acceleration+displacement+year,\n",
    "              data=train, family=binomial)\n",
    "summary(glm.fit)"
   ]
  },
  {
   "cell_type": "code",
   "execution_count": 119,
   "metadata": {},
   "outputs": [],
   "source": [
    "# make predictions\n",
    "glm.probs=predict(glm.fit, test, type=\"response\")"
   ]
  },
  {
   "cell_type": "code",
   "execution_count": 120,
   "metadata": {},
   "outputs": [],
   "source": [
    "# identify class based on threshhold\n",
    "glm.pred=rep(0,nrow(test))\n",
    "glm.pred[glm.probs >.5]=1"
   ]
  },
  {
   "cell_type": "code",
   "execution_count": 121,
   "metadata": {},
   "outputs": [
    {
     "data": {
      "text/html": [
       "'Logistic Model Accuracy is 0.876'"
      ],
      "text/latex": [
       "'Logistic Model Accuracy is 0.876'"
      ],
      "text/markdown": [
       "'Logistic Model Accuracy is 0.876'"
      ],
      "text/plain": [
       "[1] \"Logistic Model Accuracy is 0.876\""
      ]
     },
     "metadata": {},
     "output_type": "display_data"
    },
    {
     "data": {
      "text/html": [
       "'Logistic Model Test Error Rate is 0.124'"
      ],
      "text/latex": [
       "'Logistic Model Test Error Rate is 0.124'"
      ],
      "text/markdown": [
       "'Logistic Model Test Error Rate is 0.124'"
      ],
      "text/plain": [
       "[1] \"Logistic Model Test Error Rate is 0.124\""
      ]
     },
     "metadata": {},
     "output_type": "display_data"
    }
   ],
   "source": [
    "# accuracy and test error\n",
    "glm_acc <- round(mean(glm.pred==test.mpg01), 3)\n",
    "\n",
    "paste(\"Logistic Model Accuracy is\", round(glm_acc, 3))\n",
    "paste(\"Logistic Model Test Error Rate is\", round(1-glm_acc, 3))"
   ]
  },
  {
   "cell_type": "markdown",
   "metadata": {},
   "source": [
    "### Step (g)\n",
    "\n",
    "> Perform KNN on the training data, with several values of K, in order to predict `mpg01`. Use only the variables that seemed most associated with `mpg01` in (b). What test errors do you obtain? Which value of K seems to perform the best on this data set?"
   ]
  },
  {
   "cell_type": "markdown",
   "metadata": {},
   "source": [
    "We will iterate through multiple values of k."
   ]
  },
  {
   "cell_type": "code",
   "execution_count": 142,
   "metadata": {},
   "outputs": [
    {
     "data": {
      "image/png": "[encoded data removed]",
      "text/plain": [
       "plot without title"
      ]
     },
     "metadata": {},
     "output_type": "display_data"
    }
   ],
   "source": [
    "library(class)\n",
    "# list of features we will use\n",
    "features <- c('horsepower', 'weight', 'acceleration','displacement', 'year')\n",
    "\n",
    "# empty list for errors\n",
    "errors <- rep(0, 250)\n",
    "\n",
    "# iterate through\n",
    "for (j in 1:250) {\n",
    "    knn.pred <- knn(train[,features], test[, features], train$mpg01, k=j)\n",
    "    error <- 1 - round(mean(knn.pred==test.mpg01), 3)\n",
    "    errors[j] <- error\n",
    "}\n",
    "\n",
    "# plot errors\n",
    "plot(errors, type=\"b\")"
   ]
  },
  {
   "cell_type": "code",
   "execution_count": 143,
   "metadata": {},
   "outputs": [
    {
     "data": {
      "text/html": [
       "0.105"
      ],
      "text/latex": [
       "0.105"
      ],
      "text/markdown": [
       "0.105"
      ],
      "text/plain": [
       "[1] 0.105"
      ]
     },
     "metadata": {},
     "output_type": "display_data"
    }
   ],
   "source": [
    "min(errors)"
   ]
  },
  {
   "cell_type": "markdown",
   "metadata": {},
   "source": [
    "We can observe that there are multiple values for K that produce the lowest error."
   ]
  },
  {
   "cell_type": "markdown",
   "metadata": {},
   "source": [
    "## Qestion 12\n",
    "\n",
    "This problem involves writing functions."
   ]
  },
  {
   "cell_type": "markdown",
   "metadata": {},
   "source": [
    "### Step (a)\n",
    "\n",
    "> Write a function, `Power()` , that prints out the result of raising 2 to the 3rd power. In other words, your function should compute 2 3 and print out the results. Hint: Recall that `x^a` raises `x` to the power `a`. Use the `print()` function to output the result."
   ]
  },
  {
   "cell_type": "code",
   "execution_count": 126,
   "metadata": {},
   "outputs": [
    {
     "name": "stdout",
     "output_type": "stream",
     "text": [
      "[1] 8\n"
     ]
    }
   ],
   "source": [
    "power <- function() {\n",
    "    print(2^3)\n",
    "}\n",
    "power()"
   ]
  },
  {
   "cell_type": "markdown",
   "metadata": {},
   "source": [
    "### Step (b)\n",
    "\n",
    "> Create a new function, `Power2()`, that allows you to pass any two numbers, `x` and `a`, and prints out the value of `x^a`. You can do this by beginning your function with the line \n",
    "> `Power2=function (x,a) `{You should be able to call your function by entering, for instance,\n",
    "> `Power2(3,8)` on the command line. This should output the value of $3^8$, namely, 6,561."
   ]
  },
  {
   "cell_type": "code",
   "execution_count": 127,
   "metadata": {},
   "outputs": [],
   "source": [
    "power2 <- function(base, pwr) {\n",
    "    print(base^pwr)\n",
    "}"
   ]
  },
  {
   "cell_type": "markdown",
   "metadata": {},
   "source": [
    "### Step (c)\n",
    "\n",
    "> Using the `Power2()` function that you just wrote, compute $10^3$, $8^{17}$, and $131^3$."
   ]
  },
  {
   "cell_type": "code",
   "execution_count": 128,
   "metadata": {},
   "outputs": [
    {
     "name": "stdout",
     "output_type": "stream",
     "text": [
      "[1] 1000\n",
      "[1] 2.2518e+15\n",
      "[1] 2248091\n"
     ]
    }
   ],
   "source": [
    "power2(10, 3)\n",
    "power2(8, 17)\n",
    "power2(131, 3)"
   ]
  },
  {
   "cell_type": "markdown",
   "metadata": {},
   "source": [
    "### Step (d)\n",
    "\n",
    ">  Now create a new function, `Power3()`, that actually returns the result `x^a` as an `R` object, rather than simply printing it to the screen. That is, if you store the value `x^a` in an object called result within your function, then you can simply `return()` this result, using the following line: return(result). The line above should be the last line in your function, before\n",
    "the `}` symbol."
   ]
  },
  {
   "cell_type": "code",
   "execution_count": 129,
   "metadata": {},
   "outputs": [],
   "source": [
    "power3 <- function(base, pwr) {\n",
    "    return(base^pwr)\n",
    "}"
   ]
  },
  {
   "cell_type": "markdown",
   "metadata": {},
   "source": [
    "### Step (e)\n",
    "\n",
    "> Now using the `Power3()` function, create a plot of $f(x)=x^2$.The x-axis should display a range of integers from 1 to 10, and the y-axis should display $x^2$. Label the axes  appropriately, and use an appropriate title for the figure. Consider displaying either\n",
    "the x-axis, the y-axis, or both on the log-scale. You can do this by using `log=‘‘x’’`, `log=‘‘y’’`, or `log=‘‘xy’’` as arguments to the `plot()` function."
   ]
  },
  {
   "cell_type": "code",
   "execution_count": 130,
   "metadata": {},
   "outputs": [],
   "source": [
    "x <- seq(1, 10, by=0.25)\n",
    "fx <- power3(x, 2)"
   ]
  },
  {
   "cell_type": "code",
   "execution_count": 131,
   "metadata": {},
   "outputs": [
    {
     "data": {
      "image/png": "[encoded data removed]",
      "text/plain": [
       "plot without title"
      ]
     },
     "metadata": {},
     "output_type": "display_data"
    }
   ],
   "source": [
    "plot(x, fx)"
   ]
  },
  {
   "cell_type": "markdown",
   "metadata": {},
   "source": [
    "### Step (f)\n",
    "\n",
    "> Create a function, `PlotPower()`, that allows you to create a plot of `x` against $x^a$ for a fixed a and for a range of values of `x`. For instance, if you call `PlotPower(1:10,3)` then a plot should be created with an x-axis taking on values $1,2,...,10$, and a y-axis taking on values $1^3, 2^3 ,...,10^3$."
   ]
  },
  {
   "cell_type": "code",
   "execution_count": 132,
   "metadata": {},
   "outputs": [],
   "source": [
    "PlotPower <- function(range, power) {\n",
    "    y <- range^power\n",
    "    plot(range, y)\n",
    "}"
   ]
  },
  {
   "cell_type": "code",
   "execution_count": 133,
   "metadata": {},
   "outputs": [
    {
     "data": {
      "image/png": "[encoded data removed]",
      "text/plain": [
       "plot without title"
      ]
     },
     "metadata": {},
     "output_type": "display_data"
    }
   ],
   "source": [
    "PlotPower(seq(1, 10, 0.25), 3)"
   ]
  },
  {
   "cell_type": "markdown",
   "metadata": {},
   "source": [
    "## Question 13\n",
    "\n",
    "> Using the `Boston` data set, fit classification models in order to predict whether a given suburb has a crime rate above or below the median. Explore logistic regression, LDA, and KNN models using various subsets of the predictors. Describe your findings."
   ]
  },
  {
   "cell_type": "markdown",
   "metadata": {},
   "source": [
    "First we will explore our dataset a bit to get a better understanding of it as well as shortly identify the features that might be the best predictors."
   ]
  },
  {
   "cell_type": "code",
   "execution_count": 134,
   "metadata": {},
   "outputs": [
    {
     "name": "stderr",
     "output_type": "stream",
     "text": [
      "The following objects are masked from Boston (pos = 4):\n",
      "\n",
      "    age, black, chas, crim, crimclass, dis, indus, lstat, medv, nox,\n",
      "    ptratio, rad, rm, tax, zn\n",
      "\n",
      "The following objects are masked from Boston (pos = 6):\n",
      "\n",
      "    age, black, chas, crim, crimclass, dis, indus, lstat, medv, nox,\n",
      "    ptratio, rad, rm, tax, zn\n",
      "\n",
      "The following objects are masked from Boston (pos = 9):\n",
      "\n",
      "    age, black, chas, crim, dis, indus, lstat, medv, nox, ptratio, rad,\n",
      "    rm, tax, zn\n",
      "\n"
     ]
    },
    {
     "data": {
      "text/html": [
       "\n",
       "<table width=\"100%\" summary=\"page for Boston {MASS}\"><tr><td>Boston {MASS}</td><td style=\"text-align: right;\">R Documentation</td></tr></table>\n",
       "\n",
       "<h2>\n",
       "Housing Values in Suburbs of Boston\n",
       "</h2>\n",
       "\n",
       "<h3>Description</h3>\n",
       "\n",
       "<p>The <code>Boston</code> data frame has 506 rows and 14 columns.\n",
       "</p>\n",
       "\n",
       "\n",
       "<h3>Usage</h3>\n",
       "\n",
       "<pre>\n",
       "Boston\n",
       "</pre>\n",
       "\n",
       "\n",
       "<h3>Format</h3>\n",
       "\n",
       "<p>This data frame contains the following columns:\n",
       "</p>\n",
       "\n",
       "<dl>\n",
       "<dt><code>crim</code></dt><dd>\n",
       "<p>per capita crime rate by town.\n",
       "</p>\n",
       "</dd>\n",
       "<dt><code>zn</code></dt><dd>\n",
       "<p>proportion of residential land zoned for lots over 25,000 sq.ft.\n",
       "</p>\n",
       "</dd>\n",
       "<dt><code>indus</code></dt><dd>\n",
       "<p>proportion of non-retail business acres per town.\n",
       "</p>\n",
       "</dd>\n",
       "<dt><code>chas</code></dt><dd>\n",
       "<p>Charles River dummy variable (= 1 if tract bounds river; 0 otherwise).\n",
       "</p>\n",
       "</dd>\n",
       "<dt><code>nox</code></dt><dd>\n",
       "<p>nitrogen oxides concentration (parts per 10 million).\n",
       "</p>\n",
       "</dd>\n",
       "<dt><code>rm</code></dt><dd>\n",
       "<p>average number of rooms per dwelling.\n",
       "</p>\n",
       "</dd>\n",
       "<dt><code>age</code></dt><dd>\n",
       "<p>proportion of owner-occupied units built prior to 1940.\n",
       "</p>\n",
       "</dd>\n",
       "<dt><code>dis</code></dt><dd>\n",
       "<p>weighted mean of distances to five Boston employment centres.\n",
       "</p>\n",
       "</dd>\n",
       "<dt><code>rad</code></dt><dd>\n",
       "<p>index of accessibility to radial highways.\n",
       "</p>\n",
       "</dd>\n",
       "<dt><code>tax</code></dt><dd>\n",
       "<p>full-value property-tax rate per \\$10,000.\n",
       "</p>\n",
       "</dd>\n",
       "<dt><code>ptratio</code></dt><dd>\n",
       "<p>pupil-teacher ratio by town.\n",
       "</p>\n",
       "</dd>\n",
       "<dt><code>black</code></dt><dd>\n",
       "<p><i>1000(Bk - 0.63)^2</i> where <i>Bk</i> is the proportion of blacks\n",
       "by town.\n",
       "</p>\n",
       "</dd>\n",
       "<dt><code>lstat</code></dt><dd>\n",
       "<p>lower status of the population (percent).\n",
       "</p>\n",
       "</dd>\n",
       "<dt><code>medv</code></dt><dd>\n",
       "<p>median value of owner-occupied homes in \\$1000s.\n",
       "</p>\n",
       "</dd>\n",
       "</dl>\n",
       "\n",
       "\n",
       "\n",
       "<h3>Source</h3>\n",
       "\n",
       "<p>Harrison, D. and Rubinfeld, D.L. (1978)\n",
       "Hedonic prices and the demand for clean air.\n",
       "<em>J. Environ. Economics and Management</em>\n",
       "<b>5</b>, 81&ndash;102.\n",
       "</p>\n",
       "<p>Belsley D.A., Kuh, E.  and Welsch, R.E. (1980)\n",
       "<em>Regression Diagnostics. Identifying Influential Data and Sources\n",
       "of Collinearity.</em>\n",
       "New York: Wiley.\n",
       "</p>\n",
       "\n",
       "<hr /><div style=\"text-align: center;\">[Package <em>MASS</em> version 7.3-51.1 ]</div>"
      ],
      "text/latex": [
       "\\inputencoding{utf8}\n",
       "\\HeaderA{Boston}{Housing Values in Suburbs of Boston}{Boston}\n",
       "\\keyword{datasets}{Boston}\n",
       "%\n",
       "\\begin{Description}\\relax\n",
       "The \\code{Boston} data frame has 506 rows and 14 columns.\n",
       "\\end{Description}\n",
       "%\n",
       "\\begin{Usage}\n",
       "\\begin{verbatim}\n",
       "Boston\n",
       "\\end{verbatim}\n",
       "\\end{Usage}\n",
       "%\n",
       "\\begin{Format}\n",
       "This data frame contains the following columns:\n",
       "\\begin{description}\n",
       "\n",
       "\\item[\\code{crim}] \n",
       "per capita crime rate by town.\n",
       "\n",
       "\\item[\\code{zn}] \n",
       "proportion of residential land zoned for lots over 25,000 sq.ft.\n",
       "\n",
       "\\item[\\code{indus}] \n",
       "proportion of non-retail business acres per town.\n",
       "\n",
       "\\item[\\code{chas}] \n",
       "Charles River dummy variable (= 1 if tract bounds river; 0 otherwise).\n",
       "\n",
       "\\item[\\code{nox}] \n",
       "nitrogen oxides concentration (parts per 10 million).\n",
       "\n",
       "\\item[\\code{rm}] \n",
       "average number of rooms per dwelling.\n",
       "\n",
       "\\item[\\code{age}] \n",
       "proportion of owner-occupied units built prior to 1940.\n",
       "\n",
       "\\item[\\code{dis}] \n",
       "weighted mean of distances to five Boston employment centres.\n",
       "\n",
       "\\item[\\code{rad}] \n",
       "index of accessibility to radial highways.\n",
       "\n",
       "\\item[\\code{tax}] \n",
       "full-value property-tax rate per \\bsl{}\\$10,000.\n",
       "\n",
       "\\item[\\code{ptratio}] \n",
       "pupil-teacher ratio by town.\n",
       "\n",
       "\\item[\\code{black}] \n",
       "\\eqn{1000(Bk - 0.63)^2}{} where \\eqn{Bk}{} is the proportion of blacks\n",
       "by town.\n",
       "\n",
       "\\item[\\code{lstat}] \n",
       "lower status of the population (percent).\n",
       "\n",
       "\\item[\\code{medv}] \n",
       "median value of owner-occupied homes in \\bsl{}\\$1000s.\n",
       "\n",
       "\n",
       "\\end{description}\n",
       "\n",
       "\\end{Format}\n",
       "%\n",
       "\\begin{Source}\\relax\n",
       "Harrison, D. and Rubinfeld, D.L. (1978)\n",
       "Hedonic prices and the demand for clean air.\n",
       "\\emph{J. Environ. Economics and Management}\n",
       "\\bold{5}, 81--102.\n",
       "\n",
       "Belsley D.A., Kuh, E.  and Welsch, R.E. (1980)\n",
       "\\emph{Regression Diagnostics. Identifying Influential Data and Sources\n",
       "of Collinearity.}\n",
       "New York: Wiley.\n",
       "\\end{Source}"
      ],
      "text/plain": [
       "Boston                  package:MASS                   R Documentation\n",
       "\n",
       "_\bH_\bo_\bu_\bs_\bi_\bn_\bg _\bV_\ba_\bl_\bu_\be_\bs _\bi_\bn _\bS_\bu_\bb_\bu_\br_\bb_\bs _\bo_\bf _\bB_\bo_\bs_\bt_\bo_\bn\n",
       "\n",
       "_\bD_\be_\bs_\bc_\br_\bi_\bp_\bt_\bi_\bo_\bn:\n",
       "\n",
       "     The 'Boston' data frame has 506 rows and 14 columns.\n",
       "\n",
       "_\bU_\bs_\ba_\bg_\be:\n",
       "\n",
       "     Boston\n",
       "     \n",
       "_\bF_\bo_\br_\bm_\ba_\bt:\n",
       "\n",
       "     This data frame contains the following columns:\n",
       "\n",
       "     'crim' per capita crime rate by town.\n",
       "\n",
       "     'zn' proportion of residential land zoned for lots over 25,000\n",
       "          sq.ft.\n",
       "\n",
       "     'indus' proportion of non-retail business acres per town.\n",
       "\n",
       "     'chas' Charles River dummy variable (= 1 if tract bounds river; 0\n",
       "          otherwise).\n",
       "\n",
       "     'nox' nitrogen oxides concentration (parts per 10 million).\n",
       "\n",
       "     'rm' average number of rooms per dwelling.\n",
       "\n",
       "     'age' proportion of owner-occupied units built prior to 1940.\n",
       "\n",
       "     'dis' weighted mean of distances to five Boston employment\n",
       "          centres.\n",
       "\n",
       "     'rad' index of accessibility to radial highways.\n",
       "\n",
       "     'tax' full-value property-tax rate per \\$10,000.\n",
       "\n",
       "     'ptratio' pupil-teacher ratio by town.\n",
       "\n",
       "     'black' 1000(Bk - 0.63)^2 where Bk is the proportion of blacks by\n",
       "          town.\n",
       "\n",
       "     'lstat' lower status of the population (percent).\n",
       "\n",
       "     'medv' median value of owner-occupied homes in \\$1000s.\n",
       "\n",
       "_\bS_\bo_\bu_\br_\bc_\be:\n",
       "\n",
       "     Harrison, D. and Rubinfeld, D.L. (1978) Hedonic prices and the\n",
       "     demand for clean air.  _J. Environ. Economics and Management_ *5*,\n",
       "     81-102.\n",
       "\n",
       "     Belsley D.A., Kuh, E.  and Welsch, R.E. (1980) _Regression\n",
       "     Diagnostics. Identifying Influential Data and Sources of\n",
       "     Collinearity._ New York: Wiley.\n"
      ]
     },
     "metadata": {},
     "output_type": "display_data"
    }
   ],
   "source": [
    "attach(Boston)\n",
    "?Boston"
   ]
  },
  {
   "cell_type": "markdown",
   "metadata": {},
   "source": [
    "First, let's create a feature indicating whether a crime rate for a suburb is above (1) or below (0) the median."
   ]
  },
  {
   "cell_type": "code",
   "execution_count": 135,
   "metadata": {},
   "outputs": [
    {
     "data": {
      "text/html": [
       "253"
      ],
      "text/latex": [
       "253"
      ],
      "text/markdown": [
       "253"
      ],
      "text/plain": [
       "[1] 253"
      ]
     },
     "metadata": {},
     "output_type": "display_data"
    },
    {
     "data": {
      "text/html": [
       "253"
      ],
      "text/latex": [
       "253"
      ],
      "text/markdown": [
       "253"
      ],
      "text/plain": [
       "[1] 253"
      ]
     },
     "metadata": {},
     "output_type": "display_data"
    },
    {
     "data": {
      "text/html": [
       "506"
      ],
      "text/latex": [
       "506"
      ],
      "text/markdown": [
       "506"
      ],
      "text/plain": [
       "[1] 506"
      ]
     },
     "metadata": {},
     "output_type": "display_data"
    }
   ],
   "source": [
    "# create crim class and check the dataframe\n",
    "Boston$crimclass <- ifelse(crim > median(Boston$crim), 1, 0)\n",
    "nrow(Boston[Boston$crimclass==0,])\n",
    "nrow(Boston[Boston$crimclass==1,])\n",
    "nrow(Boston)"
   ]
  },
  {
   "cell_type": "markdown",
   "metadata": {},
   "source": [
    "We can observe that we have a very balanced dataset, where half of the observations are above the median and the other half is below.\n",
    "\n",
    "Next, let's visualize the relationship of crimclass to other variables."
   ]
  },
  {
   "cell_type": "code",
   "execution_count": 136,
   "metadata": {},
   "outputs": [
    {
     "data": {
      "image/png": "[encoded data removed]",
      "text/plain": [
       "plot without title"
      ]
     },
     "metadata": {},
     "output_type": "display_data"
    },
    {
     "data": {
      "image/png": "[encoded data removed]",
      "text/plain": [
       "plot without title"
      ]
     },
     "metadata": {},
     "output_type": "display_data"
    }
   ],
   "source": [
    "par(mfrow=c(3,3))\n",
    "plot(crimclass~., data=Boston)"
   ]
  },
  {
   "cell_type": "code",
   "execution_count": 137,
   "metadata": {},
   "outputs": [
    {
     "data": {
      "image/png": "[encoded data removed]",
      "text/plain": [
       "Plot with title \"\""
      ]
     },
     "metadata": {},
     "output_type": "display_data"
    }
   ],
   "source": [
    "#install.packages(\"corrplot\")\n",
    "library(corrplot)\n",
    "corrplot(cor(Boston), method = 'number')"
   ]
  },
  {
   "cell_type": "markdown",
   "metadata": {},
   "source": [
    "From the above colored correlation plot, we can observe that the following variables have a correlation with crimclass which we will explore further\n",
    "\n",
    "* `indus` - proportion of non-retail business acres per town.\n",
    "* `nox` - nitrogen oxides concentration (parts per 10 million)\n",
    "* `age` - proportion of owner-occupied units built prior to 1940\n",
    "* `dis` - weighted mean of distances to five Boston employment centres.\n",
    "* `rad` - index of accessibility to radial highways.\n",
    "* `tax` - full-value property-tax rate per $10,000.\n",
    "\n",
    "We will explore the relationship of crimclass with these variables further by plotting boxplots."
   ]
  },
  {
   "cell_type": "code",
   "execution_count": 182,
   "metadata": {},
   "outputs": [
    {
     "data": {
      "image/png": "[encoded data removed]",
      "text/plain": [
       "Plot with title \"Crim class by dis\""
      ]
     },
     "metadata": {},
     "output_type": "display_data"
    },
    {
     "data": {
      "image/png": "[encoded data removed]",
      "text/plain": [
       "Plot with title \"Crim class by crimclass\""
      ]
     },
     "metadata": {},
     "output_type": "display_data"
    }
   ],
   "source": [
    "features = c('indus', 'nox', 'age', 'dis', 'rad', 'tax', 'crimclass')\n",
    "par(mfrow=c(2,2))\n",
    "for (feature in features) {\n",
    "    boxplot(Boston[,feature]~Boston[,'crimclass'], main=paste(\"Crim class by\", feature))\n",
    "}"
   ]
  },
  {
   "cell_type": "markdown",
   "metadata": {},
   "source": [
    "Next we will use the logistic regression model to also find out which predictors we chose."
   ]
  },
  {
   "cell_type": "code",
   "execution_count": 139,
   "metadata": {},
   "outputs": [],
   "source": [
    "features = c('indus', 'nox', 'age', 'dis', 'rad', 'tax', 'crimclass')\n",
    "# subset our data\n",
    "df <- Boston[,features]"
   ]
  }
 ],
 "metadata": {
  "kernelspec": {
   "display_name": "R",
   "language": "R",
   "name": "ir"
  },
  "language_info": {
   "codemirror_mode": "r",
   "file_extension": ".r",
   "mimetype": "text/x-r-source",
   "name": "R",
   "pygments_lexer": "r",
   "version": "3.5.2"
  }
 },
 "nbformat": 4,
 "nbformat_minor": 2
}
