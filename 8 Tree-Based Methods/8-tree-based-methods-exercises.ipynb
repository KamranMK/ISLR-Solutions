{
 "cells": [
  {
   "cell_type": "markdown",
   "metadata": {},
   "source": [
    "# 8.4 Exercises"
   ]
  },
  {
   "cell_type": "markdown",
   "metadata": {},
   "source": [
    "## Exercise 9\n",
    "\n",
    "This problem involves the `OJ` data set which is part of the `ISLR` package.\n",
    "\n",
    "Before, we start tackling exercise, let's explore our `OJ` dataset. "
   ]
  },
  {
   "cell_type": "code",
   "execution_count": 1,
   "metadata": {},
   "outputs": [
    {
     "data": {
      "text/html": [
       "<table>\n",
       "<thead><tr><th scope=col>Purchase</th><th scope=col>WeekofPurchase</th><th scope=col>StoreID</th><th scope=col>PriceCH</th><th scope=col>PriceMM</th><th scope=col>DiscCH</th><th scope=col>DiscMM</th><th scope=col>SpecialCH</th><th scope=col>SpecialMM</th><th scope=col>LoyalCH</th><th scope=col>SalePriceMM</th><th scope=col>SalePriceCH</th><th scope=col>PriceDiff</th><th scope=col>Store7</th><th scope=col>PctDiscMM</th><th scope=col>PctDiscCH</th><th scope=col>ListPriceDiff</th><th scope=col>STORE</th></tr></thead>\n",
       "<tbody>\n",
       "\t<tr><td>CH      </td><td>237     </td><td>1       </td><td>1.75    </td><td>1.99    </td><td>0.00    </td><td>0.0     </td><td>0       </td><td>0       </td><td>0.500000</td><td>1.99    </td><td>1.75    </td><td> 0.24   </td><td>No      </td><td>0.000000</td><td>0.000000</td><td>0.24    </td><td>1       </td></tr>\n",
       "\t<tr><td>CH      </td><td>239     </td><td>1       </td><td>1.75    </td><td>1.99    </td><td>0.00    </td><td>0.3     </td><td>0       </td><td>1       </td><td>0.600000</td><td>1.69    </td><td>1.75    </td><td>-0.06   </td><td>No      </td><td>0.150754</td><td>0.000000</td><td>0.24    </td><td>1       </td></tr>\n",
       "\t<tr><td>CH      </td><td>245     </td><td>1       </td><td>1.86    </td><td>2.09    </td><td>0.17    </td><td>0.0     </td><td>0       </td><td>0       </td><td>0.680000</td><td>2.09    </td><td>1.69    </td><td> 0.40   </td><td>No      </td><td>0.000000</td><td>0.091398</td><td>0.23    </td><td>1       </td></tr>\n",
       "\t<tr><td>MM      </td><td>227     </td><td>1       </td><td>1.69    </td><td>1.69    </td><td>0.00    </td><td>0.0     </td><td>0       </td><td>0       </td><td>0.400000</td><td>1.69    </td><td>1.69    </td><td> 0.00   </td><td>No      </td><td>0.000000</td><td>0.000000</td><td>0.00    </td><td>1       </td></tr>\n",
       "\t<tr><td>CH      </td><td>228     </td><td>7       </td><td>1.69    </td><td>1.69    </td><td>0.00    </td><td>0.0     </td><td>0       </td><td>0       </td><td>0.956535</td><td>1.69    </td><td>1.69    </td><td> 0.00   </td><td>Yes     </td><td>0.000000</td><td>0.000000</td><td>0.00    </td><td>0       </td></tr>\n",
       "\t<tr><td>CH      </td><td>230     </td><td>7       </td><td>1.69    </td><td>1.99    </td><td>0.00    </td><td>0.0     </td><td>0       </td><td>1       </td><td>0.965228</td><td>1.99    </td><td>1.69    </td><td> 0.30   </td><td>Yes     </td><td>0.000000</td><td>0.000000</td><td>0.30    </td><td>0       </td></tr>\n",
       "</tbody>\n",
       "</table>\n"
      ],
      "text/latex": [
       "\\begin{tabular}{r|llllllllllllllllll}\n",
       " Purchase & WeekofPurchase & StoreID & PriceCH & PriceMM & DiscCH & DiscMM & SpecialCH & SpecialMM & LoyalCH & SalePriceMM & SalePriceCH & PriceDiff & Store7 & PctDiscMM & PctDiscCH & ListPriceDiff & STORE\\\\\n",
       "\\hline\n",
       "\t CH       & 237      & 1        & 1.75     & 1.99     & 0.00     & 0.0      & 0        & 0        & 0.500000 & 1.99     & 1.75     &  0.24    & No       & 0.000000 & 0.000000 & 0.24     & 1       \\\\\n",
       "\t CH       & 239      & 1        & 1.75     & 1.99     & 0.00     & 0.3      & 0        & 1        & 0.600000 & 1.69     & 1.75     & -0.06    & No       & 0.150754 & 0.000000 & 0.24     & 1       \\\\\n",
       "\t CH       & 245      & 1        & 1.86     & 2.09     & 0.17     & 0.0      & 0        & 0        & 0.680000 & 2.09     & 1.69     &  0.40    & No       & 0.000000 & 0.091398 & 0.23     & 1       \\\\\n",
       "\t MM       & 227      & 1        & 1.69     & 1.69     & 0.00     & 0.0      & 0        & 0        & 0.400000 & 1.69     & 1.69     &  0.00    & No       & 0.000000 & 0.000000 & 0.00     & 1       \\\\\n",
       "\t CH       & 228      & 7        & 1.69     & 1.69     & 0.00     & 0.0      & 0        & 0        & 0.956535 & 1.69     & 1.69     &  0.00    & Yes      & 0.000000 & 0.000000 & 0.00     & 0       \\\\\n",
       "\t CH       & 230      & 7        & 1.69     & 1.99     & 0.00     & 0.0      & 0        & 1        & 0.965228 & 1.99     & 1.69     &  0.30    & Yes      & 0.000000 & 0.000000 & 0.30     & 0       \\\\\n",
       "\\end{tabular}\n"
      ],
      "text/markdown": [
       "\n",
       "| Purchase | WeekofPurchase | StoreID | PriceCH | PriceMM | DiscCH | DiscMM | SpecialCH | SpecialMM | LoyalCH | SalePriceMM | SalePriceCH | PriceDiff | Store7 | PctDiscMM | PctDiscCH | ListPriceDiff | STORE |\n",
       "|---|---|---|---|---|---|---|---|---|---|---|---|---|---|---|---|---|---|\n",
       "| CH       | 237      | 1        | 1.75     | 1.99     | 0.00     | 0.0      | 0        | 0        | 0.500000 | 1.99     | 1.75     |  0.24    | No       | 0.000000 | 0.000000 | 0.24     | 1        |\n",
       "| CH       | 239      | 1        | 1.75     | 1.99     | 0.00     | 0.3      | 0        | 1        | 0.600000 | 1.69     | 1.75     | -0.06    | No       | 0.150754 | 0.000000 | 0.24     | 1        |\n",
       "| CH       | 245      | 1        | 1.86     | 2.09     | 0.17     | 0.0      | 0        | 0        | 0.680000 | 2.09     | 1.69     |  0.40    | No       | 0.000000 | 0.091398 | 0.23     | 1        |\n",
       "| MM       | 227      | 1        | 1.69     | 1.69     | 0.00     | 0.0      | 0        | 0        | 0.400000 | 1.69     | 1.69     |  0.00    | No       | 0.000000 | 0.000000 | 0.00     | 1        |\n",
       "| CH       | 228      | 7        | 1.69     | 1.69     | 0.00     | 0.0      | 0        | 0        | 0.956535 | 1.69     | 1.69     |  0.00    | Yes      | 0.000000 | 0.000000 | 0.00     | 0        |\n",
       "| CH       | 230      | 7        | 1.69     | 1.99     | 0.00     | 0.0      | 0        | 1        | 0.965228 | 1.99     | 1.69     |  0.30    | Yes      | 0.000000 | 0.000000 | 0.30     | 0        |\n",
       "\n"
      ],
      "text/plain": [
       "  Purchase WeekofPurchase StoreID PriceCH PriceMM DiscCH DiscMM SpecialCH\n",
       "1 CH       237            1       1.75    1.99    0.00   0.0    0        \n",
       "2 CH       239            1       1.75    1.99    0.00   0.3    0        \n",
       "3 CH       245            1       1.86    2.09    0.17   0.0    0        \n",
       "4 MM       227            1       1.69    1.69    0.00   0.0    0        \n",
       "5 CH       228            7       1.69    1.69    0.00   0.0    0        \n",
       "6 CH       230            7       1.69    1.99    0.00   0.0    0        \n",
       "  SpecialMM LoyalCH  SalePriceMM SalePriceCH PriceDiff Store7 PctDiscMM\n",
       "1 0         0.500000 1.99        1.75         0.24     No     0.000000 \n",
       "2 1         0.600000 1.69        1.75        -0.06     No     0.150754 \n",
       "3 0         0.680000 2.09        1.69         0.40     No     0.000000 \n",
       "4 0         0.400000 1.69        1.69         0.00     No     0.000000 \n",
       "5 0         0.956535 1.69        1.69         0.00     Yes    0.000000 \n",
       "6 1         0.965228 1.99        1.69         0.30     Yes    0.000000 \n",
       "  PctDiscCH ListPriceDiff STORE\n",
       "1 0.000000  0.24          1    \n",
       "2 0.000000  0.24          1    \n",
       "3 0.091398  0.23          1    \n",
       "4 0.000000  0.00          1    \n",
       "5 0.000000  0.00          0    \n",
       "6 0.000000  0.30          0    "
      ]
     },
     "metadata": {},
     "output_type": "display_data"
    }
   ],
   "source": [
    "# load library & data\n",
    "library(ISLR)\n",
    "library(tree)\n",
    "set.seed(111)\n",
    "data(OJ)\n",
    "head(OJ)"
   ]
  },
  {
   "cell_type": "markdown",
   "metadata": {},
   "source": [
    "### Step (a)\n",
    "\n",
    "> Create a training set containing a random sample of 800 observations, and a test set containing the remaining observations."
   ]
  },
  {
   "cell_type": "markdown",
   "metadata": {},
   "source": [
    "First, we start by loading the `ISLR` package and then attach the `OJ` data. Next, we sample the dataset by creating the train index and filter the dataset to generate train and test observations."
   ]
  },
  {
   "cell_type": "code",
   "execution_count": 2,
   "metadata": {},
   "outputs": [],
   "source": [
    "# train and test split\n",
    "train_index = sample(seq_len(nrow(OJ)), size = 800)\n",
    "train = OJ[train_index,]\n",
    "test = OJ[-train_index,]"
   ]
  },
  {
   "cell_type": "markdown",
   "metadata": {},
   "source": [
    "### Step (b)\n",
    "\n",
    "> Fit a tree to the training data, with `Purchase` as the response and the other variables except for `Buy` as predictors. Use the `summary()` function to produce summary statistics about the tree, and describe the results obtained. What is the training error rate? How many terminal nodes does the tree have?"
   ]
  },
  {
   "cell_type": "code",
   "execution_count": 3,
   "metadata": {},
   "outputs": [
    {
     "data": {
      "text/plain": [
       "\n",
       "Classification tree:\n",
       "tree(formula = Purchase ~ ., data = train)\n",
       "Variables actually used in tree construction:\n",
       "[1] \"LoyalCH\"       \"SalePriceMM\"   \"ListPriceDiff\" \"PctDiscCH\"    \n",
       "Number of terminal nodes:  7 \n",
       "Residual mean deviance:  0.7592 = 602 / 793 \n",
       "Misclassification error rate: 0.16 = 128 / 800 "
      ]
     },
     "metadata": {},
     "output_type": "display_data"
    }
   ],
   "source": [
    "tree.oj = tree(Purchase~., data=train)\n",
    "summary(tree.oj)"
   ]
  },
  {
   "cell_type": "markdown",
   "metadata": {},
   "source": [
    "The tree has 7 leaf or terminal nodes and the Training Error Rate (Misclassification rate) is 0.16"
   ]
  },
  {
   "cell_type": "markdown",
   "metadata": {},
   "source": [
    "### Step (c)\n",
    "\n",
    "> Type in the name of the tree object in order to get a detailed text output. Pick one of the terminal nodes, and interpret the information displayed."
   ]
  },
  {
   "cell_type": "code",
   "execution_count": 4,
   "metadata": {},
   "outputs": [
    {
     "data": {
      "text/plain": [
       "node), split, n, deviance, yval, (yprob)\n",
       "      * denotes terminal node\n",
       "\n",
       " 1) root 800 1067.00 CH ( 0.61375 0.38625 )  \n",
       "   2) LoyalCH < 0.48285 293  312.60 MM ( 0.22526 0.77474 )  \n",
       "     4) LoyalCH < 0.276142 159  112.30 MM ( 0.11321 0.88679 ) *\n",
       "     5) LoyalCH > 0.276142 134  174.80 MM ( 0.35821 0.64179 )  \n",
       "      10) SalePriceMM < 2.04 72   73.69 MM ( 0.20833 0.79167 ) *\n",
       "      11) SalePriceMM > 2.04 62   85.69 CH ( 0.53226 0.46774 ) *\n",
       "   3) LoyalCH > 0.48285 507  448.70 CH ( 0.83826 0.16174 )  \n",
       "     6) LoyalCH < 0.764572 240  289.70 CH ( 0.70833 0.29167 )  \n",
       "      12) ListPriceDiff < 0.235 91  125.90 MM ( 0.47253 0.52747 )  \n",
       "        24) PctDiscCH < 0.052007 80  107.70 MM ( 0.40000 0.60000 ) *\n",
       "        25) PctDiscCH > 0.052007 11    0.00 CH ( 1.00000 0.00000 ) *\n",
       "      13) ListPriceDiff > 0.235 149  124.70 CH ( 0.85235 0.14765 ) *\n",
       "     7) LoyalCH > 0.764572 267   97.91 CH ( 0.95506 0.04494 ) *"
      ]
     },
     "metadata": {},
     "output_type": "display_data"
    }
   ],
   "source": [
    "tree.oj"
   ]
  },
  {
   "cell_type": "markdown",
   "metadata": {},
   "source": [
    "One of the terminal nodes for example is 11) SalePriceMM > 2.04 62   85.69 CH ( 0.53226 0.46774 ). In order to explain this we can traverse the tree to get to that specofo node and provide relevant explanation.\n",
    "\n",
    "The interpretation for that specific node is as following.\n",
    "\n",
    "Customers whose brand loyalty is between 0.27 and 0.48 with Sales price for minute maid orange juice above 2.04 are more likely to purchase Citrus Hill juice."
   ]
  },
  {
   "cell_type": "markdown",
   "metadata": {},
   "source": [
    "### Step (d)\n",
    "\n",
    "> Create a plot of the tree, and interpret the results."
   ]
  },
  {
   "cell_type": "code",
   "execution_count": 5,
   "metadata": {},
   "outputs": [
    {
     "data": {
      "image/png": "[encoded data removed]",
      "text/plain": [
       "plot without title"
      ]
     },
     "metadata": {},
     "output_type": "display_data"
    }
   ],
   "source": [
    "plot(tree.oj)\n",
    "text(tree.oj, pretty=0)"
   ]
  },
  {
   "cell_type": "markdown",
   "metadata": {},
   "source": [
    "### Step (e)\n",
    "\n",
    "> Predict the response on the test data, and produce a confusion matrix comparing the test labels to the predicted test labels. What is the test error rate?"
   ]
  },
  {
   "cell_type": "code",
   "execution_count": 6,
   "metadata": {},
   "outputs": [
    {
     "data": {
      "text/plain": [
       "         \n",
       "tree.pred  CH  MM\n",
       "       CH 131  20\n",
       "       MM  31  88"
      ]
     },
     "metadata": {},
     "output_type": "display_data"
    },
    {
     "data": {
      "text/html": [
       "'The Test Error Rate for our tree model is 19 %'"
      ],
      "text/latex": [
       "'The Test Error Rate for our tree model is 19 \\%'"
      ],
      "text/markdown": [
       "'The Test Error Rate for our tree model is 19 %'"
      ],
      "text/plain": [
       "[1] \"The Test Error Rate for our tree model is 19 %\""
      ]
     },
     "metadata": {},
     "output_type": "display_data"
    }
   ],
   "source": [
    "tree.pred = predict(tree.oj, test[,-1], type=\"class\")\n",
    "table(tree.pred, test[,1])\n",
    "paste(\"The Test Error Rate for our tree model is\", round((31+20)/nrow(test), 2) * 100, \"%\")"
   ]
  },
  {
   "cell_type": "markdown",
   "metadata": {},
   "source": [
    "### Step (f)\n",
    "\n",
    "> Apply the `cv.tree()` function to the training set in order to determine the optimal tree size"
   ]
  },
  {
   "cell_type": "code",
   "execution_count": 7,
   "metadata": {},
   "outputs": [
    {
     "name": "stdout",
     "output_type": "stream",
     "text": [
      "[1] \"size\"   \"dev\"    \"k\"      \"method\"\n"
     ]
    }
   ],
   "source": [
    "cv.treeoj = cv.tree(tree.oj, FUN=prune.misclass)\n",
    "print(names(cv.treeoj))"
   ]
  },
  {
   "cell_type": "markdown",
   "metadata": {},
   "source": [
    "### Step (g)\n",
    "\n",
    "> Produce a plot with tree size on the x-axis and cross-validated classification error rate on the y-axis."
   ]
  },
  {
   "cell_type": "code",
   "execution_count": 8,
   "metadata": {},
   "outputs": [
    {
     "data": {
      "image/png": "[encoded data removed]",
      "text/plain": [
       "plot without title"
      ]
     },
     "metadata": {},
     "output_type": "display_data"
    }
   ],
   "source": [
    "plot(cv.treeoj$size, cv.treeoj$dev, type=\"b\", xlab=\"# of Terminal Nodes\", ylab=\"CV Error Rate\")"
   ]
  },
  {
   "cell_type": "markdown",
   "metadata": {},
   "source": [
    "### Step (h)\n",
    "\n",
    "> Which tree size corresponds to the lowest cross-validated classification error rate?"
   ]
  },
  {
   "cell_type": "markdown",
   "metadata": {},
   "source": [
    "The optimal number of nodes where the minimum CV Error rate is the lowest is 7."
   ]
  },
  {
   "cell_type": "markdown",
   "metadata": {},
   "source": [
    "### Step (i)\n",
    "\n",
    "> Produce a pruned tree corresponding to the optimal tree size obtained using cross-validation. If cross-validation does not lead to selection of a pruned tree, then create a pruned tree with five terminal nodes."
   ]
  },
  {
   "cell_type": "code",
   "execution_count": 9,
   "metadata": {},
   "outputs": [
    {
     "data": {
      "image/png": "[encoded data removed]",
      "text/plain": [
       "plot without title"
      ]
     },
     "metadata": {},
     "output_type": "display_data"
    }
   ],
   "source": [
    "prune.treeoj = prune.misclass(tree.oj, best=5)\n",
    "plot(prune.treeoj)\n",
    "text(prune.treeoj,pretty=0)"
   ]
  },
  {
   "cell_type": "markdown",
   "metadata": {},
   "source": [
    "### Step (j)\n",
    "\n",
    "> Compare the training error rates between the pruned and unpruned trees. Which is higher?"
   ]
  },
  {
   "cell_type": "code",
   "execution_count": 10,
   "metadata": {},
   "outputs": [
    {
     "data": {
      "text/html": [
       "'The Train Error Rate for our tree model is 47 %'"
      ],
      "text/latex": [
       "'The Train Error Rate for our tree model is 47 \\%'"
      ],
      "text/markdown": [
       "'The Train Error Rate for our tree model is 47 %'"
      ],
      "text/plain": [
       "[1] \"The Train Error Rate for our tree model is 47 %\""
      ]
     },
     "metadata": {},
     "output_type": "display_data"
    },
    {
     "data": {
      "text/html": [
       "'The Train Error Rate for our pruned tree model is 49 %'"
      ],
      "text/latex": [
       "'The Train Error Rate for our pruned tree model is 49 \\%'"
      ],
      "text/markdown": [
       "'The Train Error Rate for our pruned tree model is 49 %'"
      ],
      "text/plain": [
       "[1] \"The Train Error Rate for our pruned tree model is 49 %\""
      ]
     },
     "metadata": {},
     "output_type": "display_data"
    }
   ],
   "source": [
    "# train error rate full tree\n",
    "tree.fulltrain = predict(tree.oj, train[,-1], type=\"class\")\n",
    "cmfull = table(tree.fulltrain, train[,1])\n",
    "paste(\"The Train Error Rate for our tree model is\", round(sum(cmfull[2], cmfull[3])/nrow(test), 2) * 100, \"%\")\n",
    "\n",
    "# train error rate pruned tree\n",
    "tree.prunetrain = predict(prune.treeoj, train[,-1], type=\"class\")\n",
    "cmprune = table(tree.prunetrain, train[,1])\n",
    "paste(\"The Train Error Rate for our pruned tree model is\", round(sum(cmprune[2], cmprune[3])/nrow(test), 2) * 100, \"%\")"
   ]
  },
  {
   "cell_type": "markdown",
   "metadata": {},
   "source": [
    "We can see that the pruned model has a higher train error rate but the difference between train error rate for full model vs pruned is not as much. The pruned model is less complex so it might generalize well. Next we will look at the test error rates."
   ]
  },
  {
   "cell_type": "markdown",
   "metadata": {},
   "source": [
    "### Step (k)\n",
    "\n",
    "> Compare the test error rates between the pruned and unpruned trees. Which is higher?"
   ]
  },
  {
   "cell_type": "code",
   "execution_count": 11,
   "metadata": {},
   "outputs": [
    {
     "data": {
      "text/html": [
       "'The Train Error Rate for our tree model is 19 %'"
      ],
      "text/latex": [
       "'The Train Error Rate for our tree model is 19 \\%'"
      ],
      "text/markdown": [
       "'The Train Error Rate for our tree model is 19 %'"
      ],
      "text/plain": [
       "[1] \"The Train Error Rate for our tree model is 19 %\""
      ]
     },
     "metadata": {},
     "output_type": "display_data"
    },
    {
     "data": {
      "text/html": [
       "'The Train Error Rate for our pruned tree model is 20 %'"
      ],
      "text/latex": [
       "'The Train Error Rate for our pruned tree model is 20 \\%'"
      ],
      "text/markdown": [
       "'The Train Error Rate for our pruned tree model is 20 %'"
      ],
      "text/plain": [
       "[1] \"The Train Error Rate for our pruned tree model is 20 %\""
      ]
     },
     "metadata": {},
     "output_type": "display_data"
    }
   ],
   "source": [
    "# train error rate full tree\n",
    "tree.fulltest = predict(tree.oj, test[,-1], type=\"class\")\n",
    "cmfull = table(tree.fulltest, test[,1])\n",
    "paste(\"The Train Error Rate for our tree model is\", round(sum(cmfull[2], cmfull[3])/nrow(test), 2) * 100, \"%\")\n",
    "\n",
    "# train error rate pruned tree\n",
    "tree.prunetest = predict(prune.treeoj, test[,-1], type=\"class\")\n",
    "cmprune = table(tree.prunetest, test[,1])\n",
    "paste(\"The Train Error Rate for our pruned tree model is\", round(sum(cmprune[2], cmprune[3])/nrow(test), 2) * 100, \"%\")"
   ]
  },
  {
   "cell_type": "markdown",
   "metadata": {},
   "source": [
    "As we can see the test error rate of our prune model vs full model is only slightly higher which means that the less complex pruned model perfomrs better."
   ]
  },
  {
   "cell_type": "markdown",
   "metadata": {},
   "source": [
    "## Exercise 10\n",
    "\n",
    "We now use boosting to predict `Salary` in the `Hitters` data set."
   ]
  },
  {
   "cell_type": "markdown",
   "metadata": {},
   "source": [
    "### Step (a)\n",
    "\n",
    "> Remove the observations for whom the salary information is unknown, and then log-transform the salaries."
   ]
  },
  {
   "cell_type": "code",
   "execution_count": 12,
   "metadata": {},
   "outputs": [],
   "source": [
    "data = Hitters[!is.na(Hitters$Salary),]\n",
    "data$Salary = log(data$Salary)"
   ]
  },
  {
   "cell_type": "markdown",
   "metadata": {},
   "source": [
    "### Step (b)\n",
    "\n",
    "> Create a training set consisting of the first 200 observations, and a test set consisting of the remaining observations."
   ]
  },
  {
   "cell_type": "code",
   "execution_count": 13,
   "metadata": {},
   "outputs": [],
   "source": [
    "train_index = sample(seq_len(nrow(data)), size = 200)\n",
    "train = data[train_index,]\n",
    "test = data[-train_index,]"
   ]
  },
  {
   "cell_type": "markdown",
   "metadata": {},
   "source": [
    "### Step (c)\n",
    "\n",
    "> Perform boosting on the training set with 1,000 trees for a range of values of the shrinkage parameter λ. Produce a plot with\n",
    "different shrinkage values on the x-axis and the corresponding training set MSE on the y-axis."
   ]
  },
  {
   "cell_type": "code",
   "execution_count": 14,
   "metadata": {},
   "outputs": [
    {
     "name": "stderr",
     "output_type": "stream",
     "text": [
      "Loaded gbm 2.1.5\n"
     ]
    },
    {
     "data": {
      "image/png": "[encoded data removed]",
      "text/plain": [
       "plot without title"
      ]
     },
     "metadata": {},
     "output_type": "display_data"
    }
   ],
   "source": [
    "library(gbm)\n",
    "set.seed(103)\n",
    "pows = seq(-10, -0.2, by = 0.1)\n",
    "lambdas = 10^pows\n",
    "length.lambdas = length(lambdas)\n",
    "train.errors = rep(NA, length.lambdas)\n",
    "test.errors = rep(NA, length.lambdas)\n",
    "for (i in 1:length.lambdas) {\n",
    "    boost.hitters = gbm(Salary ~ ., data = train, distribution = \"gaussian\", \n",
    "        n.trees = 1000, shrinkage = lambdas[i])\n",
    "    train.pred = predict(boost.hitters, train, n.trees = 1000)\n",
    "    test.pred = predict(boost.hitters, test, n.trees = 1000)\n",
    "    train.errors[i] = mean((train$Salary - train.pred)^2)\n",
    "    test.errors[i] = mean((test$Salary - test.pred)^2)\n",
    "}\n",
    "\n",
    "plot(lambdas, train.errors, type = \"b\", xlab = \"Shrinkage\", ylab = \"Train MSE\", col = \"red\", pch = 20)"
   ]
  },
  {
   "cell_type": "markdown",
   "metadata": {},
   "source": [
    "### Step (d)\n",
    "\n",
    "> Produce a plot with different shrinkage values on the x-axis and the corresponding test set MSE on the y-axis."
   ]
  },
  {
   "cell_type": "code",
   "execution_count": 15,
   "metadata": {},
   "outputs": [
    {
     "data": {
      "image/png": "[encoded data removed]",
      "text/plain": [
       "plot without title"
      ]
     },
     "metadata": {},
     "output_type": "display_data"
    }
   ],
   "source": [
    "plot(lambdas, test.errors, type = \"b\", xlab = \"Shrinkage\", ylab = \"Train MSE\", col = \"blue\", pch = 20)"
   ]
  },
  {
   "cell_type": "code",
   "execution_count": 16,
   "metadata": {},
   "outputs": [
    {
     "data": {
      "text/html": [
       "'Minimum test error rate 0.37'"
      ],
      "text/latex": [
       "'Minimum test error rate 0.37'"
      ],
      "text/markdown": [
       "'Minimum test error rate 0.37'"
      ],
      "text/plain": [
       "[1] \"Minimum test error rate 0.37\""
      ]
     },
     "metadata": {},
     "output_type": "display_data"
    },
    {
     "data": {
      "text/html": [
       "'Lambda at min test error rate 0.02'"
      ],
      "text/latex": [
       "'Lambda at min test error rate 0.02'"
      ],
      "text/markdown": [
       "'Lambda at min test error rate 0.02'"
      ],
      "text/plain": [
       "[1] \"Lambda at min test error rate 0.02\""
      ]
     },
     "metadata": {},
     "output_type": "display_data"
    }
   ],
   "source": [
    "paste(\"Minimum test error rate\", round(min(test.errors), 2))\n",
    "paste(\"Lambda at min test error rate\", round(lambdas[which.min(test.errors)], 2))"
   ]
  },
  {
   "cell_type": "markdown",
   "metadata": {},
   "source": [
    "### Step (e)\n",
    "\n",
    "> Compare the test MSE of boosting to the test MSE that results from applying two of the regression approaches seen in Chapters 3 and 6."
   ]
  },
  {
   "cell_type": "code",
   "execution_count": 17,
   "metadata": {},
   "outputs": [
    {
     "data": {
      "text/html": [
       "'Linear model test error rate 0.53'"
      ],
      "text/latex": [
       "'Linear model test error rate 0.53'"
      ],
      "text/markdown": [
       "'Linear model test error rate 0.53'"
      ],
      "text/plain": [
       "[1] \"Linear model test error rate 0.53\""
      ]
     },
     "metadata": {},
     "output_type": "display_data"
    }
   ],
   "source": [
    "# linear model\n",
    "lm.fit = lm(Salary~., data = train)\n",
    "lm.pred = predict(lm.fit, test)\n",
    "lm.ter = mean((test$Salary - lm.pred)^2)\n",
    "paste(\"Linear model test error rate\", round(lm.ter, 2))"
   ]
  },
  {
   "cell_type": "code",
   "execution_count": 18,
   "metadata": {},
   "outputs": [
    {
     "name": "stderr",
     "output_type": "stream",
     "text": [
      "Loading required package: Matrix\n",
      "Loading required package: foreach\n",
      "Loaded glmnet 2.0-16\n",
      "\n"
     ]
    },
    {
     "data": {
      "text/html": [
       "'Lasso model test error rate 0.57'"
      ],
      "text/latex": [
       "'Lasso model test error rate 0.57'"
      ],
      "text/markdown": [
       "'Lasso model test error rate 0.57'"
      ],
      "text/plain": [
       "[1] \"Lasso model test error rate 0.57\""
      ]
     },
     "metadata": {},
     "output_type": "display_data"
    }
   ],
   "source": [
    "library(glmnet)\n",
    "set.seed(10)\n",
    "x.train = model.matrix(Salary~., data = train)\n",
    "y.train = train$Salary\n",
    "x.test = model.matrix(Salary~., data=test)\n",
    "\n",
    "lasso.fit = glmnet(x.train, y.train, alpha=1)\n",
    "lasso.pred = predict(lasso.fit, s=0.01, newx = x.test)\n",
    "lasso.ter = mean((test$Salary - lasso.pred)^2)\n",
    "paste(\"Lasso model test error rate\", round(lasso.ter, 2))"
   ]
  },
  {
   "cell_type": "markdown",
   "metadata": {},
   "source": [
    "Both Linear Model and Lasso have higher Test MSE than Boosting."
   ]
  },
  {
   "cell_type": "markdown",
   "metadata": {},
   "source": [
    "### Step (f)\n",
    "\n",
    "> Which variables appear to be the most important predictors in the boosted model?"
   ]
  },
  {
   "cell_type": "code",
   "execution_count": 19,
   "metadata": {},
   "outputs": [
    {
     "data": {
      "text/html": [
       "<table>\n",
       "<thead><tr><th></th><th scope=col>var</th><th scope=col>rel.inf</th></tr></thead>\n",
       "<tbody>\n",
       "\t<tr><th scope=row>CAtBat</th><td>CAtBat     </td><td>23.45035669</td></tr>\n",
       "\t<tr><th scope=row>CRBI</th><td>CRBI       </td><td>13.58709561</td></tr>\n",
       "\t<tr><th scope=row>CRuns</th><td>CRuns      </td><td>13.02268690</td></tr>\n",
       "\t<tr><th scope=row>Years</th><td>Years      </td><td>10.10106171</td></tr>\n",
       "\t<tr><th scope=row>CWalks</th><td>CWalks     </td><td> 9.14660664</td></tr>\n",
       "\t<tr><th scope=row>RBI</th><td>RBI        </td><td> 4.27905943</td></tr>\n",
       "\t<tr><th scope=row>CHits</th><td>CHits      </td><td> 4.23813372</td></tr>\n",
       "\t<tr><th scope=row>CHmRun</th><td>CHmRun     </td><td> 3.59821916</td></tr>\n",
       "\t<tr><th scope=row>AtBat</th><td>AtBat      </td><td> 3.53265038</td></tr>\n",
       "\t<tr><th scope=row>Hits</th><td>Hits       </td><td> 3.50473275</td></tr>\n",
       "\t<tr><th scope=row>Walks</th><td>Walks      </td><td> 2.92489790</td></tr>\n",
       "\t<tr><th scope=row>PutOuts</th><td>PutOuts    </td><td> 2.82229587</td></tr>\n",
       "\t<tr><th scope=row>HmRun</th><td>HmRun      </td><td> 1.79775882</td></tr>\n",
       "\t<tr><th scope=row>Errors</th><td>Errors     </td><td> 1.37994559</td></tr>\n",
       "\t<tr><th scope=row>Assists</th><td>Assists    </td><td> 1.05366604</td></tr>\n",
       "\t<tr><th scope=row>Runs</th><td>Runs       </td><td> 0.77143263</td></tr>\n",
       "\t<tr><th scope=row>Division</th><td>Division   </td><td> 0.56546709</td></tr>\n",
       "\t<tr><th scope=row>League</th><td>League     </td><td> 0.15265028</td></tr>\n",
       "\t<tr><th scope=row>NewLeague</th><td>NewLeague  </td><td> 0.07128277</td></tr>\n",
       "</tbody>\n",
       "</table>\n"
      ],
      "text/latex": [
       "\\begin{tabular}{r|ll}\n",
       "  & var & rel.inf\\\\\n",
       "\\hline\n",
       "\tCAtBat & CAtBat      & 23.45035669\\\\\n",
       "\tCRBI & CRBI        & 13.58709561\\\\\n",
       "\tCRuns & CRuns       & 13.02268690\\\\\n",
       "\tYears & Years       & 10.10106171\\\\\n",
       "\tCWalks & CWalks      &  9.14660664\\\\\n",
       "\tRBI & RBI         &  4.27905943\\\\\n",
       "\tCHits & CHits       &  4.23813372\\\\\n",
       "\tCHmRun & CHmRun      &  3.59821916\\\\\n",
       "\tAtBat & AtBat       &  3.53265038\\\\\n",
       "\tHits & Hits        &  3.50473275\\\\\n",
       "\tWalks & Walks       &  2.92489790\\\\\n",
       "\tPutOuts & PutOuts     &  2.82229587\\\\\n",
       "\tHmRun & HmRun       &  1.79775882\\\\\n",
       "\tErrors & Errors      &  1.37994559\\\\\n",
       "\tAssists & Assists     &  1.05366604\\\\\n",
       "\tRuns & Runs        &  0.77143263\\\\\n",
       "\tDivision & Division    &  0.56546709\\\\\n",
       "\tLeague & League      &  0.15265028\\\\\n",
       "\tNewLeague & NewLeague   &  0.07128277\\\\\n",
       "\\end{tabular}\n"
      ],
      "text/markdown": [
       "\n",
       "| <!--/--> | var | rel.inf |\n",
       "|---|---|---|\n",
       "| CAtBat | CAtBat      | 23.45035669 |\n",
       "| CRBI | CRBI        | 13.58709561 |\n",
       "| CRuns | CRuns       | 13.02268690 |\n",
       "| Years | Years       | 10.10106171 |\n",
       "| CWalks | CWalks      |  9.14660664 |\n",
       "| RBI | RBI         |  4.27905943 |\n",
       "| CHits | CHits       |  4.23813372 |\n",
       "| CHmRun | CHmRun      |  3.59821916 |\n",
       "| AtBat | AtBat       |  3.53265038 |\n",
       "| Hits | Hits        |  3.50473275 |\n",
       "| Walks | Walks       |  2.92489790 |\n",
       "| PutOuts | PutOuts     |  2.82229587 |\n",
       "| HmRun | HmRun       |  1.79775882 |\n",
       "| Errors | Errors      |  1.37994559 |\n",
       "| Assists | Assists     |  1.05366604 |\n",
       "| Runs | Runs        |  0.77143263 |\n",
       "| Division | Division    |  0.56546709 |\n",
       "| League | League      |  0.15265028 |\n",
       "| NewLeague | NewLeague   |  0.07128277 |\n",
       "\n"
      ],
      "text/plain": [
       "          var       rel.inf    \n",
       "CAtBat    CAtBat    23.45035669\n",
       "CRBI      CRBI      13.58709561\n",
       "CRuns     CRuns     13.02268690\n",
       "Years     Years     10.10106171\n",
       "CWalks    CWalks     9.14660664\n",
       "RBI       RBI        4.27905943\n",
       "CHits     CHits      4.23813372\n",
       "CHmRun    CHmRun     3.59821916\n",
       "AtBat     AtBat      3.53265038\n",
       "Hits      Hits       3.50473275\n",
       "Walks     Walks      2.92489790\n",
       "PutOuts   PutOuts    2.82229587\n",
       "HmRun     HmRun      1.79775882\n",
       "Errors    Errors     1.37994559\n",
       "Assists   Assists    1.05366604\n",
       "Runs      Runs       0.77143263\n",
       "Division  Division   0.56546709\n",
       "League    League     0.15265028\n",
       "NewLeague NewLeague  0.07128277"
      ]
     },
     "metadata": {},
     "output_type": "display_data"
    },
    {
     "data": {
      "image/png": "[encoded data removed]",
      "text/plain": [
       "plot without title"
      ]
     },
     "metadata": {},
     "output_type": "display_data"
    }
   ],
   "source": [
    "model.bestboost = gbm(Salary~., data=train, distribution=\"gaussian\", n.trees=1000, shrinkage=lambdas[which.min(test.errors)])\n",
    "summary(model.bestboost)"
   ]
  },
  {
   "cell_type": "markdown",
   "metadata": {},
   "source": [
    "The most important variables seem to be `CAtBat`, `CRBI` and `CRuns`"
   ]
  },
  {
   "cell_type": "markdown",
   "metadata": {},
   "source": [
    "### Step (g)\n",
    "\n",
    "> Now apply bagging to the training set. What is the test set MSE for this approach?"
   ]
  },
  {
   "cell_type": "code",
   "execution_count": 20,
   "metadata": {},
   "outputs": [
    {
     "name": "stderr",
     "output_type": "stream",
     "text": [
      "randomForest 4.6-14\n",
      "Type rfNews() to see new features/changes/bug fixes.\n"
     ]
    },
    {
     "data": {
      "text/html": [
       "'Random Forest (bagged) model test error rate 0.41'"
      ],
      "text/latex": [
       "'Random Forest (bagged) model test error rate 0.41'"
      ],
      "text/markdown": [
       "'Random Forest (bagged) model test error rate 0.41'"
      ],
      "text/plain": [
       "[1] \"Random Forest (bagged) model test error rate 0.41\""
      ]
     },
     "metadata": {},
     "output_type": "display_data"
    }
   ],
   "source": [
    "library(randomForest)\n",
    "rf.model = randomForest(Salary~., data=train, ntree=200, mtry=19)\n",
    "rf.pred = predict(rf.model, test)\n",
    "rf.ter = mean((test$Salary - rf.pred)^2)\n",
    "paste(\"Random Forest (bagged) model test error rate\", round(rf.ter, 2))"
   ]
  },
  {
   "cell_type": "markdown",
   "metadata": {},
   "source": [
    "## Exercise 11\n",
    "\n",
    "This question uses the `Caravan` data set."
   ]
  },
  {
   "cell_type": "code",
   "execution_count": 2,
   "metadata": {},
   "outputs": [
    {
     "data": {
      "text/html": [
       "\n",
       "<table width=\"100%\" summary=\"page for Caravan {ISLR}\"><tr><td>Caravan {ISLR}</td><td style=\"text-align: right;\">R Documentation</td></tr></table>\n",
       "\n",
       "<h2>The Insurance Company (TIC) Benchmark\n",
       "\n",
       "</h2>\n",
       "\n",
       "<h3>Description</h3>\n",
       "\n",
       "<p>The data contains 5822 real customer records. Each record\n",
       "consists of 86 variables, containing sociodemographic data (variables\n",
       "1-43) and product ownership (variables 44-86). The sociodemographic\n",
       "data is derived from zip codes. All customers living in areas with the\n",
       "same zip code have the same sociodemographic attributes. Variable 86\n",
       "(<code>Purchase</code>) indicates whether the customer purchased a caravan\n",
       "insurance policy. Further information on the individual variables can\n",
       "be obtained at  http://www.liacs.nl/~putten/library/cc2000/data.html\n",
       "\n",
       "</p>\n",
       "\n",
       "\n",
       "<h3>Usage</h3>\n",
       "\n",
       "<pre>Caravan</pre>\n",
       "\n",
       "\n",
       "<h3>Format</h3>\n",
       "\n",
       "<p>A data frame with 5822 observations on 86 variables.\n",
       "</p>\n",
       "\n",
       "\n",
       "<h3>Source</h3>\n",
       "\n",
       "<p>The data was originally supplied by Sentient Machine Research\n",
       "and was used in the CoIL Challenge 2000.\n",
       "</p>\n",
       "\n",
       "\n",
       "<h3>References</h3>\n",
       "\n",
       "<p>P. van der Putten and M. van Someren (eds) . CoIL Challenge\n",
       "2000: The Insurance Company Case.  Published by Sentient Machine\n",
       "Research, Amsterdam. Also a Leiden Institute of Advanced Computer\n",
       "Science Technical Report 2000-09. June 22, 2000. See\n",
       "http://www.liacs.nl/~putten/library/cc2000/<br />\n",
       "P. van der Putten and M. van Someren. A Bias-Variance Analysis of a Real World Learning Problem: The CoIL Challenge 2000. Machine Learning, October 2004, vol. 57, iss. 1-2, pp. 177-195, Kluwer Academic Publishers<br />\n",
       "James, G., Witten, D., Hastie, T., and Tibshirani, R. (2013)\n",
       "<em>An Introduction to Statistical Learning with applications in R</em>,\n",
       "<a href=\"www.StatLearning.com\">www.StatLearning.com</a>,\n",
       "Springer-Verlag, New York\n",
       "</p>\n",
       "\n",
       "\n",
       "<h3>Examples</h3>\n",
       "\n",
       "<pre>\n",
       "summary(Caravan)\n",
       "plot(Caravan$Purchase)\n",
       "</pre>\n",
       "\n",
       "<hr /><div style=\"text-align: center;\">[Package <em>ISLR</em> version 1.2 ]</div>"
      ],
      "text/latex": [
       "\\inputencoding{utf8}\n",
       "\\HeaderA{Caravan}{The Insurance Company (TIC) Benchmark}{Caravan}\n",
       "\\keyword{datasets}{Caravan}\n",
       "%\n",
       "\\begin{Description}\\relax\n",
       "The data contains 5822 real customer records. Each record\n",
       "consists of 86 variables, containing sociodemographic data (variables\n",
       "1-43) and product ownership (variables 44-86). The sociodemographic\n",
       "data is derived from zip codes. All customers living in areas with the\n",
       "same zip code have the same sociodemographic attributes. Variable 86\n",
       "(\\code{Purchase}) indicates whether the customer purchased a caravan\n",
       "insurance policy. Further information on the individual variables can\n",
       "be obtained at  http://www.liacs.nl/\\textasciitilde{}putten/library/cc2000/data.html\n",
       "\n",
       "\\end{Description}\n",
       "%\n",
       "\\begin{Usage}\n",
       "\\begin{verbatim}\n",
       "Caravan\n",
       "\\end{verbatim}\n",
       "\\end{Usage}\n",
       "%\n",
       "\\begin{Format}\n",
       "A data frame with 5822 observations on 86 variables.\n",
       "\n",
       "\\end{Format}\n",
       "%\n",
       "\\begin{Source}\\relax\n",
       "The data was originally supplied by Sentient Machine Research\n",
       "and was used in the CoIL Challenge 2000.\n",
       "\\end{Source}\n",
       "%\n",
       "\\begin{References}\\relax\n",
       "P. van der Putten and M. van Someren (eds) . CoIL Challenge\n",
       "2000: The Insurance Company Case.  Published by Sentient Machine\n",
       "Research, Amsterdam. Also a Leiden Institute of Advanced Computer\n",
       "Science Technical Report 2000-09. June 22, 2000. See\n",
       "http://www.liacs.nl/\\textasciitilde{}putten/library/cc2000/\\\\{}\n",
       "P. van der Putten and M. van Someren. A Bias-Variance Analysis of a Real World Learning Problem: The CoIL Challenge 2000. Machine Learning, October 2004, vol. 57, iss. 1-2, pp. 177-195, Kluwer Academic Publishers\\\\{}\n",
       "James, G., Witten, D., Hastie, T., and Tibshirani, R. (2013)\n",
       "\\emph{An Introduction to Statistical Learning with applications in R},\n",
       "\\url{www.StatLearning.com},\n",
       "Springer-Verlag, New York\n",
       "\\end{References}\n",
       "%\n",
       "\\begin{Examples}\n",
       "\\begin{ExampleCode}\n",
       "summary(Caravan)\n",
       "plot(Caravan$Purchase)\n",
       "\\end{ExampleCode}\n",
       "\\end{Examples}"
      ],
      "text/plain": [
       "Caravan                  package:ISLR                  R Documentation\n",
       "\n",
       "_\bT_\bh_\be _\bI_\bn_\bs_\bu_\br_\ba_\bn_\bc_\be _\bC_\bo_\bm_\bp_\ba_\bn_\by (_\bT_\bI_\bC) _\bB_\be_\bn_\bc_\bh_\bm_\ba_\br_\bk\n",
       "\n",
       "_\bD_\be_\bs_\bc_\br_\bi_\bp_\bt_\bi_\bo_\bn:\n",
       "\n",
       "     The data contains 5822 real customer records. Each record consists\n",
       "     of 86 variables, containing sociodemographic data (variables 1-43)\n",
       "     and product ownership (variables 44-86). The sociodemographic data\n",
       "     is derived from zip codes. All customers living in areas with the\n",
       "     same zip code have the same sociodemographic attributes. Variable\n",
       "     86 ('Purchase') indicates whether the customer purchased a caravan\n",
       "     insurance policy. Further information on the individual variables\n",
       "     can be obtained at\n",
       "     http://www.liacs.nl/~putten/library/cc2000/data.html\n",
       "\n",
       "_\bU_\bs_\ba_\bg_\be:\n",
       "\n",
       "     Caravan\n",
       "     \n",
       "_\bF_\bo_\br_\bm_\ba_\bt:\n",
       "\n",
       "     A data frame with 5822 observations on 86 variables.\n",
       "\n",
       "_\bS_\bo_\bu_\br_\bc_\be:\n",
       "\n",
       "     The data was originally supplied by Sentient Machine Research and\n",
       "     was used in the CoIL Challenge 2000.\n",
       "\n",
       "_\bR_\be_\bf_\be_\br_\be_\bn_\bc_\be_\bs:\n",
       "\n",
       "     P. van der Putten and M. van Someren (eds) . CoIL Challenge 2000:\n",
       "     The Insurance Company Case.  Published by Sentient Machine\n",
       "     Research, Amsterdam. Also a Leiden Institute of Advanced Computer\n",
       "     Science Technical Report 2000-09. June 22, 2000. See\n",
       "     http://www.liacs.nl/~putten/library/cc2000/\n",
       "     P. van der Putten and M. van Someren. A Bias-Variance Analysis of\n",
       "     a Real World Learning Problem: The CoIL Challenge 2000. Machine\n",
       "     Learning, October 2004, vol. 57, iss. 1-2, pp. 177-195, Kluwer\n",
       "     Academic Publishers\n",
       "     James, G., Witten, D., Hastie, T., and Tibshirani, R. (2013) _An\n",
       "     Introduction to Statistical Learning with applications in R_,\n",
       "     <URL: www.StatLearning.com>, Springer-Verlag, New York\n",
       "\n",
       "_\bE_\bx_\ba_\bm_\bp_\bl_\be_\bs:\n",
       "\n",
       "     summary(Caravan)\n",
       "     plot(Caravan$Purchase)\n",
       "     "
      ]
     },
     "metadata": {},
     "output_type": "display_data"
    }
   ],
   "source": [
    "?Caravan"
   ]
  },
  {
   "cell_type": "markdown",
   "metadata": {},
   "source": [
    "### Step (a)\n",
    "\n",
    "> Create a training set consisting of the first 1,000 observations, and a test set consisting of the remaining observations."
   ]
  },
  {
   "cell_type": "code",
   "execution_count": 3,
   "metadata": {},
   "outputs": [
    {
     "name": "stderr",
     "output_type": "stream",
     "text": [
      "Loaded gbm 2.1.5\n"
     ]
    }
   ],
   "source": [
    "library(gbm)\n",
    "\n",
    "# convert the target to binary\n",
    "Caravan$Purchase = ifelse(Caravan$Purchase == \"Yes\", 1, 0)\n",
    "\n",
    "# create train and test\n",
    "train_index = 0:1000\n",
    "train = Caravan[train_index,]\n",
    "test = Caravan[-train_index,]"
   ]
  },
  {
   "cell_type": "code",
   "execution_count": 4,
   "metadata": {},
   "outputs": [
    {
     "name": "stdout",
     "output_type": "stream",
     "text": [
      "[1] 5822   86\n",
      "[1] 1000   86\n",
      "[1] 4822   86\n"
     ]
    }
   ],
   "source": [
    "# check dimensions\n",
    "print(dim(Caravan))\n",
    "print(dim(train))\n",
    "print(dim(test))"
   ]
  },
  {
   "cell_type": "markdown",
   "metadata": {},
   "source": [
    "### Step (b)\n",
    "\n",
    "> Fit a boosting model to the training set with `Purchase` as the response and the other variables as predictors. Use 1,000 trees,\n",
    "and a shrinkage value of 0.01. Which predictors appear to be the most important?"
   ]
  },
  {
   "cell_type": "code",
   "execution_count": 24,
   "metadata": {},
   "outputs": [
    {
     "name": "stderr",
     "output_type": "stream",
     "text": [
      "Warning message in gbm.fit(x = x, y = y, offset = offset, distribution = distribution, :\n",
      "\"variable 50: PVRAAUT has no variation.\"Warning message in gbm.fit(x = x, y = y, offset = offset, distribution = distribution, :\n",
      "\"variable 71: AVRAAUT has no variation.\""
     ]
    }
   ],
   "source": [
    "set.seed(11)\n",
    "# create boosted model\n",
    "caravan.boost = gbm(Purchase~., data=train, distribution=\"bernoulli\", n.trees=1000, shrinkage = 0.01)"
   ]
  },
  {
   "cell_type": "markdown",
   "metadata": {},
   "source": [
    "The generated error messages tell us that variables PVRAAUT, AVRAAUT don't have any variation. Let's investigate them."
   ]
  },
  {
   "cell_type": "code",
   "execution_count": 25,
   "metadata": {},
   "outputs": [
    {
     "data": {
      "text/plain": [
       "\n",
       "   0    4    6    9 \n",
       "5813    1    7    1 "
      ]
     },
     "metadata": {},
     "output_type": "display_data"
    },
    {
     "data": {
      "image/png": "[encoded data removed]",
      "text/plain": [
       "Plot with title \"Histogram of Caravan$PVRAAUT\""
      ]
     },
     "metadata": {},
     "output_type": "display_data"
    },
    {
     "data": {
      "text/plain": [
       "\n",
       "   0    1    2    3 \n",
       "5813    6    2    1 "
      ]
     },
     "metadata": {},
     "output_type": "display_data"
    },
    {
     "data": {
      "image/png": "[encoded data removed]",
      "text/plain": [
       "Plot with title \"Histogram of Caravan$AVRAAUT\""
      ]
     },
     "metadata": {},
     "output_type": "display_data"
    }
   ],
   "source": [
    "hist(Caravan$PVRAAUT)\n",
    "table(Caravan$PVRAAUT)\n",
    "hist(Caravan$AVRAAUT)\n",
    "table(Caravan$AVRAAUT)"
   ]
  },
  {
   "cell_type": "markdown",
   "metadata": {},
   "source": [
    "We can observe that despite the majority of values being 0, there are other values present. We won't remove these two features from the model.\n",
    "\n",
    "Next, let's check which predictors are the most important."
   ]
  },
  {
   "cell_type": "code",
   "execution_count": 26,
   "metadata": {},
   "outputs": [
    {
     "data": {
      "text/html": [
       "<table>\n",
       "<thead><tr><th></th><th scope=col>var</th><th scope=col>rel.inf</th></tr></thead>\n",
       "<tbody>\n",
       "\t<tr><th scope=row>PPERSAUT</th><td>PPERSAUT  </td><td>14.5828317</td></tr>\n",
       "\t<tr><th scope=row>MKOOPKLA</th><td>MKOOPKLA  </td><td> 9.8770592</td></tr>\n",
       "\t<tr><th scope=row>MOPLHOOG</th><td>MOPLHOOG  </td><td> 7.4183828</td></tr>\n",
       "\t<tr><th scope=row>MBERMIDD</th><td>MBERMIDD  </td><td> 6.3755271</td></tr>\n",
       "\t<tr><th scope=row>PBRAND</th><td>PBRAND    </td><td> 4.9602772</td></tr>\n",
       "\t<tr><th scope=row>MINK3045</th><td>MINK3045  </td><td> 4.8791011</td></tr>\n",
       "\t<tr><th scope=row>MGODGE</th><td>MGODGE    </td><td> 4.4770476</td></tr>\n",
       "\t<tr><th scope=row>ABRAND</th><td>ABRAND    </td><td> 4.4327638</td></tr>\n",
       "\t<tr><th scope=row>MOSTYPE</th><td>MOSTYPE   </td><td> 2.8147814</td></tr>\n",
       "\t<tr><th scope=row>MSKA</th><td>MSKA      </td><td> 2.6981273</td></tr>\n",
       "\t<tr><th scope=row>MSKC</th><td>MSKC      </td><td> 2.4511142</td></tr>\n",
       "\t<tr><th scope=row>MAUT2</th><td>MAUT2     </td><td> 2.4088911</td></tr>\n",
       "\t<tr><th scope=row>MBERARBG</th><td>MBERARBG  </td><td> 2.0867323</td></tr>\n",
       "\t<tr><th scope=row>PWAPART</th><td>PWAPART   </td><td> 1.9348492</td></tr>\n",
       "\t<tr><th scope=row>PBYSTAND</th><td>PBYSTAND  </td><td> 1.8769458</td></tr>\n",
       "\t<tr><th scope=row>MAUT1</th><td>MAUT1     </td><td> 1.7886616</td></tr>\n",
       "\t<tr><th scope=row>MGODPR</th><td>MGODPR    </td><td> 1.7766628</td></tr>\n",
       "\t<tr><th scope=row>MINKGEM</th><td>MINKGEM   </td><td> 1.5605146</td></tr>\n",
       "\t<tr><th scope=row>MSKB1</th><td>MSKB1     </td><td> 1.4217432</td></tr>\n",
       "\t<tr><th scope=row>MRELGE</th><td>MRELGE    </td><td> 1.3871847</td></tr>\n",
       "\t<tr><th scope=row>MFWEKIND</th><td>MFWEKIND  </td><td> 1.3623284</td></tr>\n",
       "\t<tr><th scope=row>MINKM30</th><td>MINKM30   </td><td> 1.1966095</td></tr>\n",
       "\t<tr><th scope=row>MGODOV</th><td>MGODOV    </td><td> 1.1589462</td></tr>\n",
       "\t<tr><th scope=row>MINK7512</th><td>MINK7512  </td><td> 1.1126305</td></tr>\n",
       "\t<tr><th scope=row>MBERHOOG</th><td>MBERHOOG  </td><td> 1.0533186</td></tr>\n",
       "\t<tr><th scope=row>MRELOV</th><td>MRELOV    </td><td> 1.0514532</td></tr>\n",
       "\t<tr><th scope=row>MFGEKIND</th><td>MFGEKIND  </td><td> 0.9906906</td></tr>\n",
       "\t<tr><th scope=row>MAUT0</th><td>MAUT0     </td><td> 0.8443582</td></tr>\n",
       "\t<tr><th scope=row>MGEMOMV</th><td>MGEMOMV   </td><td> 0.8411991</td></tr>\n",
       "\t<tr><th scope=row>MHKOOP</th><td>MHKOOP    </td><td> 0.8073334</td></tr>\n",
       "\t<tr><th scope=row>...</th><td>...</td><td>...</td></tr>\n",
       "\t<tr><th scope=row>PAANHANG</th><td>PAANHANG</td><td>0       </td></tr>\n",
       "\t<tr><th scope=row>PTRACTOR</th><td>PTRACTOR</td><td>0       </td></tr>\n",
       "\t<tr><th scope=row>PWERKT</th><td>PWERKT  </td><td>0       </td></tr>\n",
       "\t<tr><th scope=row>PBROM</th><td>PBROM   </td><td>0       </td></tr>\n",
       "\t<tr><th scope=row>PPERSONG</th><td>PPERSONG</td><td>0       </td></tr>\n",
       "\t<tr><th scope=row>PGEZONG</th><td>PGEZONG </td><td>0       </td></tr>\n",
       "\t<tr><th scope=row>PWAOREG</th><td>PWAOREG </td><td>0       </td></tr>\n",
       "\t<tr><th scope=row>PZEILPL</th><td>PZEILPL </td><td>0       </td></tr>\n",
       "\t<tr><th scope=row>PPLEZIER</th><td>PPLEZIER</td><td>0       </td></tr>\n",
       "\t<tr><th scope=row>PFIETS</th><td>PFIETS  </td><td>0       </td></tr>\n",
       "\t<tr><th scope=row>PINBOED</th><td>PINBOED </td><td>0       </td></tr>\n",
       "\t<tr><th scope=row>AWAPART</th><td>AWAPART </td><td>0       </td></tr>\n",
       "\t<tr><th scope=row>AWABEDR</th><td>AWABEDR </td><td>0       </td></tr>\n",
       "\t<tr><th scope=row>AWALAND</th><td>AWALAND </td><td>0       </td></tr>\n",
       "\t<tr><th scope=row>ABESAUT</th><td>ABESAUT </td><td>0       </td></tr>\n",
       "\t<tr><th scope=row>AMOTSCO</th><td>AMOTSCO </td><td>0       </td></tr>\n",
       "\t<tr><th scope=row>AVRAAUT</th><td>AVRAAUT </td><td>0       </td></tr>\n",
       "\t<tr><th scope=row>AAANHANG</th><td>AAANHANG</td><td>0       </td></tr>\n",
       "\t<tr><th scope=row>ATRACTOR</th><td>ATRACTOR</td><td>0       </td></tr>\n",
       "\t<tr><th scope=row>AWERKT</th><td>AWERKT  </td><td>0       </td></tr>\n",
       "\t<tr><th scope=row>ABROM</th><td>ABROM   </td><td>0       </td></tr>\n",
       "\t<tr><th scope=row>ALEVEN</th><td>ALEVEN  </td><td>0       </td></tr>\n",
       "\t<tr><th scope=row>APERSONG</th><td>APERSONG</td><td>0       </td></tr>\n",
       "\t<tr><th scope=row>AGEZONG</th><td>AGEZONG </td><td>0       </td></tr>\n",
       "\t<tr><th scope=row>AWAOREG</th><td>AWAOREG </td><td>0       </td></tr>\n",
       "\t<tr><th scope=row>AZEILPL</th><td>AZEILPL </td><td>0       </td></tr>\n",
       "\t<tr><th scope=row>APLEZIER</th><td>APLEZIER</td><td>0       </td></tr>\n",
       "\t<tr><th scope=row>AFIETS</th><td>AFIETS  </td><td>0       </td></tr>\n",
       "\t<tr><th scope=row>AINBOED</th><td>AINBOED </td><td>0       </td></tr>\n",
       "\t<tr><th scope=row>ABYSTAND</th><td>ABYSTAND</td><td>0       </td></tr>\n",
       "</tbody>\n",
       "</table>\n"
      ],
      "text/latex": [
       "\\begin{tabular}{r|ll}\n",
       "  & var & rel.inf\\\\\n",
       "\\hline\n",
       "\tPPERSAUT & PPERSAUT   & 14.5828317\\\\\n",
       "\tMKOOPKLA & MKOOPKLA   &  9.8770592\\\\\n",
       "\tMOPLHOOG & MOPLHOOG   &  7.4183828\\\\\n",
       "\tMBERMIDD & MBERMIDD   &  6.3755271\\\\\n",
       "\tPBRAND & PBRAND     &  4.9602772\\\\\n",
       "\tMINK3045 & MINK3045   &  4.8791011\\\\\n",
       "\tMGODGE & MGODGE     &  4.4770476\\\\\n",
       "\tABRAND & ABRAND     &  4.4327638\\\\\n",
       "\tMOSTYPE & MOSTYPE    &  2.8147814\\\\\n",
       "\tMSKA & MSKA       &  2.6981273\\\\\n",
       "\tMSKC & MSKC       &  2.4511142\\\\\n",
       "\tMAUT2 & MAUT2      &  2.4088911\\\\\n",
       "\tMBERARBG & MBERARBG   &  2.0867323\\\\\n",
       "\tPWAPART & PWAPART    &  1.9348492\\\\\n",
       "\tPBYSTAND & PBYSTAND   &  1.8769458\\\\\n",
       "\tMAUT1 & MAUT1      &  1.7886616\\\\\n",
       "\tMGODPR & MGODPR     &  1.7766628\\\\\n",
       "\tMINKGEM & MINKGEM    &  1.5605146\\\\\n",
       "\tMSKB1 & MSKB1      &  1.4217432\\\\\n",
       "\tMRELGE & MRELGE     &  1.3871847\\\\\n",
       "\tMFWEKIND & MFWEKIND   &  1.3623284\\\\\n",
       "\tMINKM30 & MINKM30    &  1.1966095\\\\\n",
       "\tMGODOV & MGODOV     &  1.1589462\\\\\n",
       "\tMINK7512 & MINK7512   &  1.1126305\\\\\n",
       "\tMBERHOOG & MBERHOOG   &  1.0533186\\\\\n",
       "\tMRELOV & MRELOV     &  1.0514532\\\\\n",
       "\tMFGEKIND & MFGEKIND   &  0.9906906\\\\\n",
       "\tMAUT0 & MAUT0      &  0.8443582\\\\\n",
       "\tMGEMOMV & MGEMOMV    &  0.8411991\\\\\n",
       "\tMHKOOP & MHKOOP     &  0.8073334\\\\\n",
       "\t... & ... & ...\\\\\n",
       "\tPAANHANG & PAANHANG & 0       \\\\\n",
       "\tPTRACTOR & PTRACTOR & 0       \\\\\n",
       "\tPWERKT & PWERKT   & 0       \\\\\n",
       "\tPBROM & PBROM    & 0       \\\\\n",
       "\tPPERSONG & PPERSONG & 0       \\\\\n",
       "\tPGEZONG & PGEZONG  & 0       \\\\\n",
       "\tPWAOREG & PWAOREG  & 0       \\\\\n",
       "\tPZEILPL & PZEILPL  & 0       \\\\\n",
       "\tPPLEZIER & PPLEZIER & 0       \\\\\n",
       "\tPFIETS & PFIETS   & 0       \\\\\n",
       "\tPINBOED & PINBOED  & 0       \\\\\n",
       "\tAWAPART & AWAPART  & 0       \\\\\n",
       "\tAWABEDR & AWABEDR  & 0       \\\\\n",
       "\tAWALAND & AWALAND  & 0       \\\\\n",
       "\tABESAUT & ABESAUT  & 0       \\\\\n",
       "\tAMOTSCO & AMOTSCO  & 0       \\\\\n",
       "\tAVRAAUT & AVRAAUT  & 0       \\\\\n",
       "\tAAANHANG & AAANHANG & 0       \\\\\n",
       "\tATRACTOR & ATRACTOR & 0       \\\\\n",
       "\tAWERKT & AWERKT   & 0       \\\\\n",
       "\tABROM & ABROM    & 0       \\\\\n",
       "\tALEVEN & ALEVEN   & 0       \\\\\n",
       "\tAPERSONG & APERSONG & 0       \\\\\n",
       "\tAGEZONG & AGEZONG  & 0       \\\\\n",
       "\tAWAOREG & AWAOREG  & 0       \\\\\n",
       "\tAZEILPL & AZEILPL  & 0       \\\\\n",
       "\tAPLEZIER & APLEZIER & 0       \\\\\n",
       "\tAFIETS & AFIETS   & 0       \\\\\n",
       "\tAINBOED & AINBOED  & 0       \\\\\n",
       "\tABYSTAND & ABYSTAND & 0       \\\\\n",
       "\\end{tabular}\n"
      ],
      "text/markdown": [
       "\n",
       "| <!--/--> | var | rel.inf |\n",
       "|---|---|---|\n",
       "| PPERSAUT | PPERSAUT   | 14.5828317 |\n",
       "| MKOOPKLA | MKOOPKLA   |  9.8770592 |\n",
       "| MOPLHOOG | MOPLHOOG   |  7.4183828 |\n",
       "| MBERMIDD | MBERMIDD   |  6.3755271 |\n",
       "| PBRAND | PBRAND     |  4.9602772 |\n",
       "| MINK3045 | MINK3045   |  4.8791011 |\n",
       "| MGODGE | MGODGE     |  4.4770476 |\n",
       "| ABRAND | ABRAND     |  4.4327638 |\n",
       "| MOSTYPE | MOSTYPE    |  2.8147814 |\n",
       "| MSKA | MSKA       |  2.6981273 |\n",
       "| MSKC | MSKC       |  2.4511142 |\n",
       "| MAUT2 | MAUT2      |  2.4088911 |\n",
       "| MBERARBG | MBERARBG   |  2.0867323 |\n",
       "| PWAPART | PWAPART    |  1.9348492 |\n",
       "| PBYSTAND | PBYSTAND   |  1.8769458 |\n",
       "| MAUT1 | MAUT1      |  1.7886616 |\n",
       "| MGODPR | MGODPR     |  1.7766628 |\n",
       "| MINKGEM | MINKGEM    |  1.5605146 |\n",
       "| MSKB1 | MSKB1      |  1.4217432 |\n",
       "| MRELGE | MRELGE     |  1.3871847 |\n",
       "| MFWEKIND | MFWEKIND   |  1.3623284 |\n",
       "| MINKM30 | MINKM30    |  1.1966095 |\n",
       "| MGODOV | MGODOV     |  1.1589462 |\n",
       "| MINK7512 | MINK7512   |  1.1126305 |\n",
       "| MBERHOOG | MBERHOOG   |  1.0533186 |\n",
       "| MRELOV | MRELOV     |  1.0514532 |\n",
       "| MFGEKIND | MFGEKIND   |  0.9906906 |\n",
       "| MAUT0 | MAUT0      |  0.8443582 |\n",
       "| MGEMOMV | MGEMOMV    |  0.8411991 |\n",
       "| MHKOOP | MHKOOP     |  0.8073334 |\n",
       "| ... | ... | ... |\n",
       "| PAANHANG | PAANHANG | 0        |\n",
       "| PTRACTOR | PTRACTOR | 0        |\n",
       "| PWERKT | PWERKT   | 0        |\n",
       "| PBROM | PBROM    | 0        |\n",
       "| PPERSONG | PPERSONG | 0        |\n",
       "| PGEZONG | PGEZONG  | 0        |\n",
       "| PWAOREG | PWAOREG  | 0        |\n",
       "| PZEILPL | PZEILPL  | 0        |\n",
       "| PPLEZIER | PPLEZIER | 0        |\n",
       "| PFIETS | PFIETS   | 0        |\n",
       "| PINBOED | PINBOED  | 0        |\n",
       "| AWAPART | AWAPART  | 0        |\n",
       "| AWABEDR | AWABEDR  | 0        |\n",
       "| AWALAND | AWALAND  | 0        |\n",
       "| ABESAUT | ABESAUT  | 0        |\n",
       "| AMOTSCO | AMOTSCO  | 0        |\n",
       "| AVRAAUT | AVRAAUT  | 0        |\n",
       "| AAANHANG | AAANHANG | 0        |\n",
       "| ATRACTOR | ATRACTOR | 0        |\n",
       "| AWERKT | AWERKT   | 0        |\n",
       "| ABROM | ABROM    | 0        |\n",
       "| ALEVEN | ALEVEN   | 0        |\n",
       "| APERSONG | APERSONG | 0        |\n",
       "| AGEZONG | AGEZONG  | 0        |\n",
       "| AWAOREG | AWAOREG  | 0        |\n",
       "| AZEILPL | AZEILPL  | 0        |\n",
       "| APLEZIER | APLEZIER | 0        |\n",
       "| AFIETS | AFIETS   | 0        |\n",
       "| AINBOED | AINBOED  | 0        |\n",
       "| ABYSTAND | ABYSTAND | 0        |\n",
       "\n"
      ],
      "text/plain": [
       "         var      rel.inf   \n",
       "PPERSAUT PPERSAUT 14.5828317\n",
       "MKOOPKLA MKOOPKLA  9.8770592\n",
       "MOPLHOOG MOPLHOOG  7.4183828\n",
       "MBERMIDD MBERMIDD  6.3755271\n",
       "PBRAND   PBRAND    4.9602772\n",
       "MINK3045 MINK3045  4.8791011\n",
       "MGODGE   MGODGE    4.4770476\n",
       "ABRAND   ABRAND    4.4327638\n",
       "MOSTYPE  MOSTYPE   2.8147814\n",
       "MSKA     MSKA      2.6981273\n",
       "MSKC     MSKC      2.4511142\n",
       "MAUT2    MAUT2     2.4088911\n",
       "MBERARBG MBERARBG  2.0867323\n",
       "PWAPART  PWAPART   1.9348492\n",
       "PBYSTAND PBYSTAND  1.8769458\n",
       "MAUT1    MAUT1     1.7886616\n",
       "MGODPR   MGODPR    1.7766628\n",
       "MINKGEM  MINKGEM   1.5605146\n",
       "MSKB1    MSKB1     1.4217432\n",
       "MRELGE   MRELGE    1.3871847\n",
       "MFWEKIND MFWEKIND  1.3623284\n",
       "MINKM30  MINKM30   1.1966095\n",
       "MGODOV   MGODOV    1.1589462\n",
       "MINK7512 MINK7512  1.1126305\n",
       "MBERHOOG MBERHOOG  1.0533186\n",
       "MRELOV   MRELOV    1.0514532\n",
       "MFGEKIND MFGEKIND  0.9906906\n",
       "MAUT0    MAUT0     0.8443582\n",
       "MGEMOMV  MGEMOMV   0.8411991\n",
       "MHKOOP   MHKOOP    0.8073334\n",
       "...      ...      ...       \n",
       "PAANHANG PAANHANG 0         \n",
       "PTRACTOR PTRACTOR 0         \n",
       "PWERKT   PWERKT   0         \n",
       "PBROM    PBROM    0         \n",
       "PPERSONG PPERSONG 0         \n",
       "PGEZONG  PGEZONG  0         \n",
       "PWAOREG  PWAOREG  0         \n",
       "PZEILPL  PZEILPL  0         \n",
       "PPLEZIER PPLEZIER 0         \n",
       "PFIETS   PFIETS   0         \n",
       "PINBOED  PINBOED  0         \n",
       "AWAPART  AWAPART  0         \n",
       "AWABEDR  AWABEDR  0         \n",
       "AWALAND  AWALAND  0         \n",
       "ABESAUT  ABESAUT  0         \n",
       "AMOTSCO  AMOTSCO  0         \n",
       "AVRAAUT  AVRAAUT  0         \n",
       "AAANHANG AAANHANG 0         \n",
       "ATRACTOR ATRACTOR 0         \n",
       "AWERKT   AWERKT   0         \n",
       "ABROM    ABROM    0         \n",
       "ALEVEN   ALEVEN   0         \n",
       "APERSONG APERSONG 0         \n",
       "AGEZONG  AGEZONG  0         \n",
       "AWAOREG  AWAOREG  0         \n",
       "AZEILPL  AZEILPL  0         \n",
       "APLEZIER APLEZIER 0         \n",
       "AFIETS   AFIETS   0         \n",
       "AINBOED  AINBOED  0         \n",
       "ABYSTAND ABYSTAND 0         "
      ]
     },
     "metadata": {},
     "output_type": "display_data"
    },
    {
     "data": {
      "image/png": "[encoded data removed]",
      "text/plain": [
       "plot without title"
      ]
     },
     "metadata": {},
     "output_type": "display_data"
    }
   ],
   "source": [
    "summary(caravan.boost)"
   ]
  },
  {
   "cell_type": "markdown",
   "metadata": {},
   "source": [
    "From total of 86 predictors the following top 5 are the best predictors according to boosted model:\n",
    "\n",
    "1. `PPERSAUT` - Contribution car policies\n",
    "2. `MKOOPKLA` - Purchasing power class\n",
    "3. `MOPLHOOG` - High level education\n",
    "4. `MBERMIDD` - Middle management\n",
    "5. `PBRAND` - Contribution fire policies"
   ]
  },
  {
   "cell_type": "markdown",
   "metadata": {},
   "source": [
    "### Step (C)\n",
    "\n",
    "> Use the boosting model to predict the response on the test data. Predict that a person will make a purchase if the estimated probability of purchase is greater than 20 %. Form a confusion matrix. What fraction of the people predicted to make a purchase\n",
    "do in fact make one? How does this compare with the results obtained from applying KNN or logistic regression to this data set?"
   ]
  },
  {
   "cell_type": "markdown",
   "metadata": {},
   "source": [
    "Let's first try the boosted model."
   ]
  },
  {
   "cell_type": "code",
   "execution_count": 27,
   "metadata": {},
   "outputs": [
    {
     "data": {
      "text/plain": [
       "   car.boost.pred\n",
       "       0    1\n",
       "  0 4408  125\n",
       "  1  258   31"
      ]
     },
     "metadata": {},
     "output_type": "display_data"
    }
   ],
   "source": [
    "# make predictions using boosted model (probabilities)\n",
    "car.boost.prob = predict(caravan.boost, newdata=test, n.trees=1000, type=\"response\")\n",
    "\n",
    "# convert probabilities to outcome based on 0.2 threshold\n",
    "car.boost.pred = ifelse(car.boost.prob > 0.2, 1, 0)\n",
    "\n",
    "# check confusion matrix\n",
    "conf.matrix.boost = table(test$Purchase, car.boost.pred)\n",
    "conf.matrix.boost"
   ]
  },
  {
   "cell_type": "code",
   "execution_count": 28,
   "metadata": {},
   "outputs": [
    {
     "data": {
      "text/html": [
       "'Precision for Boosted Model is 11 %'"
      ],
      "text/latex": [
       "'Precision for Boosted Model is 11 \\%'"
      ],
      "text/markdown": [
       "'Precision for Boosted Model is 11 %'"
      ],
      "text/plain": [
       "[1] \"Precision for Boosted Model is 11 %\""
      ]
     },
     "metadata": {},
     "output_type": "display_data"
    },
    {
     "data": {
      "text/html": [
       "'Accuracy of Boosted Model is 92 %'"
      ],
      "text/latex": [
       "'Accuracy of Boosted Model is 92 \\%'"
      ],
      "text/markdown": [
       "'Accuracy of Boosted Model is 92 %'"
      ],
      "text/plain": [
       "[1] \"Accuracy of Boosted Model is 92 %\""
      ]
     },
     "metadata": {},
     "output_type": "display_data"
    }
   ],
   "source": [
    "paste(\"Precision for Boosted Model is\", round(conf.matrix.boost[4] / sum(conf.matrix.boost[c(2, 4)]), 2) * 100, \"%\")\n",
    "paste(\"Accuracy of Boosted Model is\", round(sum(conf.matrix.boost[c(1, 4)]) / sum(conf.matrix.boost), 2) * 100, \"%\")"
   ]
  },
  {
   "cell_type": "markdown",
   "metadata": {},
   "source": [
    "The boosted model predicts that 12% of people predicted to make a purchase actually made one.\n",
    "\n",
    "Let's try applying KNN and logistic regression to compare results."
   ]
  },
  {
   "cell_type": "code",
   "execution_count": 14,
   "metadata": {},
   "outputs": [
    {
     "data": {
      "text/plain": [
       "   car.knn.pred\n",
       "       0    1\n",
       "  0 4519   14\n",
       "  1  287    2"
      ]
     },
     "metadata": {},
     "output_type": "display_data"
    }
   ],
   "source": [
    "# load class library for knn\n",
    "library(class)\n",
    "\n",
    "# make predictions from knn\n",
    "car.knn.pred = knn(train, test, cl=train[, \"Purchase\"], k=7)\n",
    "\n",
    "# check confusion matrix\n",
    "conf.matrix.knn = table(test[,\"Purchase\"], car.knn.pred)\n",
    "conf.matrix.knn"
   ]
  },
  {
   "cell_type": "code",
   "execution_count": 15,
   "metadata": {},
   "outputs": [
    {
     "data": {
      "text/html": [
       "'Precision for KNN Model is 1 %'"
      ],
      "text/latex": [
       "'Precision for KNN Model is 1 \\%'"
      ],
      "text/markdown": [
       "'Precision for KNN Model is 1 %'"
      ],
      "text/plain": [
       "[1] \"Precision for KNN Model is 1 %\""
      ]
     },
     "metadata": {},
     "output_type": "display_data"
    },
    {
     "data": {
      "text/html": [
       "'Accuracy of KNN Model is 94 %'"
      ],
      "text/latex": [
       "'Accuracy of KNN Model is 94 \\%'"
      ],
      "text/markdown": [
       "'Accuracy of KNN Model is 94 %'"
      ],
      "text/plain": [
       "[1] \"Accuracy of KNN Model is 94 %\""
      ]
     },
     "metadata": {},
     "output_type": "display_data"
    }
   ],
   "source": [
    "paste(\"Precision for KNN Model is\", round(conf.matrix.knn[4] / sum(conf.matrix.knn[c(2, 4)]), 2) * 100, \"%\")\n",
    "paste(\"Accuracy of KNN Model is\", round(sum(conf.matrix.knn[c(1, 4)]) / sum(conf.matrix.knn), 2) * 100, \"%\")"
   ]
  },
  {
   "cell_type": "markdown",
   "metadata": {},
   "source": [
    "We can observe that KNN is performing worse when it comes to correctly predicting customers who make purchase out of all predicted values (precision) knn is performing quite bad.\n",
    "\n",
    "Next, let's try logistic regression."
   ]
  },
  {
   "cell_type": "code",
   "execution_count": 16,
   "metadata": {},
   "outputs": [
    {
     "name": "stderr",
     "output_type": "stream",
     "text": [
      "Warning message:\n",
      "\"glm.fit: fitted probabilities numerically 0 or 1 occurred\"Warning message in predict.lm(object, newdata, se.fit, scale = 1, type = ifelse(type == :\n",
      "\"prediction from a rank-deficient fit may be misleading\""
     ]
    },
    {
     "data": {
      "text/plain": [
       "   car.log.pred\n",
       "       0    1\n",
       "  0 4183  350\n",
       "  1  231   58"
      ]
     },
     "metadata": {},
     "output_type": "display_data"
    }
   ],
   "source": [
    "# generate logistic regression model\n",
    "car.log.model = glm(Purchase~., data=train, family=binomial)\n",
    "\n",
    "# make predictions\n",
    "car.log.prob = predict(car.log.model, test, type=\"response\")\n",
    "\n",
    "# convert to binary\n",
    "car.log.pred = ifelse(car.log.prob > 0.2, 1, 0)\n",
    "\n",
    "# check confusion matrix\n",
    "conf.matrix.log = table(test[,\"Purchase\"], car.log.pred)\n",
    "conf.matrix.log"
   ]
  },
  {
   "cell_type": "code",
   "execution_count": 17,
   "metadata": {},
   "outputs": [
    {
     "data": {
      "text/html": [
       "'Precision for Logistic Regression Model is 20 %'"
      ],
      "text/latex": [
       "'Precision for Logistic Regression Model is 20 \\%'"
      ],
      "text/markdown": [
       "'Precision for Logistic Regression Model is 20 %'"
      ],
      "text/plain": [
       "[1] \"Precision for Logistic Regression Model is 20 %\""
      ]
     },
     "metadata": {},
     "output_type": "display_data"
    },
    {
     "data": {
      "text/html": [
       "'Accuracy of Logistics Regression Model is 88 %'"
      ],
      "text/latex": [
       "'Accuracy of Logistics Regression Model is 88 \\%'"
      ],
      "text/markdown": [
       "'Accuracy of Logistics Regression Model is 88 %'"
      ],
      "text/plain": [
       "[1] \"Accuracy of Logistics Regression Model is 88 %\""
      ]
     },
     "metadata": {},
     "output_type": "display_data"
    }
   ],
   "source": [
    "paste(\"Precision for Logistic Regression Model is\", round(conf.matrix.log[4] / sum(conf.matrix.log[c(2, 4)]), 2) * 100, \"%\")\n",
    "paste(\"Accuracy of Logistics Regression Model is\", round(sum(conf.matrix.log[c(1, 4)]) / sum(conf.matrix.log), 2) * 100, \"%\")"
   ]
  },
  {
   "cell_type": "markdown",
   "metadata": {},
   "source": [
    "Based on the above results, we can see that the Logistic Regression model has performed much better when it comes to our desired metric - Precision."
   ]
  }
 ],
 "metadata": {
  "kernelspec": {
   "display_name": "R",
   "language": "R",
   "name": "ir"
  },
  "language_info": {
   "codemirror_mode": "r",
   "file_extension": ".r",
   "mimetype": "text/x-r-source",
   "name": "R",
   "pygments_lexer": "r",
   "version": "3.5.3"
  }
 },
 "nbformat": 4,
 "nbformat_minor": 2
}
